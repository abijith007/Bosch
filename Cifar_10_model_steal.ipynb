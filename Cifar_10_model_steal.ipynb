{
  "nbformat": 4,
  "nbformat_minor": 0,
  "metadata": {
    "accelerator": "GPU",
    "colab": {
      "name": "Cifar-10 model steal.ipynb",
      "provenance": [],
      "collapsed_sections": [],
      "authorship_tag": "ABX9TyOTWnLnReQqPZU1AzdVbfk6",
      "include_colab_link": true
    },
    "kernelspec": {
      "display_name": "Python 3",
      "name": "python3"
    },
    "language_info": {
      "name": "python"
    }
  },
  "cells": [
    {
      "cell_type": "markdown",
      "metadata": {
        "id": "view-in-github",
        "colab_type": "text"
      },
      "source": [
        "<a href=\"https://colab.research.google.com/github/abijith007/Bosch/blob/main/Cifar_10_model_steal.ipynb\" target=\"_parent\"><img src=\"https://colab.research.google.com/assets/colab-badge.svg\" alt=\"Open In Colab\"/></a>"
      ]
    },
    {
      "cell_type": "code",
      "metadata": {
        "id": "tYnwsC9-jzVG"
      },
      "source": [
        "import numpy\n",
        "from keras.models import Sequential\n",
        "from keras.layers import Dense,Dropout,Flatten,Conv2D,MaxPooling2D\n",
        "from keras.constraints import maxnorm\n",
        "from keras.optimizers import SGD\n",
        "from keras.utils import np_utils \n",
        "from keras import backend as K \n"
      ],
      "execution_count": 1,
      "outputs": []
    },
    {
      "cell_type": "code",
      "metadata": {
        "id": "IXwkHKhRj_eI",
        "colab": {
          "base_uri": "https://localhost:8080/"
        },
        "outputId": "7b19f52c-a093-4b99-9572-69eb6800d89c"
      },
      "source": [
        "from keras.datasets import cifar10\n",
        "# let's load data \n",
        "(X_train, y_train), (X_test, y_test) = cifar10.load_data()"
      ],
      "execution_count": 2,
      "outputs": [
        {
          "output_type": "stream",
          "text": [
            "Downloading data from https://www.cs.toronto.edu/~kriz/cifar-10-python.tar.gz\n",
            "170500096/170498071 [==============================] - 6s 0us/step\n"
          ],
          "name": "stdout"
        }
      ]
    },
    {
      "cell_type": "code",
      "metadata": {
        "id": "fZ4GOVfTj_o3"
      },
      "source": [
        "#normalizing inputs from 0-255 to 0.0-1.0 \n",
        "X_train = X_train.astype('float32') \n",
        "X_test = X_test.astype('float32') \n",
        "X_train = X_train / 255.0 \n",
        "X_test = X_test / 255.0"
      ],
      "execution_count": 3,
      "outputs": []
    },
    {
      "cell_type": "code",
      "metadata": {
        "id": "e6yUpIdmj_rf"
      },
      "source": [
        "# one hot encode outputs \n",
        "y_train = np_utils.to_categorical(y_train) \n",
        "y_test = np_utils.to_categorical(y_test) \n",
        "num_classes = y_test.shape[1]"
      ],
      "execution_count": 4,
      "outputs": []
    },
    {
      "cell_type": "code",
      "metadata": {
        "id": "-XaFjgwjj_tq"
      },
      "source": [
        "# Create the model \n",
        "model = Sequential()\n",
        "model.add(Conv2D(32, (3, 3), input_shape=(32,32,3), activation='relu', padding='same')) \n",
        "model.add(Dropout(0.2)) \n",
        "model.add(Conv2D(32, (3, 3), activation='relu', padding='same')) \n",
        "model.add(MaxPooling2D(pool_size=(2, 2))) \n",
        "model.add(Conv2D(64, (3, 3), activation='relu', padding='same')) \n",
        "model.add(Dropout(0.2)) \n",
        "model.add(Conv2D(64, (3, 3), activation='relu', padding='same')) \n",
        "model.add(MaxPooling2D(pool_size=(2, 2))) \n",
        "model.add(Conv2D(128, (3, 3), activation='relu', padding='same')) \n",
        "model.add(Dropout(0.2)) \n",
        "model.add(Conv2D(128, (3, 3), activation='relu', padding='same')) \n",
        "model.add(MaxPooling2D(pool_size=(2, 2))) \n",
        "model.add(Flatten()) \n",
        "model.add(Dropout(0.2)) \n",
        "model.add(Dense(1024, activation='relu', kernel_constraint=maxnorm(3))) \n",
        "model.add(Dropout(0.2)) \n",
        "model.add(Dense(512, activation='relu', kernel_constraint=maxnorm(3))) \n",
        "model.add(Dropout(0.2)) \n",
        "model.add(Dense(num_classes, activation='softmax'))"
      ],
      "execution_count": 5,
      "outputs": []
    },
    {
      "cell_type": "code",
      "metadata": {
        "id": "JrhGuK0fmTgx",
        "colab": {
          "base_uri": "https://localhost:8080/"
        },
        "outputId": "7c866920-3053-467b-c56d-d916f35176cf"
      },
      "source": [
        "print(model.summary())"
      ],
      "execution_count": 6,
      "outputs": [
        {
          "output_type": "stream",
          "text": [
            "Model: \"sequential\"\n",
            "_________________________________________________________________\n",
            "Layer (type)                 Output Shape              Param #   \n",
            "=================================================================\n",
            "conv2d (Conv2D)              (None, 32, 32, 32)        896       \n",
            "_________________________________________________________________\n",
            "dropout (Dropout)            (None, 32, 32, 32)        0         \n",
            "_________________________________________________________________\n",
            "conv2d_1 (Conv2D)            (None, 32, 32, 32)        9248      \n",
            "_________________________________________________________________\n",
            "max_pooling2d (MaxPooling2D) (None, 16, 16, 32)        0         \n",
            "_________________________________________________________________\n",
            "conv2d_2 (Conv2D)            (None, 16, 16, 64)        18496     \n",
            "_________________________________________________________________\n",
            "dropout_1 (Dropout)          (None, 16, 16, 64)        0         \n",
            "_________________________________________________________________\n",
            "conv2d_3 (Conv2D)            (None, 16, 16, 64)        36928     \n",
            "_________________________________________________________________\n",
            "max_pooling2d_1 (MaxPooling2 (None, 8, 8, 64)          0         \n",
            "_________________________________________________________________\n",
            "conv2d_4 (Conv2D)            (None, 8, 8, 128)         73856     \n",
            "_________________________________________________________________\n",
            "dropout_2 (Dropout)          (None, 8, 8, 128)         0         \n",
            "_________________________________________________________________\n",
            "conv2d_5 (Conv2D)            (None, 8, 8, 128)         147584    \n",
            "_________________________________________________________________\n",
            "max_pooling2d_2 (MaxPooling2 (None, 4, 4, 128)         0         \n",
            "_________________________________________________________________\n",
            "flatten (Flatten)            (None, 2048)              0         \n",
            "_________________________________________________________________\n",
            "dropout_3 (Dropout)          (None, 2048)              0         \n",
            "_________________________________________________________________\n",
            "dense (Dense)                (None, 1024)              2098176   \n",
            "_________________________________________________________________\n",
            "dropout_4 (Dropout)          (None, 1024)              0         \n",
            "_________________________________________________________________\n",
            "dense_1 (Dense)              (None, 512)               524800    \n",
            "_________________________________________________________________\n",
            "dropout_5 (Dropout)          (None, 512)               0         \n",
            "_________________________________________________________________\n",
            "dense_2 (Dense)              (None, 10)                5130      \n",
            "=================================================================\n",
            "Total params: 2,915,114\n",
            "Trainable params: 2,915,114\n",
            "Non-trainable params: 0\n",
            "_________________________________________________________________\n",
            "None\n"
          ],
          "name": "stdout"
        }
      ]
    },
    {
      "cell_type": "code",
      "metadata": {
        "id": "DqRL5OHomTjX"
      },
      "source": [
        "# Compile model \n",
        "lrate = 0.01 \n",
        "epochs = 100\n",
        "decay = lrate/epochs \n",
        "sgd = SGD(lr=lrate, momentum=0.9, decay=decay, nesterov=False) \n",
        "model.compile(loss='categorical_crossentropy', optimizer=sgd, metrics=['accuracy'])"
      ],
      "execution_count": 7,
      "outputs": []
    },
    {
      "cell_type": "code",
      "metadata": {
        "colab": {
          "base_uri": "https://localhost:8080/"
        },
        "id": "vW3MxmMUmTlx",
        "outputId": "4812f46d-a3e2-4b46-9141-1ebcce3c8671"
      },
      "source": [
        "model.fit(X_train, y_train, validation_data=(X_test, y_test), epochs=100, batch_size=32) \n",
        "# Final evaluation of the model \n",
        "scores = model.evaluate(X_test, y_test, verbose=1) \n",
        "print(\"Accuracy: %.2f%%\" % (scores[1]*100))"
      ],
      "execution_count": 8,
      "outputs": [
        {
          "output_type": "stream",
          "text": [
            "Epoch 1/100\n",
            "1563/1563 [==============================] - 60s 19ms/step - loss: 2.0612 - accuracy: 0.2305 - val_loss: 1.5291 - val_accuracy: 0.4414\n",
            "Epoch 2/100\n",
            "1563/1563 [==============================] - 29s 19ms/step - loss: 1.4841 - accuracy: 0.4620 - val_loss: 1.2667 - val_accuracy: 0.5344\n",
            "Epoch 3/100\n",
            "1563/1563 [==============================] - 29s 19ms/step - loss: 1.2629 - accuracy: 0.5402 - val_loss: 1.1078 - val_accuracy: 0.6009\n",
            "Epoch 4/100\n",
            "1563/1563 [==============================] - 30s 19ms/step - loss: 1.0735 - accuracy: 0.6181 - val_loss: 0.9527 - val_accuracy: 0.6626\n",
            "Epoch 5/100\n",
            "1563/1563 [==============================] - 30s 19ms/step - loss: 0.9512 - accuracy: 0.6642 - val_loss: 0.8690 - val_accuracy: 0.6976\n",
            "Epoch 6/100\n",
            "1563/1563 [==============================] - 29s 19ms/step - loss: 0.8224 - accuracy: 0.7082 - val_loss: 0.8258 - val_accuracy: 0.7134\n",
            "Epoch 7/100\n",
            "1563/1563 [==============================] - 29s 19ms/step - loss: 0.7513 - accuracy: 0.7352 - val_loss: 0.7565 - val_accuracy: 0.7352\n",
            "Epoch 8/100\n",
            "1563/1563 [==============================] - 29s 19ms/step - loss: 0.6911 - accuracy: 0.7574 - val_loss: 0.7410 - val_accuracy: 0.7429\n",
            "Epoch 9/100\n",
            "1563/1563 [==============================] - 29s 19ms/step - loss: 0.6266 - accuracy: 0.7797 - val_loss: 0.6957 - val_accuracy: 0.7635\n",
            "Epoch 10/100\n",
            "1563/1563 [==============================] - 29s 19ms/step - loss: 0.5685 - accuracy: 0.7978 - val_loss: 0.6768 - val_accuracy: 0.7660\n",
            "Epoch 11/100\n",
            "1563/1563 [==============================] - 29s 19ms/step - loss: 0.5253 - accuracy: 0.8165 - val_loss: 0.6833 - val_accuracy: 0.7699\n",
            "Epoch 12/100\n",
            "1563/1563 [==============================] - 29s 19ms/step - loss: 0.4787 - accuracy: 0.8299 - val_loss: 0.6396 - val_accuracy: 0.7803\n",
            "Epoch 13/100\n",
            "1563/1563 [==============================] - 29s 19ms/step - loss: 0.4420 - accuracy: 0.8423 - val_loss: 0.6544 - val_accuracy: 0.7850\n",
            "Epoch 14/100\n",
            "1563/1563 [==============================] - 29s 19ms/step - loss: 0.4178 - accuracy: 0.8509 - val_loss: 0.6250 - val_accuracy: 0.7917\n",
            "Epoch 15/100\n",
            "1563/1563 [==============================] - 29s 19ms/step - loss: 0.3766 - accuracy: 0.8662 - val_loss: 0.6400 - val_accuracy: 0.7877\n",
            "Epoch 16/100\n",
            "1563/1563 [==============================] - 29s 19ms/step - loss: 0.3566 - accuracy: 0.8708 - val_loss: 0.6379 - val_accuracy: 0.7915\n",
            "Epoch 17/100\n",
            "1563/1563 [==============================] - 29s 19ms/step - loss: 0.3326 - accuracy: 0.8797 - val_loss: 0.6606 - val_accuracy: 0.7936\n",
            "Epoch 18/100\n",
            "1563/1563 [==============================] - 29s 19ms/step - loss: 0.3033 - accuracy: 0.8915 - val_loss: 0.6413 - val_accuracy: 0.7984\n",
            "Epoch 19/100\n",
            "1563/1563 [==============================] - 29s 19ms/step - loss: 0.2851 - accuracy: 0.8980 - val_loss: 0.6763 - val_accuracy: 0.7879\n",
            "Epoch 20/100\n",
            "1563/1563 [==============================] - 29s 19ms/step - loss: 0.2636 - accuracy: 0.9047 - val_loss: 0.6723 - val_accuracy: 0.7967\n",
            "Epoch 21/100\n",
            "1563/1563 [==============================] - 29s 19ms/step - loss: 0.2469 - accuracy: 0.9117 - val_loss: 0.6537 - val_accuracy: 0.7980\n",
            "Epoch 22/100\n",
            "1563/1563 [==============================] - 29s 19ms/step - loss: 0.2222 - accuracy: 0.9192 - val_loss: 0.6572 - val_accuracy: 0.8019\n",
            "Epoch 23/100\n",
            "1563/1563 [==============================] - 29s 19ms/step - loss: 0.2147 - accuracy: 0.9251 - val_loss: 0.6773 - val_accuracy: 0.8087\n",
            "Epoch 24/100\n",
            "1563/1563 [==============================] - 29s 19ms/step - loss: 0.2014 - accuracy: 0.9275 - val_loss: 0.6696 - val_accuracy: 0.8036\n",
            "Epoch 25/100\n",
            "1563/1563 [==============================] - 29s 19ms/step - loss: 0.1885 - accuracy: 0.9317 - val_loss: 0.6767 - val_accuracy: 0.8068\n",
            "Epoch 26/100\n",
            "1563/1563 [==============================] - 29s 19ms/step - loss: 0.1726 - accuracy: 0.9376 - val_loss: 0.7061 - val_accuracy: 0.8039\n",
            "Epoch 27/100\n",
            "1563/1563 [==============================] - 29s 19ms/step - loss: 0.1725 - accuracy: 0.9386 - val_loss: 0.6810 - val_accuracy: 0.8049\n",
            "Epoch 28/100\n",
            "1563/1563 [==============================] - 29s 19ms/step - loss: 0.1561 - accuracy: 0.9455 - val_loss: 0.7214 - val_accuracy: 0.8058\n",
            "Epoch 29/100\n",
            "1563/1563 [==============================] - 29s 19ms/step - loss: 0.1504 - accuracy: 0.9471 - val_loss: 0.7035 - val_accuracy: 0.8052\n",
            "Epoch 30/100\n",
            "1563/1563 [==============================] - 29s 19ms/step - loss: 0.1516 - accuracy: 0.9467 - val_loss: 0.7083 - val_accuracy: 0.8095\n",
            "Epoch 31/100\n",
            "1563/1563 [==============================] - 29s 19ms/step - loss: 0.1341 - accuracy: 0.9522 - val_loss: 0.7188 - val_accuracy: 0.8129\n",
            "Epoch 32/100\n",
            "1563/1563 [==============================] - 29s 19ms/step - loss: 0.1313 - accuracy: 0.9529 - val_loss: 0.7466 - val_accuracy: 0.8057\n",
            "Epoch 33/100\n",
            "1563/1563 [==============================] - 29s 19ms/step - loss: 0.1262 - accuracy: 0.9560 - val_loss: 0.7309 - val_accuracy: 0.8121\n",
            "Epoch 34/100\n",
            "1563/1563 [==============================] - 29s 19ms/step - loss: 0.1225 - accuracy: 0.9577 - val_loss: 0.7382 - val_accuracy: 0.8110\n",
            "Epoch 35/100\n",
            "1563/1563 [==============================] - 30s 19ms/step - loss: 0.1152 - accuracy: 0.9597 - val_loss: 0.7807 - val_accuracy: 0.8032\n",
            "Epoch 36/100\n",
            "1563/1563 [==============================] - 29s 19ms/step - loss: 0.1103 - accuracy: 0.9607 - val_loss: 0.7587 - val_accuracy: 0.8096\n",
            "Epoch 37/100\n",
            "1563/1563 [==============================] - 29s 19ms/step - loss: 0.1007 - accuracy: 0.9651 - val_loss: 0.7688 - val_accuracy: 0.8141\n",
            "Epoch 38/100\n",
            "1563/1563 [==============================] - 29s 19ms/step - loss: 0.1047 - accuracy: 0.9643 - val_loss: 0.7937 - val_accuracy: 0.8101\n",
            "Epoch 39/100\n",
            "1563/1563 [==============================] - 29s 19ms/step - loss: 0.0947 - accuracy: 0.9674 - val_loss: 0.7896 - val_accuracy: 0.8118\n",
            "Epoch 40/100\n",
            "1563/1563 [==============================] - 29s 19ms/step - loss: 0.0936 - accuracy: 0.9675 - val_loss: 0.7846 - val_accuracy: 0.8114\n",
            "Epoch 41/100\n",
            "1563/1563 [==============================] - 29s 19ms/step - loss: 0.0872 - accuracy: 0.9698 - val_loss: 0.7862 - val_accuracy: 0.8120\n",
            "Epoch 42/100\n",
            "1563/1563 [==============================] - 29s 19ms/step - loss: 0.0856 - accuracy: 0.9703 - val_loss: 0.7819 - val_accuracy: 0.8170\n",
            "Epoch 43/100\n",
            "1563/1563 [==============================] - 29s 19ms/step - loss: 0.0805 - accuracy: 0.9719 - val_loss: 0.7924 - val_accuracy: 0.8121\n",
            "Epoch 44/100\n",
            "1563/1563 [==============================] - 29s 19ms/step - loss: 0.0805 - accuracy: 0.9713 - val_loss: 0.7942 - val_accuracy: 0.8116\n",
            "Epoch 45/100\n",
            "1563/1563 [==============================] - 29s 19ms/step - loss: 0.0768 - accuracy: 0.9736 - val_loss: 0.8071 - val_accuracy: 0.8127\n",
            "Epoch 46/100\n",
            "1563/1563 [==============================] - 29s 19ms/step - loss: 0.0815 - accuracy: 0.9723 - val_loss: 0.8090 - val_accuracy: 0.8126\n",
            "Epoch 47/100\n",
            "1563/1563 [==============================] - 29s 19ms/step - loss: 0.0726 - accuracy: 0.9749 - val_loss: 0.7961 - val_accuracy: 0.8153\n",
            "Epoch 48/100\n",
            "1563/1563 [==============================] - 29s 19ms/step - loss: 0.0683 - accuracy: 0.9765 - val_loss: 0.8322 - val_accuracy: 0.8129\n",
            "Epoch 49/100\n",
            "1563/1563 [==============================] - 29s 19ms/step - loss: 0.0712 - accuracy: 0.9746 - val_loss: 0.8108 - val_accuracy: 0.8192\n",
            "Epoch 50/100\n",
            "1563/1563 [==============================] - 29s 19ms/step - loss: 0.0673 - accuracy: 0.9761 - val_loss: 0.8225 - val_accuracy: 0.8143\n",
            "Epoch 51/100\n",
            "1563/1563 [==============================] - 29s 19ms/step - loss: 0.0678 - accuracy: 0.9761 - val_loss: 0.8145 - val_accuracy: 0.8187\n",
            "Epoch 52/100\n",
            "1563/1563 [==============================] - 29s 19ms/step - loss: 0.0617 - accuracy: 0.9788 - val_loss: 0.8339 - val_accuracy: 0.8165\n",
            "Epoch 53/100\n",
            "1563/1563 [==============================] - 29s 19ms/step - loss: 0.0630 - accuracy: 0.9787 - val_loss: 0.8132 - val_accuracy: 0.8205\n",
            "Epoch 54/100\n",
            "1563/1563 [==============================] - 29s 19ms/step - loss: 0.0557 - accuracy: 0.9807 - val_loss: 0.8407 - val_accuracy: 0.8152\n",
            "Epoch 55/100\n",
            "1563/1563 [==============================] - 29s 19ms/step - loss: 0.0576 - accuracy: 0.9799 - val_loss: 0.8692 - val_accuracy: 0.8157\n",
            "Epoch 56/100\n",
            "1563/1563 [==============================] - 29s 19ms/step - loss: 0.0585 - accuracy: 0.9800 - val_loss: 0.8528 - val_accuracy: 0.8148\n",
            "Epoch 57/100\n",
            "1563/1563 [==============================] - 29s 19ms/step - loss: 0.0550 - accuracy: 0.9807 - val_loss: 0.8602 - val_accuracy: 0.8173\n",
            "Epoch 58/100\n",
            "1563/1563 [==============================] - 29s 19ms/step - loss: 0.0547 - accuracy: 0.9808 - val_loss: 0.8427 - val_accuracy: 0.8164\n",
            "Epoch 59/100\n",
            "1563/1563 [==============================] - 29s 19ms/step - loss: 0.0533 - accuracy: 0.9815 - val_loss: 0.8436 - val_accuracy: 0.8212\n",
            "Epoch 60/100\n",
            "1563/1563 [==============================] - 30s 19ms/step - loss: 0.0515 - accuracy: 0.9824 - val_loss: 0.8562 - val_accuracy: 0.8198\n",
            "Epoch 61/100\n",
            "1563/1563 [==============================] - 29s 19ms/step - loss: 0.0533 - accuracy: 0.9807 - val_loss: 0.8701 - val_accuracy: 0.8168\n",
            "Epoch 62/100\n",
            "1563/1563 [==============================] - 29s 19ms/step - loss: 0.0519 - accuracy: 0.9827 - val_loss: 0.8551 - val_accuracy: 0.8176\n",
            "Epoch 63/100\n",
            "1563/1563 [==============================] - 30s 19ms/step - loss: 0.0489 - accuracy: 0.9830 - val_loss: 0.8572 - val_accuracy: 0.8208\n",
            "Epoch 64/100\n",
            "1563/1563 [==============================] - 30s 19ms/step - loss: 0.0512 - accuracy: 0.9832 - val_loss: 0.8726 - val_accuracy: 0.8193\n",
            "Epoch 65/100\n",
            "1563/1563 [==============================] - 30s 19ms/step - loss: 0.0454 - accuracy: 0.9849 - val_loss: 0.8452 - val_accuracy: 0.8192\n",
            "Epoch 66/100\n",
            "1563/1563 [==============================] - 30s 19ms/step - loss: 0.0454 - accuracy: 0.9841 - val_loss: 0.8952 - val_accuracy: 0.8203\n",
            "Epoch 67/100\n",
            "1563/1563 [==============================] - 30s 19ms/step - loss: 0.0465 - accuracy: 0.9841 - val_loss: 0.8704 - val_accuracy: 0.8205\n",
            "Epoch 68/100\n",
            "1563/1563 [==============================] - 30s 19ms/step - loss: 0.0458 - accuracy: 0.9844 - val_loss: 0.8615 - val_accuracy: 0.8179\n",
            "Epoch 69/100\n",
            "1563/1563 [==============================] - 30s 19ms/step - loss: 0.0411 - accuracy: 0.9854 - val_loss: 0.8508 - val_accuracy: 0.8227\n",
            "Epoch 70/100\n",
            "1563/1563 [==============================] - 30s 19ms/step - loss: 0.0428 - accuracy: 0.9856 - val_loss: 0.8834 - val_accuracy: 0.8187\n",
            "Epoch 71/100\n",
            "1563/1563 [==============================] - 30s 19ms/step - loss: 0.0416 - accuracy: 0.9863 - val_loss: 0.8711 - val_accuracy: 0.8221\n",
            "Epoch 72/100\n",
            "1563/1563 [==============================] - 30s 19ms/step - loss: 0.0398 - accuracy: 0.9861 - val_loss: 0.8834 - val_accuracy: 0.8201\n",
            "Epoch 73/100\n",
            "1563/1563 [==============================] - 30s 19ms/step - loss: 0.0419 - accuracy: 0.9858 - val_loss: 0.8604 - val_accuracy: 0.8220\n",
            "Epoch 74/100\n",
            "1563/1563 [==============================] - 30s 19ms/step - loss: 0.0372 - accuracy: 0.9870 - val_loss: 0.8712 - val_accuracy: 0.8204\n",
            "Epoch 75/100\n",
            "1563/1563 [==============================] - 30s 19ms/step - loss: 0.0392 - accuracy: 0.9867 - val_loss: 0.8995 - val_accuracy: 0.8224\n",
            "Epoch 76/100\n",
            "1563/1563 [==============================] - 30s 19ms/step - loss: 0.0349 - accuracy: 0.9878 - val_loss: 0.8878 - val_accuracy: 0.8225\n",
            "Epoch 77/100\n",
            "1563/1563 [==============================] - 30s 19ms/step - loss: 0.0380 - accuracy: 0.9874 - val_loss: 0.8776 - val_accuracy: 0.8222\n",
            "Epoch 78/100\n",
            "1563/1563 [==============================] - 29s 19ms/step - loss: 0.0391 - accuracy: 0.9866 - val_loss: 0.8800 - val_accuracy: 0.8223\n",
            "Epoch 79/100\n",
            "1563/1563 [==============================] - 30s 19ms/step - loss: 0.0400 - accuracy: 0.9855 - val_loss: 0.8805 - val_accuracy: 0.8228\n",
            "Epoch 80/100\n",
            "1563/1563 [==============================] - 30s 19ms/step - loss: 0.0342 - accuracy: 0.9878 - val_loss: 0.9085 - val_accuracy: 0.8225\n",
            "Epoch 81/100\n",
            "1563/1563 [==============================] - 30s 19ms/step - loss: 0.0349 - accuracy: 0.9873 - val_loss: 0.8930 - val_accuracy: 0.8238\n",
            "Epoch 82/100\n",
            "1563/1563 [==============================] - 30s 19ms/step - loss: 0.0362 - accuracy: 0.9874 - val_loss: 0.9270 - val_accuracy: 0.8205\n",
            "Epoch 83/100\n",
            "1563/1563 [==============================] - 30s 19ms/step - loss: 0.0318 - accuracy: 0.9896 - val_loss: 0.8893 - val_accuracy: 0.8237\n",
            "Epoch 84/100\n",
            "1563/1563 [==============================] - 30s 19ms/step - loss: 0.0354 - accuracy: 0.9876 - val_loss: 0.8810 - val_accuracy: 0.8232\n",
            "Epoch 85/100\n",
            "1563/1563 [==============================] - 30s 19ms/step - loss: 0.0315 - accuracy: 0.9888 - val_loss: 0.9218 - val_accuracy: 0.8214\n",
            "Epoch 86/100\n",
            "1563/1563 [==============================] - 30s 19ms/step - loss: 0.0337 - accuracy: 0.9880 - val_loss: 0.8997 - val_accuracy: 0.8228\n",
            "Epoch 87/100\n",
            "1563/1563 [==============================] - 30s 19ms/step - loss: 0.0328 - accuracy: 0.9878 - val_loss: 0.9051 - val_accuracy: 0.8187\n",
            "Epoch 88/100\n",
            "1563/1563 [==============================] - 30s 19ms/step - loss: 0.0301 - accuracy: 0.9895 - val_loss: 0.9064 - val_accuracy: 0.8213\n",
            "Epoch 89/100\n",
            "1563/1563 [==============================] - 30s 19ms/step - loss: 0.0307 - accuracy: 0.9885 - val_loss: 0.9265 - val_accuracy: 0.8209\n",
            "Epoch 90/100\n",
            "1563/1563 [==============================] - 30s 19ms/step - loss: 0.0331 - accuracy: 0.9878 - val_loss: 0.9138 - val_accuracy: 0.8205\n",
            "Epoch 91/100\n",
            "1563/1563 [==============================] - 30s 19ms/step - loss: 0.0298 - accuracy: 0.9896 - val_loss: 0.9020 - val_accuracy: 0.8204\n",
            "Epoch 92/100\n",
            "1563/1563 [==============================] - 30s 19ms/step - loss: 0.0323 - accuracy: 0.9893 - val_loss: 0.9062 - val_accuracy: 0.8222\n",
            "Epoch 93/100\n",
            "1563/1563 [==============================] - 30s 19ms/step - loss: 0.0299 - accuracy: 0.9899 - val_loss: 0.9086 - val_accuracy: 0.8226\n",
            "Epoch 94/100\n",
            "1563/1563 [==============================] - 30s 19ms/step - loss: 0.0327 - accuracy: 0.9888 - val_loss: 0.9133 - val_accuracy: 0.8227\n",
            "Epoch 95/100\n",
            "1563/1563 [==============================] - 30s 19ms/step - loss: 0.0287 - accuracy: 0.9901 - val_loss: 0.9140 - val_accuracy: 0.8199\n",
            "Epoch 96/100\n",
            "1563/1563 [==============================] - 30s 19ms/step - loss: 0.0288 - accuracy: 0.9898 - val_loss: 0.9025 - val_accuracy: 0.8211\n",
            "Epoch 97/100\n",
            "1563/1563 [==============================] - 30s 19ms/step - loss: 0.0296 - accuracy: 0.9895 - val_loss: 0.9087 - val_accuracy: 0.8201\n",
            "Epoch 98/100\n",
            "1563/1563 [==============================] - 30s 19ms/step - loss: 0.0280 - accuracy: 0.9912 - val_loss: 0.9214 - val_accuracy: 0.8205\n",
            "Epoch 99/100\n",
            "1563/1563 [==============================] - 30s 19ms/step - loss: 0.0292 - accuracy: 0.9899 - val_loss: 0.9193 - val_accuracy: 0.8214\n",
            "Epoch 100/100\n",
            "1563/1563 [==============================] - 30s 19ms/step - loss: 0.0285 - accuracy: 0.9899 - val_loss: 0.9333 - val_accuracy: 0.8211\n",
            "313/313 [==============================] - 2s 7ms/step - loss: 0.9333 - accuracy: 0.8211\n",
            "Accuracy: 82.11%\n"
          ],
          "name": "stdout"
        }
      ]
    },
    {
      "cell_type": "code",
      "metadata": {
        "colab": {
          "base_uri": "https://localhost:8080/"
        },
        "id": "A_zF6xAo3umD",
        "outputId": "6923abcb-a975-4af9-caaf-ae79f1379bff"
      },
      "source": [
        "import numpy as np\n",
        "\n",
        "actual = []\n",
        "\n",
        "for i in range(len(X_test)):\n",
        "  test_image =np.expand_dims(X_test[i], axis =0) \n",
        "  result = model.predict(test_image).argmax() \n",
        "  if result==0: \n",
        "      actual.append(\"Aeroplane\") \n",
        "  elif result==1: \n",
        "      actual.append('Automobile') \n",
        "  elif result==2: \n",
        "      actual.append('Bird') \n",
        "  elif result==3: \n",
        "      actual.append('Cat') \n",
        "  elif result==4: \n",
        "      actual.append('Deer') \n",
        "  elif result==5: \n",
        "      actual.append('Dog') \n",
        "  elif result==6: \n",
        "      actual.append('Frog') \n",
        "  elif result==7: \n",
        "      actual.append('Horse') \n",
        "  elif result==8: \n",
        "      actual.append('Ship') \n",
        "  elif result==9: \n",
        "      actual.append('Truck') \n",
        "\n",
        "\n",
        "\n",
        "\n",
        "print(actual,y_test[0])\n"
      ],
      "execution_count": 9,
      "outputs": [
        {
          "output_type": "stream",
          "text": [
            "['Cat', 'Ship', 'Ship', 'Aeroplane', 'Frog', 'Frog', 'Automobile', 'Cat', 'Cat', 'Automobile', 'Aeroplane', 'Truck', 'Dog', 'Horse', 'Truck', 'Ship', 'Dog', 'Horse', 'Ship', 'Frog', 'Truck', 'Bird', 'Aeroplane', 'Truck', 'Deer', 'Dog', 'Deer', 'Aeroplane', 'Truck', 'Frog', 'Frog', 'Dog', 'Bird', 'Deer', 'Truck', 'Ship', 'Deer', 'Automobile', 'Truck', 'Dog', 'Deer', 'Frog', 'Cat', 'Frog', 'Aeroplane', 'Truck', 'Cat', 'Truck', 'Horse', 'Frog', 'Truck', 'Ship', 'Cat', 'Cat', 'Ship', 'Ship', 'Horse', 'Cat', 'Cat', 'Cat', 'Horse', 'Cat', 'Frog', 'Cat', 'Frog', 'Bird', 'Automobile', 'Bird', 'Cat', 'Horse', 'Bird', 'Frog', 'Ship', 'Ship', 'Truck', 'Bird', 'Aeroplane', 'Cat', 'Cat', 'Ship', 'Ship', 'Automobile', 'Automobile', 'Horse', 'Bird', 'Horse', 'Aeroplane', 'Horse', 'Ship', 'Truck', 'Aeroplane', 'Bird', 'Ship', 'Frog', 'Deer', 'Frog', 'Frog', 'Ship', 'Aeroplane', 'Horse', 'Deer', 'Dog', 'Frog', 'Cat', 'Automobile', 'Automobile', 'Cat', 'Frog', 'Ship', 'Horse', 'Deer', 'Aeroplane', 'Bird', 'Bird', 'Automobile', 'Deer', 'Aeroplane', 'Deer', 'Bird', 'Horse', 'Ship', 'Cat', 'Automobile', 'Bird', 'Ship', 'Aeroplane', 'Ship', 'Cat', 'Dog', 'Bird', 'Deer', 'Automobile', 'Ship', 'Truck', 'Automobile', 'Bird', 'Truck', 'Horse', 'Bird', 'Ship', 'Cat', 'Dog', 'Frog', 'Cat', 'Ship', 'Horse', 'Frog', 'Bird', 'Dog', 'Bird', 'Ship', 'Truck', 'Frog', 'Aeroplane', 'Aeroplane', 'Dog', 'Bird', 'Truck', 'Dog', 'Deer', 'Bird', 'Automobile', 'Frog', 'Frog', 'Aeroplane', 'Bird', 'Ship', 'Deer', 'Horse', 'Bird', 'Truck', 'Truck', 'Truck', 'Ship', 'Truck', 'Truck', 'Cat', 'Horse', 'Dog', 'Aeroplane', 'Aeroplane', 'Dog', 'Bird', 'Bird', 'Aeroplane', 'Ship', 'Frog', 'Cat', 'Cat', 'Ship', 'Deer', 'Ship', 'Aeroplane', 'Automobile', 'Horse', 'Cat', 'Ship', 'Ship', 'Horse', 'Ship', 'Dog', 'Automobile', 'Ship', 'Horse', 'Automobile', 'Cat', 'Aeroplane', 'Dog', 'Horse', 'Truck', 'Dog', 'Deer', 'Dog', 'Ship', 'Ship', 'Aeroplane', 'Horse', 'Truck', 'Cat', 'Bird', 'Horse', 'Frog', 'Truck', 'Deer', 'Deer', 'Truck', 'Frog', 'Deer', 'Cat', 'Bird', 'Dog', 'Automobile', 'Dog', 'Ship', 'Ship', 'Aeroplane', 'Deer', 'Truck', 'Cat', 'Cat', 'Automobile', 'Automobile', 'Automobile', 'Truck', 'Aeroplane', 'Cat', 'Automobile', 'Ship', 'Bird', 'Bird', 'Dog', 'Dog', 'Truck', 'Truck', 'Deer', 'Aeroplane', 'Cat', 'Aeroplane', 'Ship', 'Truck', 'Ship', 'Automobile', 'Cat', 'Cat', 'Ship', 'Ship', 'Bird', 'Deer', 'Horse', 'Aeroplane', 'Bird', 'Cat', 'Frog', 'Cat', 'Ship', 'Bird', 'Aeroplane', 'Bird', 'Deer', 'Dog', 'Truck', 'Ship', 'Frog', 'Automobile', 'Aeroplane', 'Truck', 'Automobile', 'Ship', 'Horse', 'Truck', 'Automobile', 'Bird', 'Frog', 'Truck', 'Cat', 'Deer', 'Frog', 'Aeroplane', 'Aeroplane', 'Frog', 'Frog', 'Frog', 'Dog', 'Bird', 'Frog', 'Automobile', 'Ship', 'Bird', 'Automobile', 'Deer', 'Ship', 'Frog', 'Aeroplane', 'Bird', 'Deer', 'Aeroplane', 'Horse', 'Horse', 'Dog', 'Dog', 'Cat', 'Dog', 'Bird', 'Frog', 'Horse', 'Automobile', 'Horse', 'Dog', 'Deer', 'Frog', 'Automobile', 'Truck', 'Frog', 'Frog', 'Frog', 'Truck', 'Cat', 'Ship', 'Aeroplane', 'Horse', 'Bird', 'Frog', 'Bird', 'Dog', 'Ship', 'Dog', 'Deer', 'Frog', 'Ship', 'Truck', 'Truck', 'Automobile', 'Ship', 'Bird', 'Bird', 'Horse', 'Dog', 'Bird', 'Ship', 'Aeroplane', 'Truck', 'Dog', 'Ship', 'Ship', 'Truck', 'Deer', 'Bird', 'Deer', 'Bird', 'Automobile', 'Bird', 'Horse', 'Truck', 'Deer', 'Bird', 'Horse', 'Aeroplane', 'Cat', 'Bird', 'Frog', 'Frog', 'Truck', 'Aeroplane', 'Truck', 'Bird', 'Aeroplane', 'Horse', 'Bird', 'Dog', 'Dog', 'Automobile', 'Bird', 'Frog', 'Frog', 'Truck', 'Frog', 'Bird', 'Cat', 'Aeroplane', 'Ship', 'Truck', 'Ship', 'Horse', 'Ship', 'Ship', 'Frog', 'Aeroplane', 'Automobile', 'Ship', 'Bird', 'Horse', 'Truck', 'Cat', 'Frog', 'Automobile', 'Truck', 'Cat', 'Horse', 'Deer', 'Horse', 'Deer', 'Deer', 'Ship', 'Aeroplane', 'Bird', 'Truck', 'Frog', 'Deer', 'Aeroplane', 'Frog', 'Deer', 'Dog', 'Cat', 'Horse', 'Cat', 'Horse', 'Bird', 'Dog', 'Dog', 'Automobile', 'Automobile', 'Deer', 'Truck', 'Truck', 'Dog', 'Horse', 'Dog', 'Aeroplane', 'Bird', 'Aeroplane', 'Automobile', 'Truck', 'Dog', 'Cat', 'Truck', 'Deer', 'Deer', 'Deer', 'Cat', 'Ship', 'Bird', 'Frog', 'Automobile', 'Dog', 'Cat', 'Deer', 'Deer', 'Cat', 'Horse', 'Ship', 'Cat', 'Horse', 'Ship', 'Ship', 'Deer', 'Horse', 'Frog', 'Aeroplane', 'Dog', 'Deer', 'Ship', 'Frog', 'Ship', 'Cat', 'Dog', 'Truck', 'Truck', 'Truck', 'Dog', 'Bird', 'Automobile', 'Aeroplane', 'Ship', 'Automobile', 'Automobile', 'Ship', 'Aeroplane', 'Bird', 'Bird', 'Aeroplane', 'Deer', 'Frog', 'Cat', 'Deer', 'Truck', 'Deer', 'Horse', 'Truck', 'Truck', 'Deer', 'Dog', 'Frog', 'Frog', 'Automobile', 'Dog', 'Cat', 'Ship', 'Truck', 'Horse', 'Ship', 'Dog', 'Horse', 'Aeroplane', 'Horse', 'Aeroplane', 'Cat', 'Aeroplane', 'Aeroplane', 'Deer', 'Frog', 'Truck', 'Ship', 'Automobile', 'Dog', 'Frog', 'Frog', 'Frog', 'Bird', 'Ship', 'Aeroplane', 'Automobile', 'Horse', 'Frog', 'Horse', 'Dog', 'Truck', 'Automobile', 'Frog', 'Bird', 'Dog', 'Dog', 'Cat', 'Ship', 'Dog', 'Truck', 'Deer', 'Frog', 'Deer', 'Cat', 'Bird', 'Aeroplane', 'Horse', 'Cat', 'Bird', 'Bird', 'Cat', 'Truck', 'Cat', 'Truck', 'Bird', 'Bird', 'Horse', 'Automobile', 'Cat', 'Frog', 'Frog', 'Ship', 'Ship', 'Horse', 'Dog', 'Deer', 'Aeroplane', 'Ship', 'Deer', 'Aeroplane', 'Truck', 'Frog', 'Deer', 'Ship', 'Truck', 'Frog', 'Truck', 'Bird', 'Frog', 'Automobile', 'Deer', 'Horse', 'Cat', 'Bird', 'Cat', 'Ship', 'Dog', 'Aeroplane', 'Bird', 'Automobile', 'Frog', 'Deer', 'Cat', 'Cat', 'Truck', 'Frog', 'Truck', 'Ship', 'Ship', 'Dog', 'Ship', 'Frog', 'Cat', 'Bird', 'Automobile', 'Horse', 'Automobile', 'Automobile', 'Bird', 'Horse', 'Truck', 'Truck', 'Deer', 'Deer', 'Automobile', 'Ship', 'Dog', 'Frog', 'Ship', 'Horse', 'Frog', 'Ship', 'Cat', 'Aeroplane', 'Cat', 'Dog', 'Cat', 'Aeroplane', 'Horse', 'Truck', 'Automobile', 'Cat', 'Bird', 'Deer', 'Dog', 'Cat', 'Truck', 'Cat', 'Frog', 'Truck', 'Deer', 'Automobile', 'Automobile', 'Deer', 'Automobile', 'Truck', 'Deer', 'Horse', 'Frog', 'Cat', 'Aeroplane', 'Truck', 'Aeroplane', 'Automobile', 'Bird', 'Frog', 'Cat', 'Deer', 'Cat', 'Deer', 'Ship', 'Cat', 'Automobile', 'Frog', 'Cat', 'Automobile', 'Frog', 'Deer', 'Automobile', 'Truck', 'Bird', 'Truck', 'Frog', 'Frog', 'Aeroplane', 'Cat', 'Bird', 'Bird', 'Horse', 'Ship', 'Cat', 'Ship', 'Bird', 'Horse', 'Dog', 'Horse', 'Bird', 'Deer', 'Ship', 'Horse', 'Deer', 'Bird', 'Truck', 'Ship', 'Ship', 'Bird', 'Ship', 'Ship', 'Horse', 'Deer', 'Bird', 'Cat', 'Horse', 'Horse', 'Truck', 'Horse', 'Ship', 'Ship', 'Automobile', 'Ship', 'Aeroplane', 'Automobile', 'Bird', 'Frog', 'Dog', 'Dog', 'Ship', 'Horse', 'Truck', 'Automobile', 'Frog', 'Automobile', 'Deer', 'Automobile', 'Dog', 'Dog', 'Horse', 'Aeroplane', 'Horse', 'Truck', 'Horse', 'Bird', 'Frog', 'Bird', 'Cat', 'Truck', 'Bird', 'Truck', 'Automobile', 'Bird', 'Deer', 'Frog', 'Ship', 'Bird', 'Automobile', 'Cat', 'Frog', 'Frog', 'Aeroplane', 'Automobile', 'Bird', 'Deer', 'Truck', 'Dog', 'Deer', 'Truck', 'Automobile', 'Frog', 'Deer', 'Aeroplane', 'Bird', 'Dog', 'Frog', 'Aeroplane', 'Dog', 'Truck', 'Automobile', 'Horse', 'Frog', 'Horse', 'Aeroplane', 'Cat', 'Truck', 'Frog', 'Ship', 'Aeroplane', 'Aeroplane', 'Aeroplane', 'Horse', 'Horse', 'Horse', 'Bird', 'Deer', 'Horse', 'Deer', 'Horse', 'Automobile', 'Bird', 'Horse', 'Bird', 'Deer', 'Aeroplane', 'Deer', 'Horse', 'Horse', 'Cat', 'Dog', 'Horse', 'Bird', 'Aeroplane', 'Ship', 'Truck', 'Dog', 'Ship', 'Cat', 'Frog', 'Bird', 'Aeroplane', 'Ship', 'Horse', 'Cat', 'Horse', 'Frog', 'Dog', 'Cat', 'Automobile', 'Frog', 'Bird', 'Bird', 'Dog', 'Deer', 'Automobile', 'Bird', 'Truck', 'Bird', 'Horse', 'Aeroplane', 'Horse', 'Bird', 'Automobile', 'Deer', 'Bird', 'Aeroplane', 'Frog', 'Deer', 'Dog', 'Truck', 'Ship', 'Automobile', 'Aeroplane', 'Horse', 'Horse', 'Aeroplane', 'Horse', 'Ship', 'Deer', 'Frog', 'Cat', 'Cat', 'Aeroplane', 'Automobile', 'Dog', 'Horse', 'Aeroplane', 'Automobile', 'Cat', 'Automobile', 'Deer', 'Bird', 'Cat', 'Ship', 'Deer', 'Bird', 'Cat', 'Horse', 'Ship', 'Deer', 'Frog', 'Aeroplane', 'Truck', 'Aeroplane', 'Ship', 'Automobile', 'Ship', 'Deer', 'Deer', 'Frog', 'Horse', 'Dog', 'Automobile', 'Truck', 'Cat', 'Horse', 'Horse', 'Dog', 'Frog', 'Frog', 'Frog', 'Dog', 'Ship', 'Horse', 'Automobile', 'Frog', 'Ship', 'Ship', 'Deer', 'Cat', 'Aeroplane', 'Deer', 'Aeroplane', 'Automobile', 'Deer', 'Ship', 'Ship', 'Aeroplane', 'Bird', 'Truck', 'Truck', 'Truck', 'Aeroplane', 'Cat', 'Ship', 'Frog', 'Aeroplane', 'Aeroplane', 'Deer', 'Bird', 'Cat', 'Cat', 'Horse', 'Bird', 'Bird', 'Dog', 'Truck', 'Ship', 'Truck', 'Automobile', 'Horse', 'Frog', 'Aeroplane', 'Dog', 'Aeroplane', 'Automobile', 'Horse', 'Ship', 'Cat', 'Truck', 'Frog', 'Automobile', 'Deer', 'Horse', 'Aeroplane', 'Frog', 'Horse', 'Ship', 'Truck', 'Automobile', 'Automobile', 'Frog', 'Frog', 'Frog', 'Truck', 'Truck', 'Automobile', 'Truck', 'Truck', 'Deer', 'Frog', 'Automobile', 'Horse', 'Aeroplane', 'Frog', 'Ship', 'Automobile', 'Truck', 'Bird', 'Truck', 'Dog', 'Deer', 'Horse', 'Ship', 'Cat', 'Automobile', 'Bird', 'Aeroplane', 'Automobile', 'Bird', 'Ship', 'Horse', 'Cat', 'Cat', 'Ship', 'Truck', 'Cat', 'Ship', 'Dog', 'Aeroplane', 'Ship', 'Deer', 'Ship', 'Automobile', 'Automobile', 'Ship', 'Truck', 'Frog', 'Aeroplane', 'Ship', 'Frog', 'Automobile', 'Cat', 'Deer', 'Automobile', 'Frog', 'Aeroplane', 'Cat', 'Automobile', 'Automobile', 'Aeroplane', 'Aeroplane', 'Cat', 'Dog', 'Aeroplane', 'Aeroplane', 'Frog', 'Frog', 'Cat', 'Cat', 'Frog', 'Cat', 'Cat', 'Bird', 'Deer', 'Horse', 'Bird', 'Bird', 'Bird', 'Dog', 'Deer', 'Bird', 'Ship', 'Dog', 'Bird', 'Ship', 'Automobile', 'Automobile', 'Cat', 'Frog', 'Aeroplane', 'Cat', 'Automobile', 'Dog', 'Cat', 'Horse', 'Frog', 'Ship', 'Truck', 'Truck', 'Frog', 'Deer', 'Truck', 'Cat', 'Automobile', 'Aeroplane', 'Truck', 'Frog', 'Cat', 'Frog', 'Ship', 'Horse', 'Cat', 'Ship', 'Aeroplane', 'Aeroplane', 'Aeroplane', 'Frog', 'Frog', 'Frog', 'Truck', 'Bird', 'Dog', 'Deer', 'Deer', 'Frog', 'Dog', 'Frog', 'Aeroplane', 'Ship', 'Frog', 'Bird', 'Frog', 'Bird', 'Horse', 'Dog', 'Automobile', 'Bird', 'Ship', 'Ship', 'Ship', 'Aeroplane', 'Truck', 'Cat', 'Truck', 'Horse', 'Bird', 'Aeroplane', 'Bird', 'Ship', 'Cat', 'Ship', 'Truck', 'Automobile', 'Dog', 'Dog', 'Horse', 'Horse', 'Dog', 'Cat', 'Ship', 'Cat', 'Cat', 'Frog', 'Aeroplane', 'Ship', 'Deer', 'Cat', 'Horse', 'Truck', 'Bird', 'Deer', 'Automobile', 'Frog', 'Truck', 'Aeroplane', 'Horse', 'Ship', 'Frog', 'Automobile', 'Ship', 'Frog', 'Automobile', 'Deer', 'Bird', 'Cat', 'Bird', 'Horse', 'Horse', 'Bird', 'Aeroplane', 'Ship', 'Frog', 'Truck', 'Automobile', 'Horse', 'Automobile', 'Ship', 'Ship', 'Aeroplane', 'Horse', 'Bird', 'Ship', 'Aeroplane', 'Cat', 'Cat', 'Cat', 'Horse', 'Horse', 'Truck', 'Horse', 'Cat', 'Automobile', 'Truck', 'Automobile', 'Truck', 'Bird', 'Cat', 'Cat', 'Cat', 'Automobile', 'Aeroplane', 'Frog', 'Automobile', 'Deer', 'Automobile', 'Aeroplane', 'Aeroplane', 'Automobile', 'Automobile', 'Deer', 'Dog', 'Deer', 'Frog', 'Bird', 'Aeroplane', 'Horse', 'Automobile', 'Ship', 'Horse', 'Bird', 'Ship', 'Frog', 'Ship', 'Automobile', 'Ship', 'Truck', 'Horse', 'Aeroplane', 'Frog', 'Automobile', 'Ship', 'Dog', 'Horse', 'Ship', 'Deer', 'Ship', 'Cat', 'Cat', 'Truck', 'Truck', 'Aeroplane', 'Horse', 'Frog', 'Frog', 'Cat', 'Bird', 'Automobile', 'Cat', 'Truck', 'Automobile', 'Deer', 'Automobile', 'Dog', 'Horse', 'Aeroplane', 'Automobile', 'Cat', 'Bird', 'Ship', 'Ship', 'Ship', 'Cat', 'Frog', 'Horse', 'Deer', 'Bird', 'Deer', 'Horse', 'Bird', 'Dog', 'Ship', 'Bird', 'Deer', 'Truck', 'Bird', 'Automobile', 'Ship', 'Automobile', 'Ship', 'Ship', 'Aeroplane', 'Ship', 'Automobile', 'Aeroplane', 'Deer', 'Deer', 'Cat', 'Truck', 'Ship', 'Deer', 'Frog', 'Cat', 'Cat', 'Automobile', 'Bird', 'Bird', 'Ship', 'Cat', 'Ship', 'Truck', 'Dog', 'Ship', 'Truck', 'Ship', 'Truck', 'Automobile', 'Frog', 'Dog', 'Truck', 'Deer', 'Deer', 'Ship', 'Aeroplane', 'Horse', 'Aeroplane', 'Truck', 'Aeroplane', 'Deer', 'Automobile', 'Frog', 'Deer', 'Ship', 'Truck', 'Automobile', 'Bird', 'Cat', 'Frog', 'Aeroplane', 'Ship', 'Frog', 'Automobile', 'Truck', 'Bird', 'Dog', 'Truck', 'Dog', 'Aeroplane', 'Horse', 'Bird', 'Aeroplane', 'Aeroplane', 'Deer', 'Deer', 'Frog', 'Frog', 'Cat', 'Dog', 'Bird', 'Ship', 'Automobile', 'Deer', 'Bird', 'Automobile', 'Deer', 'Dog', 'Frog', 'Horse', 'Automobile', 'Deer', 'Horse', 'Aeroplane', 'Truck', 'Deer', 'Truck', 'Ship', 'Bird', 'Ship', 'Deer', 'Horse', 'Bird', 'Cat', 'Automobile', 'Deer', 'Cat', 'Truck', 'Ship', 'Truck', 'Horse', 'Truck', 'Dog', 'Automobile', 'Deer', 'Aeroplane', 'Ship', 'Bird', 'Cat', 'Ship', 'Truck', 'Automobile', 'Automobile', 'Cat', 'Bird', 'Deer', 'Truck', 'Cat', 'Automobile', 'Horse', 'Deer', 'Frog', 'Bird', 'Ship', 'Truck', 'Dog', 'Cat', 'Truck', 'Dog', 'Dog', 'Frog', 'Dog', 'Bird', 'Bird', 'Dog', 'Cat', 'Automobile', 'Aeroplane', 'Horse', 'Aeroplane', 'Dog', 'Deer', 'Horse', 'Frog', 'Automobile', 'Automobile', 'Truck', 'Ship', 'Automobile', 'Aeroplane', 'Automobile', 'Cat', 'Automobile', 'Automobile', 'Automobile', 'Horse', 'Cat', 'Truck', 'Frog', 'Ship', 'Deer', 'Frog', 'Ship', 'Deer', 'Truck', 'Cat', 'Horse', 'Truck', 'Horse', 'Frog', 'Ship', 'Deer', 'Truck', 'Horse', 'Aeroplane', 'Automobile', 'Frog', 'Automobile', 'Bird', 'Truck', 'Ship', 'Deer', 'Cat', 'Frog', 'Automobile', 'Deer', 'Aeroplane', 'Ship', 'Deer', 'Frog', 'Bird', 'Bird', 'Frog', 'Dog', 'Cat', 'Frog', 'Deer', 'Automobile', 'Automobile', 'Ship', 'Frog', 'Aeroplane', 'Deer', 'Aeroplane', 'Automobile', 'Truck', 'Horse', 'Automobile', 'Cat', 'Horse', 'Horse', 'Aeroplane', 'Horse', 'Horse', 'Cat', 'Truck', 'Horse', 'Horse', 'Horse', 'Cat', 'Ship', 'Bird', 'Ship', 'Frog', 'Deer', 'Aeroplane', 'Horse', 'Truck', 'Ship', 'Frog', 'Ship', 'Deer', 'Ship', 'Automobile', 'Horse', 'Aeroplane', 'Bird', 'Ship', 'Cat', 'Ship', 'Automobile', 'Frog', 'Bird', 'Dog', 'Automobile', 'Bird', 'Horse', 'Truck', 'Ship', 'Automobile', 'Ship', 'Automobile', 'Ship', 'Frog', 'Truck', 'Bird', 'Deer', 'Automobile', 'Cat', 'Frog', 'Horse', 'Horse', 'Deer', 'Deer', 'Cat', 'Cat', 'Deer', 'Cat', 'Bird', 'Deer', 'Truck', 'Horse', 'Ship', 'Deer', 'Deer', 'Deer', 'Cat', 'Deer', 'Bird', 'Bird', 'Ship', 'Deer', 'Dog', 'Dog', 'Cat', 'Automobile', 'Deer', 'Aeroplane', 'Cat', 'Automobile', 'Frog', 'Deer', 'Cat', 'Deer', 'Deer', 'Aeroplane', 'Ship', 'Ship', 'Deer', 'Dog', 'Horse', 'Dog', 'Frog', 'Truck', 'Automobile', 'Frog', 'Horse', 'Bird', 'Aeroplane', 'Automobile', 'Horse', 'Dog', 'Cat', 'Aeroplane', 'Truck', 'Bird', 'Cat', 'Cat', 'Frog', 'Aeroplane', 'Horse', 'Bird', 'Truck', 'Automobile', 'Horse', 'Horse', 'Dog', 'Bird', 'Dog', 'Frog', 'Deer', 'Automobile', 'Deer', 'Cat', 'Cat', 'Frog', 'Aeroplane', 'Cat', 'Dog', 'Dog', 'Ship', 'Truck', 'Horse', 'Aeroplane', 'Automobile', 'Bird', 'Bird', 'Cat', 'Deer', 'Deer', 'Bird', 'Cat', 'Cat', 'Ship', 'Automobile', 'Horse', 'Horse', 'Aeroplane', 'Cat', 'Deer', 'Dog', 'Automobile', 'Deer', 'Bird', 'Deer', 'Cat', 'Aeroplane', 'Truck', 'Deer', 'Truck', 'Truck', 'Automobile', 'Ship', 'Automobile', 'Frog', 'Horse', 'Dog', 'Dog', 'Bird', 'Truck', 'Deer', 'Frog', 'Dog', 'Truck', 'Cat', 'Deer', 'Aeroplane', 'Horse', 'Ship', 'Bird', 'Dog', 'Aeroplane', 'Aeroplane', 'Truck', 'Truck', 'Ship', 'Bird', 'Dog', 'Deer', 'Ship', 'Cat', 'Frog', 'Cat', 'Frog', 'Aeroplane', 'Frog', 'Frog', 'Frog', 'Truck', 'Frog', 'Frog', 'Ship', 'Frog', 'Bird', 'Deer', 'Horse', 'Ship', 'Automobile', 'Bird', 'Horse', 'Frog', 'Frog', 'Horse', 'Aeroplane', 'Ship', 'Frog', 'Ship', 'Aeroplane', 'Frog', 'Horse', 'Bird', 'Ship', 'Truck', 'Ship', 'Aeroplane', 'Truck', 'Deer', 'Truck', 'Dog', 'Horse', 'Dog', 'Dog', 'Ship', 'Dog', 'Cat', 'Aeroplane', 'Automobile', 'Truck', 'Horse', 'Bird', 'Deer', 'Automobile', 'Aeroplane', 'Aeroplane', 'Aeroplane', 'Dog', 'Automobile', 'Horse', 'Ship', 'Aeroplane', 'Deer', 'Truck', 'Frog', 'Dog', 'Deer', 'Aeroplane', 'Aeroplane', 'Truck', 'Aeroplane', 'Ship', 'Deer', 'Cat', 'Automobile', 'Cat', 'Truck', 'Aeroplane', 'Frog', 'Frog', 'Dog', 'Truck', 'Automobile', 'Dog', 'Ship', 'Automobile', 'Aeroplane', 'Dog', 'Bird', 'Automobile', 'Aeroplane', 'Dog', 'Ship', 'Automobile', 'Dog', 'Frog', 'Horse', 'Horse', 'Bird', 'Frog', 'Bird', 'Dog', 'Aeroplane', 'Automobile', 'Deer', 'Bird', 'Dog', 'Frog', 'Cat', 'Bird', 'Bird', 'Automobile', 'Horse', 'Bird', 'Ship', 'Cat', 'Dog', 'Cat', 'Aeroplane', 'Deer', 'Ship', 'Dog', 'Horse', 'Frog', 'Cat', 'Ship', 'Automobile', 'Aeroplane', 'Automobile', 'Cat', 'Cat', 'Aeroplane', 'Horse', 'Frog', 'Truck', 'Dog', 'Cat', 'Frog', 'Aeroplane', 'Automobile', 'Deer', 'Deer', 'Deer', 'Deer', 'Bird', 'Cat', 'Cat', 'Ship', 'Automobile', 'Dog', 'Truck', 'Ship', 'Automobile', 'Automobile', 'Horse', 'Dog', 'Truck', 'Truck', 'Bird', 'Frog', 'Dog', 'Aeroplane', 'Ship', 'Bird', 'Cat', 'Deer', 'Truck', 'Bird', 'Ship', 'Deer', 'Horse', 'Automobile', 'Bird', 'Truck', 'Frog', 'Ship', 'Truck', 'Deer', 'Deer', 'Automobile', 'Ship', 'Horse', 'Frog', 'Truck', 'Deer', 'Ship', 'Truck', 'Horse', 'Bird', 'Dog', 'Cat', 'Horse', 'Cat', 'Aeroplane', 'Aeroplane', 'Truck', 'Dog', 'Dog', 'Ship', 'Dog', 'Cat', 'Bird', 'Ship', 'Cat', 'Deer', 'Truck', 'Horse', 'Horse', 'Ship', 'Deer', 'Horse', 'Ship', 'Bird', 'Cat', 'Dog', 'Frog', 'Ship', 'Aeroplane', 'Bird', 'Cat', 'Horse', 'Aeroplane', 'Automobile', 'Truck', 'Automobile', 'Cat', 'Dog', 'Dog', 'Ship', 'Cat', 'Bird', 'Truck', 'Frog', 'Ship', 'Frog', 'Truck', 'Cat', 'Automobile', 'Truck', 'Ship', 'Horse', 'Horse', 'Ship', 'Dog', 'Aeroplane', 'Aeroplane', 'Automobile', 'Frog', 'Truck', 'Automobile', 'Dog', 'Bird', 'Deer', 'Deer', 'Aeroplane', 'Truck', 'Truck', 'Truck', 'Truck', 'Ship', 'Bird', 'Deer', 'Bird', 'Bird', 'Dog', 'Automobile', 'Deer', 'Automobile', 'Aeroplane', 'Truck', 'Deer', 'Bird', 'Automobile', 'Frog', 'Aeroplane', 'Dog', 'Aeroplane', 'Deer', 'Cat', 'Horse', 'Aeroplane', 'Horse', 'Dog', 'Horse', 'Bird', 'Ship', 'Deer', 'Horse', 'Ship', 'Cat', 'Dog', 'Aeroplane', 'Dog', 'Horse', 'Deer', 'Deer', 'Aeroplane', 'Bird', 'Horse', 'Frog', 'Frog', 'Aeroplane', 'Bird', 'Horse', 'Frog', 'Bird', 'Cat', 'Aeroplane', 'Horse', 'Horse', 'Ship', 'Truck', 'Automobile', 'Deer', 'Bird', 'Aeroplane', 'Frog', 'Frog', 'Dog', 'Dog', 'Frog', 'Cat', 'Truck', 'Cat', 'Frog', 'Bird', 'Horse', 'Frog', 'Bird', 'Truck', 'Dog', 'Frog', 'Deer', 'Automobile', 'Frog', 'Bird', 'Truck', 'Bird', 'Dog', 'Truck', 'Bird', 'Dog', 'Automobile', 'Dog', 'Bird', 'Dog', 'Horse', 'Cat', 'Horse', 'Ship', 'Truck', 'Automobile', 'Dog', 'Deer', 'Dog', 'Deer', 'Ship', 'Deer', 'Frog', 'Dog', 'Bird', 'Truck', 'Truck', 'Ship', 'Dog', 'Dog', 'Frog', 'Deer', 'Cat', 'Truck', 'Horse', 'Cat', 'Deer', 'Automobile', 'Bird', 'Bird', 'Bird', 'Frog', 'Cat', 'Dog', 'Bird', 'Ship', 'Aeroplane', 'Aeroplane', 'Automobile', 'Ship', 'Cat', 'Automobile', 'Cat', 'Dog', 'Ship', 'Deer', 'Ship', 'Dog', 'Ship', 'Frog', 'Cat', 'Dog', 'Dog', 'Dog', 'Ship', 'Ship', 'Dog', 'Deer', 'Horse', 'Automobile', 'Ship', 'Bird', 'Deer', 'Horse', 'Cat', 'Deer', 'Bird', 'Truck', 'Frog', 'Bird', 'Bird', 'Deer', 'Cat', 'Aeroplane', 'Frog', 'Aeroplane', 'Truck', 'Cat', 'Bird', 'Dog', 'Horse', 'Aeroplane', 'Automobile', 'Aeroplane', 'Horse', 'Horse', 'Aeroplane', 'Bird', 'Automobile', 'Frog', 'Dog', 'Aeroplane', 'Deer', 'Bird', 'Aeroplane', 'Automobile', 'Bird', 'Frog', 'Aeroplane', 'Automobile', 'Frog', 'Frog', 'Dog', 'Cat', 'Dog', 'Aeroplane', 'Aeroplane', 'Truck', 'Automobile', 'Aeroplane', 'Bird', 'Dog', 'Truck', 'Horse', 'Ship', 'Frog', 'Ship', 'Frog', 'Aeroplane', 'Bird', 'Aeroplane', 'Automobile', 'Automobile', 'Deer', 'Frog', 'Truck', 'Bird', 'Horse', 'Bird', 'Cat', 'Deer', 'Ship', 'Truck', 'Bird', 'Frog', 'Ship', 'Truck', 'Horse', 'Automobile', 'Truck', 'Cat', 'Deer', 'Bird', 'Horse', 'Truck', 'Frog', 'Truck', 'Dog', 'Horse', 'Ship', 'Dog', 'Ship', 'Ship', 'Cat', 'Truck', 'Truck', 'Aeroplane', 'Bird', 'Dog', 'Horse', 'Automobile', 'Aeroplane', 'Aeroplane', 'Dog', 'Dog', 'Ship', 'Bird', 'Bird', 'Horse', 'Cat', 'Truck', 'Dog', 'Automobile', 'Truck', 'Cat', 'Automobile', 'Deer', 'Cat', 'Deer', 'Bird', 'Truck', 'Aeroplane', 'Automobile', 'Cat', 'Truck', 'Bird', 'Automobile', 'Deer', 'Aeroplane', 'Aeroplane', 'Ship', 'Bird', 'Ship', 'Frog', 'Ship', 'Dog', 'Bird', 'Dog', 'Truck', 'Frog', 'Truck', 'Dog', 'Automobile', 'Cat', 'Deer', 'Deer', 'Bird', 'Horse', 'Bird', 'Deer', 'Deer', 'Aeroplane', 'Cat', 'Ship', 'Deer', 'Dog', 'Automobile', 'Bird', 'Frog', 'Ship', 'Automobile', 'Horse', 'Frog', 'Ship', 'Horse', 'Deer', 'Cat', 'Dog', 'Dog', 'Aeroplane', 'Horse', 'Bird', 'Dog', 'Frog', 'Automobile', 'Horse', 'Automobile', 'Aeroplane', 'Cat', 'Cat', 'Truck', 'Ship', 'Truck', 'Dog', 'Ship', 'Aeroplane', 'Horse', 'Frog', 'Cat', 'Cat', 'Ship', 'Automobile', 'Deer', 'Aeroplane', 'Automobile', 'Dog', 'Deer', 'Cat', 'Deer', 'Frog', 'Aeroplane', 'Ship', 'Ship', 'Cat', 'Cat', 'Cat', 'Deer', 'Ship', 'Horse', 'Dog', 'Automobile', 'Frog', 'Aeroplane', 'Dog', 'Truck', 'Truck', 'Cat', 'Dog', 'Truck', 'Deer', 'Ship', 'Dog', 'Cat', 'Bird', 'Bird', 'Automobile', 'Truck', 'Dog', 'Cat', 'Automobile', 'Truck', 'Ship', 'Truck', 'Horse', 'Aeroplane', 'Cat', 'Bird', 'Bird', 'Aeroplane', 'Bird', 'Frog', 'Truck', 'Cat', 'Truck', 'Automobile', 'Cat', 'Frog', 'Deer', 'Bird', 'Deer', 'Cat', 'Bird', 'Bird', 'Dog', 'Bird', 'Horse', 'Cat', 'Deer', 'Aeroplane', 'Ship', 'Ship', 'Aeroplane', 'Horse', 'Ship', 'Horse', 'Deer', 'Aeroplane', 'Deer', 'Bird', 'Frog', 'Automobile', 'Cat', 'Truck', 'Horse', 'Frog', 'Bird', 'Horse', 'Aeroplane', 'Cat', 'Frog', 'Aeroplane', 'Automobile', 'Automobile', 'Ship', 'Cat', 'Dog', 'Dog', 'Truck', 'Bird', 'Deer', 'Ship', 'Automobile', 'Ship', 'Automobile', 'Cat', 'Bird', 'Horse', 'Bird', 'Cat', 'Frog', 'Frog', 'Horse', 'Truck', 'Deer', 'Aeroplane', 'Automobile', 'Aeroplane', 'Deer', 'Dog', 'Aeroplane', 'Ship', 'Aeroplane', 'Horse', 'Deer', 'Automobile', 'Ship', 'Ship', 'Dog', 'Truck', 'Deer', 'Horse', 'Deer', 'Cat', 'Truck', 'Aeroplane', 'Frog', 'Automobile', 'Dog', 'Dog', 'Automobile', 'Frog', 'Horse', 'Automobile', 'Dog', 'Ship', 'Ship', 'Aeroplane', 'Dog', 'Truck', 'Bird', 'Aeroplane', 'Frog', 'Deer', 'Truck', 'Bird', 'Deer', 'Cat', 'Aeroplane', 'Frog', 'Frog', 'Deer', 'Frog', 'Frog', 'Horse', 'Ship', 'Deer', 'Ship', 'Ship', 'Deer', 'Frog', 'Ship', 'Aeroplane', 'Bird', 'Cat', 'Frog', 'Ship', 'Horse', 'Ship', 'Truck', 'Truck', 'Aeroplane', 'Frog', 'Frog', 'Ship', 'Automobile', 'Automobile', 'Horse', 'Deer', 'Frog', 'Bird', 'Dog', 'Frog', 'Truck', 'Aeroplane', 'Bird', 'Deer', 'Automobile', 'Ship', 'Bird', 'Deer', 'Automobile', 'Cat', 'Ship', 'Frog', 'Ship', 'Dog', 'Truck', 'Aeroplane', 'Automobile', 'Aeroplane', 'Bird', 'Truck', 'Bird', 'Truck', 'Aeroplane', 'Truck', 'Horse', 'Ship', 'Dog', 'Aeroplane', 'Frog', 'Frog', 'Ship', 'Automobile', 'Frog', 'Dog', 'Ship', 'Horse', 'Automobile', 'Bird', 'Automobile', 'Frog', 'Deer', 'Dog', 'Frog', 'Cat', 'Aeroplane', 'Truck', 'Ship', 'Truck', 'Dog', 'Ship', 'Truck', 'Ship', 'Cat', 'Frog', 'Frog', 'Deer', 'Ship', 'Ship', 'Automobile', 'Horse', 'Dog', 'Aeroplane', 'Deer', 'Aeroplane', 'Deer', 'Ship', 'Bird', 'Bird', 'Automobile', 'Deer', 'Cat', 'Truck', 'Horse', 'Deer', 'Automobile', 'Dog', 'Automobile', 'Deer', 'Cat', 'Bird', 'Bird', 'Ship', 'Truck', 'Dog', 'Cat', 'Bird', 'Automobile', 'Dog', 'Truck', 'Frog', 'Dog', 'Automobile', 'Bird', 'Ship', 'Bird', 'Automobile', 'Ship', 'Cat', 'Bird', 'Deer', 'Ship', 'Deer', 'Aeroplane', 'Frog', 'Deer', 'Bird', 'Truck', 'Ship', 'Deer', 'Horse', 'Frog', 'Dog', 'Deer', 'Horse', 'Horse', 'Frog', 'Deer', 'Bird', 'Bird', 'Cat', 'Bird', 'Bird', 'Deer', 'Aeroplane', 'Aeroplane', 'Truck', 'Frog', 'Cat', 'Ship', 'Dog', 'Bird', 'Deer', 'Ship', 'Ship', 'Frog', 'Deer', 'Dog', 'Horse', 'Frog', 'Dog', 'Cat', 'Aeroplane', 'Deer', 'Aeroplane', 'Cat', 'Ship', 'Dog', 'Ship', 'Aeroplane', 'Deer', 'Aeroplane', 'Bird', 'Cat', 'Frog', 'Ship', 'Automobile', 'Frog', 'Aeroplane', 'Ship', 'Deer', 'Cat', 'Automobile', 'Deer', 'Cat', 'Bird', 'Deer', 'Dog', 'Frog', 'Aeroplane', 'Horse', 'Automobile', 'Cat', 'Dog', 'Horse', 'Automobile', 'Ship', 'Aeroplane', 'Deer', 'Ship', 'Bird', 'Horse', 'Horse', 'Aeroplane', 'Frog', 'Bird', 'Deer', 'Dog', 'Cat', 'Automobile', 'Cat', 'Automobile', 'Frog', 'Deer', 'Frog', 'Horse', 'Deer', 'Horse', 'Cat', 'Ship', 'Automobile', 'Cat', 'Automobile', 'Deer', 'Frog', 'Truck', 'Ship', 'Horse', 'Deer', 'Dog', 'Deer', 'Truck', 'Horse', 'Horse', 'Bird', 'Cat', 'Dog', 'Frog', 'Horse', 'Deer', 'Automobile', 'Frog', 'Automobile', 'Aeroplane', 'Frog', 'Truck', 'Frog', 'Aeroplane', 'Deer', 'Aeroplane', 'Frog', 'Deer', 'Horse', 'Aeroplane', 'Bird', 'Aeroplane', 'Aeroplane', 'Deer', 'Dog', 'Cat', 'Bird', 'Horse', 'Ship', 'Dog', 'Dog', 'Bird', 'Bird', 'Ship', 'Truck', 'Automobile', 'Bird', 'Bird', 'Aeroplane', 'Cat', 'Deer', 'Truck', 'Ship', 'Frog', 'Automobile', 'Aeroplane', 'Ship', 'Cat', 'Frog', 'Deer', 'Frog', 'Horse', 'Dog', 'Automobile', 'Ship', 'Ship', 'Aeroplane', 'Cat', 'Aeroplane', 'Dog', 'Deer', 'Cat', 'Ship', 'Cat', 'Bird', 'Aeroplane', 'Ship', 'Dog', 'Truck', 'Bird', 'Cat', 'Frog', 'Dog', 'Horse', 'Cat', 'Horse', 'Bird', 'Ship', 'Ship', 'Deer', 'Bird', 'Automobile', 'Frog', 'Bird', 'Truck', 'Truck', 'Ship', 'Frog', 'Ship', 'Automobile', 'Aeroplane', 'Dog', 'Bird', 'Cat', 'Horse', 'Truck', 'Horse', 'Cat', 'Automobile', 'Automobile', 'Cat', 'Bird', 'Horse', 'Deer', 'Deer', 'Automobile', 'Truck', 'Deer', 'Cat', 'Dog', 'Truck', 'Dog', 'Horse', 'Frog', 'Automobile', 'Bird', 'Cat', 'Horse', 'Dog', 'Deer', 'Bird', 'Horse', 'Horse', 'Aeroplane', 'Aeroplane', 'Automobile', 'Deer', 'Deer', 'Cat', 'Bird', 'Truck', 'Ship', 'Horse', 'Aeroplane', 'Truck', 'Aeroplane', 'Cat', 'Horse', 'Frog', 'Dog', 'Ship', 'Deer', 'Dog', 'Frog', 'Dog', 'Dog', 'Deer', 'Bird', 'Truck', 'Bird', 'Deer', 'Horse', 'Bird', 'Aeroplane', 'Automobile', 'Automobile', 'Cat', 'Horse', 'Truck', 'Deer', 'Automobile', 'Frog', 'Horse', 'Cat', 'Cat', 'Horse', 'Frog', 'Deer', 'Dog', 'Bird', 'Frog', 'Frog', 'Aeroplane', 'Cat', 'Aeroplane', 'Deer', 'Horse', 'Cat', 'Ship', 'Automobile', 'Bird', 'Cat', 'Bird', 'Horse', 'Ship', 'Bird', 'Dog', 'Frog', 'Ship', 'Frog', 'Frog', 'Dog', 'Deer', 'Bird', 'Truck', 'Horse', 'Cat', 'Bird', 'Aeroplane', 'Deer', 'Frog', 'Dog', 'Dog', 'Frog', 'Frog', 'Dog', 'Frog', 'Truck', 'Horse', 'Cat', 'Aeroplane', 'Ship', 'Cat', 'Automobile', 'Truck', 'Ship', 'Automobile', 'Truck', 'Aeroplane', 'Dog', 'Aeroplane', 'Deer', 'Horse', 'Horse', 'Bird', 'Bird', 'Dog', 'Frog', 'Truck', 'Deer', 'Horse', 'Dog', 'Horse', 'Aeroplane', 'Ship', 'Frog', 'Dog', 'Ship', 'Cat', 'Ship', 'Truck', 'Bird', 'Bird', 'Truck', 'Bird', 'Horse', 'Deer', 'Automobile', 'Truck', 'Horse', 'Aeroplane', 'Ship', 'Automobile', 'Frog', 'Aeroplane', 'Frog', 'Dog', 'Automobile', 'Deer', 'Bird', 'Ship', 'Bird', 'Ship', 'Cat', 'Cat', 'Automobile', 'Deer', 'Truck', 'Ship', 'Automobile', 'Automobile', 'Cat', 'Truck', 'Truck', 'Deer', 'Frog', 'Ship', 'Dog', 'Cat', 'Bird', 'Bird', 'Aeroplane', 'Ship', 'Dog', 'Automobile', 'Truck', 'Horse', 'Truck', 'Automobile', 'Cat', 'Cat', 'Automobile', 'Aeroplane', 'Cat', 'Ship', 'Truck', 'Horse', 'Aeroplane', 'Ship', 'Ship', 'Ship', 'Truck', 'Deer', 'Ship', 'Cat', 'Aeroplane', 'Horse', 'Aeroplane', 'Horse', 'Aeroplane', 'Dog', 'Dog', 'Deer', 'Cat', 'Aeroplane', 'Truck', 'Truck', 'Aeroplane', 'Cat', 'Horse', 'Aeroplane', 'Ship', 'Deer', 'Deer', 'Dog', 'Bird', 'Ship', 'Ship', 'Deer', 'Cat', 'Dog', 'Deer', 'Cat', 'Ship', 'Aeroplane', 'Ship', 'Deer', 'Ship', 'Dog', 'Dog', 'Frog', 'Dog', 'Automobile', 'Horse', 'Bird', 'Deer', 'Bird', 'Dog', 'Frog', 'Ship', 'Horse', 'Frog', 'Cat', 'Automobile', 'Horse', 'Frog', 'Frog', 'Deer', 'Dog', 'Dog', 'Cat', 'Automobile', 'Ship', 'Horse', 'Cat', 'Aeroplane', 'Frog', 'Horse', 'Automobile', 'Automobile', 'Automobile', 'Frog', 'Horse', 'Frog', 'Automobile', 'Bird', 'Cat', 'Truck', 'Ship', 'Cat', 'Automobile', 'Horse', 'Deer', 'Ship', 'Deer', 'Horse', 'Dog', 'Ship', 'Frog', 'Aeroplane', 'Cat', 'Aeroplane', 'Ship', 'Bird', 'Deer', 'Deer', 'Truck', 'Dog', 'Frog', 'Automobile', 'Deer', 'Horse', 'Horse', 'Truck', 'Aeroplane', 'Automobile', 'Cat', 'Automobile', 'Deer', 'Aeroplane', 'Deer', 'Aeroplane', 'Horse', 'Ship', 'Cat', 'Automobile', 'Cat', 'Bird', 'Automobile', 'Ship', 'Ship', 'Automobile', 'Truck', 'Horse', 'Cat', 'Cat', 'Bird', 'Truck', 'Aeroplane', 'Frog', 'Ship', 'Deer', 'Automobile', 'Horse', 'Horse', 'Aeroplane', 'Deer', 'Horse', 'Ship', 'Deer', 'Truck', 'Aeroplane', 'Horse', 'Aeroplane', 'Frog', 'Horse', 'Automobile', 'Ship', 'Dog', 'Ship', 'Ship', 'Dog', 'Aeroplane', 'Aeroplane', 'Cat', 'Ship', 'Dog', 'Horse', 'Aeroplane', 'Frog', 'Deer', 'Deer', 'Truck', 'Automobile', 'Ship', 'Frog', 'Cat', 'Truck', 'Deer', 'Truck', 'Cat', 'Cat', 'Dog', 'Dog', 'Truck', 'Horse', 'Dog', 'Deer', 'Dog', 'Ship', 'Bird', 'Ship', 'Truck', 'Dog', 'Cat', 'Automobile', 'Truck', 'Aeroplane', 'Bird', 'Aeroplane', 'Automobile', 'Automobile', 'Ship', 'Automobile', 'Automobile', 'Aeroplane', 'Ship', 'Truck', 'Truck', 'Aeroplane', 'Bird', 'Frog', 'Truck', 'Automobile', 'Truck', 'Bird', 'Automobile', 'Truck', 'Bird', 'Truck', 'Truck', 'Truck', 'Automobile', 'Truck', 'Truck', 'Bird', 'Automobile', 'Horse', 'Aeroplane', 'Dog', 'Frog', 'Frog', 'Truck', 'Ship', 'Cat', 'Aeroplane', 'Frog', 'Bird', 'Horse', 'Cat', 'Ship', 'Cat', 'Aeroplane', 'Deer', 'Deer', 'Cat', 'Dog', 'Horse', 'Frog', 'Frog', 'Frog', 'Dog', 'Frog', 'Cat', 'Deer', 'Cat', 'Ship', 'Ship', 'Aeroplane', 'Truck', 'Dog', 'Truck', 'Truck', 'Frog', 'Truck', 'Frog', 'Automobile', 'Cat', 'Horse', 'Bird', 'Aeroplane', 'Cat', 'Dog', 'Deer', 'Horse', 'Frog', 'Truck', 'Bird', 'Bird', 'Cat', 'Truck', 'Dog', 'Cat', 'Bird', 'Ship', 'Cat', 'Dog', 'Dog', 'Automobile', 'Frog', 'Automobile', 'Deer', 'Horse', 'Frog', 'Ship', 'Horse', 'Horse', 'Ship', 'Cat', 'Aeroplane', 'Cat', 'Bird', 'Dog', 'Deer', 'Truck', 'Cat', 'Dog', 'Deer', 'Horse', 'Aeroplane', 'Cat', 'Horse', 'Aeroplane', 'Cat', 'Automobile', 'Ship', 'Ship', 'Horse', 'Cat', 'Dog', 'Horse', 'Ship', 'Dog', 'Horse', 'Ship', 'Automobile', 'Horse', 'Deer', 'Horse', 'Aeroplane', 'Ship', 'Cat', 'Bird', 'Truck', 'Horse', 'Deer', 'Automobile', 'Frog', 'Horse', 'Truck', 'Ship', 'Dog', 'Dog', 'Deer', 'Automobile', 'Aeroplane', 'Truck', 'Deer', 'Deer', 'Cat', 'Bird', 'Deer', 'Ship', 'Aeroplane', 'Ship', 'Bird', 'Truck', 'Cat', 'Truck', 'Horse', 'Horse', 'Frog', 'Horse', 'Cat', 'Bird', 'Automobile', 'Cat', 'Horse', 'Horse', 'Ship', 'Bird', 'Truck', 'Bird', 'Bird', 'Dog', 'Frog', 'Frog', 'Deer', 'Horse', 'Bird', 'Cat', 'Horse', 'Ship', 'Deer', 'Bird', 'Dog', 'Truck', 'Aeroplane', 'Horse', 'Aeroplane', 'Truck', 'Frog', 'Automobile', 'Aeroplane', 'Cat', 'Truck', 'Horse', 'Deer', 'Truck', 'Automobile', 'Bird', 'Ship', 'Automobile', 'Bird', 'Cat', 'Cat', 'Bird', 'Horse', 'Cat', 'Truck', 'Cat', 'Deer', 'Deer', 'Automobile', 'Bird', 'Deer', 'Truck', 'Ship', 'Horse', 'Truck', 'Cat', 'Automobile', 'Bird', 'Automobile', 'Automobile', 'Frog', 'Deer', 'Dog', 'Horse', 'Deer', 'Cat', 'Ship', 'Dog', 'Bird', 'Ship', 'Horse', 'Ship', 'Bird', 'Cat', 'Frog', 'Automobile', 'Dog', 'Cat', 'Automobile', 'Cat', 'Automobile', 'Truck', 'Aeroplane', 'Truck', 'Bird', 'Aeroplane', 'Frog', 'Bird', 'Deer', 'Ship', 'Dog', 'Horse', 'Frog', 'Automobile', 'Bird', 'Truck', 'Deer', 'Cat', 'Aeroplane', 'Ship', 'Cat', 'Horse', 'Aeroplane', 'Bird', 'Automobile', 'Deer', 'Dog', 'Aeroplane', 'Cat', 'Ship', 'Dog', 'Bird', 'Aeroplane', 'Frog', 'Bird', 'Bird', 'Ship', 'Deer', 'Dog', 'Deer', 'Dog', 'Frog', 'Deer', 'Horse', 'Truck', 'Cat', 'Cat', 'Aeroplane', 'Cat', 'Bird', 'Bird', 'Aeroplane', 'Cat', 'Bird', 'Frog', 'Automobile', 'Automobile', 'Dog', 'Cat', 'Bird', 'Bird', 'Frog', 'Cat', 'Deer', 'Dog', 'Truck', 'Automobile', 'Dog', 'Bird', 'Cat', 'Truck', 'Frog', 'Dog', 'Aeroplane', 'Bird', 'Truck', 'Frog', 'Automobile', 'Horse', 'Bird', 'Bird', 'Aeroplane', 'Bird', 'Frog', 'Deer', 'Cat', 'Bird', 'Horse', 'Horse', 'Aeroplane', 'Deer', 'Automobile', 'Frog', 'Dog', 'Automobile', 'Cat', 'Ship', 'Cat', 'Truck', 'Aeroplane', 'Aeroplane', 'Bird', 'Aeroplane', 'Automobile', 'Cat', 'Aeroplane', 'Automobile', 'Automobile', 'Ship', 'Dog', 'Truck', 'Deer', 'Frog', 'Deer', 'Cat', 'Cat', 'Deer', 'Aeroplane', 'Deer', 'Cat', 'Dog', 'Ship', 'Truck', 'Ship', 'Dog', 'Ship', 'Automobile', 'Ship', 'Bird', 'Deer', 'Deer', 'Bird', 'Deer', 'Automobile', 'Automobile', 'Frog', 'Frog', 'Ship', 'Dog', 'Bird', 'Bird', 'Dog', 'Aeroplane', 'Ship', 'Bird', 'Cat', 'Frog', 'Bird', 'Truck', 'Frog', 'Automobile', 'Deer', 'Dog', 'Truck', 'Aeroplane', 'Automobile', 'Horse', 'Aeroplane', 'Ship', 'Automobile', 'Automobile', 'Frog', 'Frog', 'Frog', 'Dog', 'Deer', 'Truck', 'Dog', 'Ship', 'Frog', 'Truck', 'Automobile', 'Horse', 'Frog', 'Aeroplane', 'Truck', 'Dog', 'Frog', 'Cat', 'Bird', 'Dog', 'Cat', 'Deer', 'Truck', 'Horse', 'Automobile', 'Deer', 'Deer', 'Frog', 'Automobile', 'Cat', 'Ship', 'Ship', 'Dog', 'Frog', 'Horse', 'Horse', 'Frog', 'Horse', 'Bird', 'Dog', 'Bird', 'Deer', 'Frog', 'Bird', 'Horse', 'Frog', 'Aeroplane', 'Dog', 'Cat', 'Bird', 'Deer', 'Cat', 'Bird', 'Aeroplane', 'Truck', 'Dog', 'Automobile', 'Automobile', 'Dog', 'Cat', 'Dog', 'Deer', 'Cat', 'Bird', 'Automobile', 'Aeroplane', 'Deer', 'Dog', 'Dog', 'Deer', 'Ship', 'Truck', 'Cat', 'Cat', 'Automobile', 'Ship', 'Truck', 'Automobile', 'Cat', 'Cat', 'Horse', 'Deer', 'Bird', 'Truck', 'Horse', 'Frog', 'Ship', 'Automobile', 'Ship', 'Truck', 'Truck', 'Cat', 'Automobile', 'Horse', 'Cat', 'Aeroplane', 'Aeroplane', 'Bird', 'Aeroplane', 'Dog', 'Truck', 'Bird', 'Horse', 'Deer', 'Frog', 'Aeroplane', 'Automobile', 'Frog', 'Automobile', 'Frog', 'Horse', 'Dog', 'Dog', 'Bird', 'Cat', 'Truck', 'Deer', 'Aeroplane', 'Ship', 'Cat', 'Deer', 'Automobile', 'Deer', 'Automobile', 'Aeroplane', 'Aeroplane', 'Deer', 'Cat', 'Ship', 'Truck', 'Bird', 'Ship', 'Truck', 'Horse', 'Horse', 'Truck', 'Automobile', 'Deer', 'Frog', 'Bird', 'Ship', 'Bird', 'Deer', 'Ship', 'Truck', 'Cat', 'Automobile', 'Automobile', 'Frog', 'Dog', 'Ship', 'Deer', 'Frog', 'Frog', 'Dog', 'Bird', 'Frog', 'Deer', 'Bird', 'Cat', 'Automobile', 'Cat', 'Frog', 'Ship', 'Dog', 'Bird', 'Aeroplane', 'Horse', 'Automobile', 'Frog', 'Bird', 'Cat', 'Truck', 'Bird', 'Ship', 'Automobile', 'Frog', 'Truck', 'Dog', 'Horse', 'Cat', 'Cat', 'Bird', 'Truck', 'Horse', 'Aeroplane', 'Bird', 'Truck', 'Cat', 'Horse', 'Automobile', 'Frog', 'Truck', 'Dog', 'Ship', 'Truck', 'Horse', 'Dog', 'Cat', 'Aeroplane', 'Cat', 'Horse', 'Aeroplane', 'Bird', 'Deer', 'Horse', 'Aeroplane', 'Automobile', 'Ship', 'Automobile', 'Ship', 'Horse', 'Frog', 'Automobile', 'Truck', 'Truck', 'Aeroplane', 'Automobile', 'Bird', 'Cat', 'Frog', 'Truck', 'Horse', 'Horse', 'Cat', 'Deer', 'Bird', 'Aeroplane', 'Bird', 'Dog', 'Deer', 'Horse', 'Deer', 'Horse', 'Automobile', 'Deer', 'Bird', 'Aeroplane', 'Frog', 'Automobile', 'Horse', 'Dog', 'Frog', 'Dog', 'Horse', 'Truck', 'Aeroplane', 'Horse', 'Ship', 'Dog', 'Truck', 'Bird', 'Ship', 'Dog', 'Deer', 'Cat', 'Horse', 'Truck', 'Ship', 'Automobile', 'Deer', 'Deer', 'Ship', 'Truck', 'Cat', 'Aeroplane', 'Frog', 'Deer', 'Aeroplane', 'Bird', 'Aeroplane', 'Automobile', 'Deer', 'Aeroplane', 'Ship', 'Cat', 'Dog', 'Horse', 'Truck', 'Ship', 'Dog', 'Horse', 'Truck', 'Automobile', 'Dog', 'Frog', 'Truck', 'Ship', 'Horse', 'Bird', 'Ship', 'Truck', 'Aeroplane', 'Ship', 'Dog', 'Truck', 'Bird', 'Bird', 'Truck', 'Ship', 'Automobile', 'Truck', 'Automobile', 'Ship', 'Frog', 'Horse', 'Frog', 'Deer', 'Bird', 'Truck', 'Horse', 'Aeroplane', 'Dog', 'Cat', 'Ship', 'Ship', 'Ship', 'Deer', 'Truck', 'Frog', 'Bird', 'Horse', 'Deer', 'Horse', 'Horse', 'Frog', 'Horse', 'Automobile', 'Deer', 'Cat', 'Frog', 'Ship', 'Cat', 'Frog', 'Frog', 'Horse', 'Automobile', 'Cat', 'Truck', 'Horse', 'Automobile', 'Horse', 'Aeroplane', 'Automobile', 'Bird', 'Frog', 'Cat', 'Truck', 'Aeroplane', 'Automobile', 'Bird', 'Dog', 'Bird', 'Bird', 'Dog', 'Deer', 'Truck', 'Ship', 'Horse', 'Deer', 'Deer', 'Truck', 'Horse', 'Frog', 'Horse', 'Truck', 'Automobile', 'Bird', 'Horse', 'Dog', 'Ship', 'Truck', 'Aeroplane', 'Dog', 'Cat', 'Automobile', 'Dog', 'Frog', 'Frog', 'Bird', 'Horse', 'Frog', 'Ship', 'Ship', 'Truck', 'Frog', 'Frog', 'Automobile', 'Aeroplane', 'Horse', 'Dog', 'Ship', 'Deer', 'Automobile', 'Cat', 'Ship', 'Automobile', 'Deer', 'Cat', 'Dog', 'Aeroplane', 'Cat', 'Aeroplane', 'Truck', 'Dog', 'Dog', 'Ship', 'Deer', 'Automobile', 'Truck', 'Aeroplane', 'Deer', 'Cat', 'Ship', 'Bird', 'Truck', 'Aeroplane', 'Horse', 'Truck', 'Ship', 'Horse', 'Automobile', 'Bird', 'Bird', 'Truck', 'Truck', 'Dog', 'Truck', 'Horse', 'Frog', 'Horse', 'Horse', 'Automobile', 'Automobile', 'Bird', 'Deer', 'Bird', 'Aeroplane', 'Frog', 'Ship', 'Truck', 'Aeroplane', 'Bird', 'Bird', 'Automobile', 'Aeroplane', 'Bird', 'Deer', 'Aeroplane', 'Aeroplane', 'Dog', 'Ship', 'Frog', 'Ship', 'Bird', 'Horse', 'Horse', 'Cat', 'Cat', 'Ship', 'Automobile', 'Frog', 'Dog', 'Truck', 'Deer', 'Ship', 'Truck', 'Frog', 'Dog', 'Ship', 'Automobile', 'Truck', 'Deer', 'Aeroplane', 'Deer', 'Automobile', 'Deer', 'Cat', 'Frog', 'Bird', 'Bird', 'Aeroplane', 'Aeroplane', 'Aeroplane', 'Horse', 'Aeroplane', 'Horse', 'Deer', 'Cat', 'Frog', 'Horse', 'Horse', 'Deer', 'Dog', 'Deer', 'Cat', 'Cat', 'Dog', 'Deer', 'Bird', 'Aeroplane', 'Aeroplane', 'Horse', 'Horse', 'Automobile', 'Frog', 'Dog', 'Ship', 'Deer', 'Horse', 'Deer', 'Frog', 'Automobile', 'Ship', 'Dog', 'Truck', 'Dog', 'Dog', 'Frog', 'Bird', 'Bird', 'Horse', 'Dog', 'Dog', 'Ship', 'Automobile', 'Aeroplane', 'Frog', 'Ship', 'Horse', 'Deer', 'Ship', 'Dog', 'Horse', 'Bird', 'Deer', 'Truck', 'Horse', 'Cat', 'Dog', 'Ship', 'Ship', 'Frog', 'Truck', 'Deer', 'Horse', 'Bird', 'Aeroplane', 'Ship', 'Aeroplane', 'Horse', 'Aeroplane', 'Cat', 'Bird', 'Dog', 'Bird', 'Dog', 'Dog', 'Aeroplane', 'Deer', 'Ship', 'Frog', 'Deer', 'Aeroplane', 'Cat', 'Deer', 'Cat', 'Frog', 'Aeroplane', 'Ship', 'Bird', 'Aeroplane', 'Frog', 'Automobile', 'Automobile', 'Frog', 'Automobile', 'Deer', 'Bird', 'Automobile', 'Automobile', 'Bird', 'Cat', 'Deer', 'Deer', 'Cat', 'Ship', 'Ship', 'Dog', 'Automobile', 'Ship', 'Bird', 'Bird', 'Cat', 'Truck', 'Frog', 'Frog', 'Dog', 'Aeroplane', 'Horse', 'Cat', 'Cat', 'Bird', 'Horse', 'Deer', 'Dog', 'Frog', 'Aeroplane', 'Bird', 'Automobile', 'Ship', 'Ship', 'Aeroplane', 'Truck', 'Cat', 'Automobile', 'Aeroplane', 'Dog', 'Deer', 'Bird', 'Horse', 'Cat', 'Frog', 'Horse', 'Frog', 'Aeroplane', 'Aeroplane', 'Dog', 'Horse', 'Deer', 'Horse', 'Horse', 'Aeroplane', 'Frog', 'Automobile', 'Horse', 'Truck', 'Aeroplane', 'Aeroplane', 'Aeroplane', 'Cat', 'Ship', 'Deer', 'Aeroplane', 'Ship', 'Deer', 'Automobile', 'Aeroplane', 'Bird', 'Bird', 'Deer', 'Automobile', 'Automobile', 'Bird', 'Deer', 'Cat', 'Deer', 'Automobile', 'Deer', 'Horse', 'Automobile', 'Aeroplane', 'Aeroplane', 'Truck', 'Aeroplane', 'Aeroplane', 'Bird', 'Ship', 'Ship', 'Dog', 'Dog', 'Aeroplane', 'Cat', 'Aeroplane', 'Ship', 'Frog', 'Bird', 'Dog', 'Truck', 'Bird', 'Truck', 'Automobile', 'Automobile', 'Dog', 'Deer', 'Horse', 'Dog', 'Ship', 'Frog', 'Cat', 'Automobile', 'Dog', 'Dog', 'Cat', 'Deer', 'Automobile', 'Ship', 'Truck', 'Truck', 'Ship', 'Truck', 'Ship', 'Frog', 'Ship', 'Dog', 'Ship', 'Truck', 'Deer', 'Frog', 'Bird', 'Frog', 'Dog', 'Horse', 'Deer', 'Aeroplane', 'Aeroplane', 'Automobile', 'Horse', 'Dog', 'Automobile', 'Dog', 'Automobile', 'Cat', 'Automobile', 'Frog', 'Ship', 'Bird', 'Cat', 'Frog', 'Truck', 'Cat', 'Bird', 'Cat', 'Automobile', 'Horse', 'Bird', 'Aeroplane', 'Automobile', 'Truck', 'Aeroplane', 'Aeroplane', 'Ship', 'Truck', 'Truck', 'Aeroplane', 'Ship', 'Deer', 'Dog', 'Dog', 'Frog', 'Aeroplane', 'Cat', 'Bird', 'Aeroplane', 'Bird', 'Deer', 'Horse', 'Dog', 'Aeroplane', 'Automobile', 'Bird', 'Ship', 'Ship', 'Automobile', 'Bird', 'Automobile', 'Dog', 'Deer', 'Dog', 'Truck', 'Frog', 'Horse', 'Automobile', 'Aeroplane', 'Frog', 'Truck', 'Deer', 'Horse', 'Horse', 'Deer', 'Truck', 'Truck', 'Automobile', 'Truck', 'Horse', 'Aeroplane', 'Automobile', 'Cat', 'Dog', 'Deer', 'Frog', 'Cat', 'Ship', 'Ship', 'Aeroplane', 'Deer', 'Ship', 'Dog', 'Frog', 'Cat', 'Cat', 'Aeroplane', 'Frog', 'Dog', 'Bird', 'Frog', 'Ship', 'Deer', 'Truck', 'Truck', 'Truck', 'Bird', 'Aeroplane', 'Deer', 'Bird', 'Ship', 'Automobile', 'Automobile', 'Aeroplane', 'Aeroplane', 'Cat', 'Horse', 'Deer', 'Automobile', 'Automobile', 'Truck', 'Horse', 'Horse', 'Frog', 'Frog', 'Ship', 'Frog', 'Aeroplane', 'Bird', 'Ship', 'Dog', 'Bird', 'Dog', 'Cat', 'Dog', 'Horse', 'Truck', 'Ship', 'Horse', 'Deer', 'Cat', 'Automobile', 'Deer', 'Ship', 'Deer', 'Frog', 'Dog', 'Cat', 'Aeroplane', 'Ship', 'Truck', 'Dog', 'Horse', 'Frog', 'Cat', 'Aeroplane', 'Deer', 'Truck', 'Truck', 'Aeroplane', 'Dog', 'Dog', 'Ship', 'Dog', 'Automobile', 'Automobile', 'Aeroplane', 'Bird', 'Ship', 'Bird', 'Automobile', 'Automobile', 'Horse', 'Dog', 'Bird', 'Cat', 'Frog', 'Automobile', 'Bird', 'Truck', 'Bird', 'Automobile', 'Truck', 'Deer', 'Ship', 'Truck', 'Aeroplane', 'Ship', 'Frog', 'Truck', 'Aeroplane', 'Cat', 'Bird', 'Aeroplane', 'Frog', 'Ship', 'Horse', 'Cat', 'Cat', 'Ship', 'Truck', 'Aeroplane', 'Bird', 'Bird', 'Cat', 'Frog', 'Automobile', 'Cat', 'Ship', 'Dog', 'Aeroplane', 'Dog', 'Deer', 'Deer', 'Aeroplane', 'Automobile', 'Dog', 'Deer', 'Automobile', 'Horse', 'Truck', 'Aeroplane', 'Frog', 'Bird', 'Deer', 'Horse', 'Automobile', 'Cat', 'Deer', 'Horse', 'Aeroplane', 'Bird', 'Ship', 'Deer', 'Ship', 'Dog', 'Ship', 'Ship', 'Ship', 'Deer', 'Cat', 'Dog', 'Horse', 'Deer', 'Dog', 'Deer', 'Automobile', 'Dog', 'Truck', 'Horse', 'Aeroplane', 'Frog', 'Ship', 'Cat', 'Truck', 'Aeroplane', 'Truck', 'Ship', 'Truck', 'Ship', 'Cat', 'Horse', 'Bird', 'Deer', 'Deer', 'Cat', 'Cat', 'Cat', 'Dog', 'Deer', 'Cat', 'Automobile', 'Automobile', 'Ship', 'Bird', 'Bird', 'Truck', 'Cat', 'Horse', 'Ship', 'Truck', 'Bird', 'Cat', 'Automobile', 'Horse', 'Cat', 'Bird', 'Dog', 'Deer', 'Automobile', 'Deer', 'Dog', 'Cat', 'Cat', 'Deer', 'Cat', 'Ship', 'Aeroplane', 'Aeroplane', 'Cat', 'Automobile', 'Cat', 'Deer', 'Horse', 'Deer', 'Deer', 'Ship', 'Deer', 'Ship', 'Truck', 'Truck', 'Deer', 'Bird', 'Deer', 'Dog', 'Frog', 'Deer', 'Frog', 'Deer', 'Frog', 'Frog', 'Cat', 'Ship', 'Horse', 'Deer', 'Ship', 'Aeroplane', 'Dog', 'Aeroplane', 'Cat', 'Bird', 'Aeroplane', 'Horse', 'Cat', 'Automobile', 'Truck', 'Deer', 'Truck', 'Automobile', 'Ship', 'Deer', 'Bird', 'Automobile', 'Frog', 'Deer', 'Bird', 'Aeroplane', 'Automobile', 'Deer', 'Ship', 'Cat', 'Automobile', 'Horse', 'Automobile', 'Deer', 'Cat', 'Deer', 'Cat', 'Cat', 'Truck', 'Horse', 'Ship', 'Deer', 'Dog', 'Dog', 'Deer', 'Dog', 'Deer', 'Dog', 'Horse', 'Cat', 'Dog', 'Deer', 'Automobile', 'Dog', 'Horse', 'Ship', 'Dog', 'Frog', 'Aeroplane', 'Bird', 'Dog', 'Bird', 'Bird', 'Horse', 'Deer', 'Bird', 'Automobile', 'Frog', 'Ship', 'Frog', 'Ship', 'Cat', 'Bird', 'Horse', 'Dog', 'Truck', 'Horse', 'Automobile', 'Deer', 'Horse', 'Cat', 'Frog', 'Automobile', 'Horse', 'Cat', 'Aeroplane', 'Aeroplane', 'Frog', 'Bird', 'Ship', 'Frog', 'Frog', 'Bird', 'Cat', 'Deer', 'Horse', 'Deer', 'Ship', 'Deer', 'Truck', 'Truck', 'Dog', 'Deer', 'Automobile', 'Deer', 'Aeroplane', 'Cat', 'Horse', 'Automobile', 'Bird', 'Bird', 'Ship', 'Deer', 'Horse', 'Ship', 'Dog', 'Cat', 'Frog', 'Dog', 'Frog', 'Aeroplane', 'Frog', 'Deer', 'Truck', 'Deer', 'Bird', 'Horse', 'Cat', 'Ship', 'Dog', 'Truck', 'Deer', 'Automobile', 'Frog', 'Truck', 'Truck', 'Cat', 'Cat', 'Truck', 'Ship', 'Automobile', 'Cat', 'Truck', 'Dog', 'Truck', 'Aeroplane', 'Truck', 'Horse', 'Cat', 'Deer', 'Deer', 'Bird', 'Frog', 'Deer', 'Ship', 'Automobile', 'Truck', 'Cat', 'Frog', 'Cat', 'Automobile', 'Ship', 'Frog', 'Aeroplane', 'Horse', 'Frog', 'Dog', 'Aeroplane', 'Cat', 'Truck', 'Frog', 'Automobile', 'Bird', 'Ship', 'Automobile', 'Frog', 'Deer', 'Truck', 'Aeroplane', 'Bird', 'Truck', 'Automobile', 'Aeroplane', 'Dog', 'Deer', 'Automobile', 'Frog', 'Truck', 'Ship', 'Truck', 'Aeroplane', 'Frog', 'Automobile', 'Frog', 'Bird', 'Cat', 'Dog', 'Frog', 'Truck', 'Aeroplane', 'Horse', 'Bird', 'Horse', 'Aeroplane', 'Cat', 'Cat', 'Ship', 'Frog', 'Ship', 'Automobile', 'Truck', 'Deer', 'Frog', 'Bird', 'Cat', 'Truck', 'Dog', 'Deer', 'Automobile', 'Truck', 'Bird', 'Aeroplane', 'Horse', 'Cat', 'Cat', 'Automobile', 'Ship', 'Cat', 'Aeroplane', 'Dog', 'Bird', 'Ship', 'Ship', 'Cat', 'Truck', 'Frog', 'Aeroplane', 'Cat', 'Dog', 'Cat', 'Deer', 'Automobile', 'Deer', 'Aeroplane', 'Bird', 'Cat', 'Truck', 'Deer', 'Dog', 'Dog', 'Automobile', 'Bird', 'Frog', 'Aeroplane', 'Truck', 'Truck', 'Horse', 'Automobile', 'Horse', 'Aeroplane', 'Automobile', 'Bird', 'Automobile', 'Dog', 'Cat', 'Frog', 'Deer', 'Automobile', 'Dog', 'Automobile', 'Truck', 'Truck', 'Horse', 'Aeroplane', 'Automobile', 'Horse', 'Frog', 'Bird', 'Frog', 'Dog', 'Aeroplane', 'Aeroplane', 'Automobile', 'Cat', 'Ship', 'Truck', 'Automobile', 'Aeroplane', 'Ship', 'Ship', 'Cat', 'Truck', 'Cat', 'Truck', 'Automobile', 'Cat', 'Frog', 'Horse', 'Frog', 'Aeroplane', 'Ship', 'Frog', 'Bird', 'Deer', 'Bird', 'Cat', 'Dog', 'Dog', 'Deer', 'Automobile', 'Frog', 'Deer', 'Automobile', 'Deer', 'Automobile', 'Horse', 'Automobile', 'Frog', 'Bird', 'Cat', 'Aeroplane', 'Deer', 'Bird', 'Truck', 'Horse', 'Cat', 'Dog', 'Frog', 'Aeroplane', 'Truck', 'Ship', 'Automobile', 'Automobile', 'Cat', 'Dog', 'Frog', 'Cat', 'Cat', 'Ship', 'Horse', 'Bird', 'Truck', 'Horse', 'Horse', 'Cat', 'Horse', 'Automobile', 'Truck', 'Truck', 'Automobile', 'Automobile', 'Truck', 'Cat', 'Dog', 'Dog', 'Cat', 'Aeroplane', 'Truck', 'Aeroplane', 'Frog', 'Frog', 'Aeroplane', 'Deer', 'Ship', 'Truck', 'Bird', 'Cat', 'Automobile', 'Automobile', 'Bird', 'Horse', 'Truck', 'Aeroplane', 'Automobile', 'Ship', 'Dog', 'Deer', 'Deer', 'Horse', 'Deer', 'Ship', 'Cat', 'Cat', 'Cat', 'Deer', 'Dog', 'Aeroplane', 'Aeroplane', 'Automobile', 'Bird', 'Truck', 'Ship', 'Automobile', 'Dog', 'Cat', 'Dog', 'Truck', 'Automobile', 'Truck', 'Automobile', 'Ship', 'Horse', 'Frog', 'Cat', 'Deer', 'Truck', 'Cat', 'Dog', 'Frog', 'Horse', 'Aeroplane', 'Automobile', 'Horse', 'Horse', 'Dog', 'Dog', 'Cat', 'Dog', 'Automobile', 'Horse', 'Frog', 'Ship', 'Deer', 'Deer', 'Dog', 'Deer', 'Cat', 'Deer', 'Bird', 'Horse', 'Dog', 'Frog', 'Aeroplane', 'Horse', 'Bird', 'Frog', 'Horse', 'Bird', 'Automobile', 'Ship', 'Aeroplane', 'Bird', 'Cat', 'Automobile', 'Dog', 'Deer', 'Aeroplane', 'Truck', 'Cat', 'Deer', 'Bird', 'Bird', 'Cat', 'Ship', 'Dog', 'Aeroplane', 'Aeroplane', 'Deer', 'Frog', 'Cat', 'Automobile', 'Bird', 'Aeroplane', 'Dog', 'Horse', 'Dog', 'Dog', 'Automobile', 'Horse', 'Dog', 'Automobile', 'Frog', 'Cat', 'Truck', 'Aeroplane', 'Automobile', 'Bird', 'Automobile', 'Deer', 'Frog', 'Automobile', 'Dog', 'Truck', 'Dog', 'Aeroplane', 'Deer', 'Truck', 'Deer', 'Aeroplane', 'Dog', 'Ship', 'Bird', 'Ship', 'Aeroplane', 'Frog', 'Dog', 'Aeroplane', 'Ship', 'Automobile', 'Horse', 'Dog', 'Frog', 'Truck', 'Cat', 'Bird', 'Cat', 'Truck', 'Dog', 'Frog', 'Automobile', 'Aeroplane', 'Truck', 'Aeroplane', 'Truck', 'Ship', 'Horse', 'Horse', 'Bird', 'Cat', 'Cat', 'Dog', 'Dog', 'Horse', 'Ship', 'Horse', 'Frog', 'Truck', 'Automobile', 'Truck', 'Ship', 'Frog', 'Dog', 'Frog', 'Horse', 'Dog', 'Frog', 'Horse', 'Bird', 'Dog', 'Truck', 'Frog', 'Frog', 'Horse', 'Aeroplane', 'Automobile', 'Aeroplane', 'Automobile', 'Cat', 'Bird', 'Dog', 'Frog', 'Automobile', 'Bird', 'Cat', 'Automobile', 'Truck', 'Truck', 'Ship', 'Frog', 'Ship', 'Cat', 'Ship', 'Truck', 'Aeroplane', 'Deer', 'Aeroplane', 'Cat', 'Cat', 'Frog', 'Deer', 'Aeroplane', 'Truck', 'Horse', 'Frog', 'Dog', 'Ship', 'Frog', 'Deer', 'Frog', 'Aeroplane', 'Cat', 'Cat', 'Cat', 'Aeroplane', 'Bird', 'Horse', 'Bird', 'Horse', 'Bird', 'Truck', 'Bird', 'Dog', 'Aeroplane', 'Frog', 'Frog', 'Cat', 'Deer', 'Dog', 'Dog', 'Truck', 'Automobile', 'Automobile', 'Cat', 'Horse', 'Cat', 'Dog', 'Deer', 'Ship', 'Aeroplane', 'Aeroplane', 'Cat', 'Truck', 'Deer', 'Horse', 'Deer', 'Bird', 'Cat', 'Cat', 'Frog', 'Cat', 'Automobile', 'Truck', 'Cat', 'Cat', 'Ship', 'Cat', 'Bird', 'Deer', 'Horse', 'Dog', 'Horse', 'Dog', 'Horse', 'Automobile', 'Bird', 'Frog', 'Automobile', 'Bird', 'Bird', 'Aeroplane', 'Horse', 'Dog', 'Aeroplane', 'Aeroplane', 'Aeroplane', 'Automobile', 'Frog', 'Cat', 'Dog', 'Ship', 'Deer', 'Cat', 'Truck', 'Horse', 'Automobile', 'Aeroplane', 'Deer', 'Aeroplane', 'Deer', 'Automobile', 'Deer', 'Aeroplane', 'Automobile', 'Bird', 'Automobile', 'Horse', 'Horse', 'Truck', 'Ship', 'Horse', 'Dog', 'Deer', 'Aeroplane', 'Truck', 'Aeroplane', 'Aeroplane', 'Ship', 'Bird', 'Aeroplane', 'Aeroplane', 'Horse', 'Deer', 'Ship', 'Frog', 'Bird', 'Deer', 'Frog', 'Cat', 'Dog', 'Automobile', 'Dog', 'Cat', 'Horse', 'Bird', 'Bird', 'Truck', 'Ship', 'Frog', 'Aeroplane', 'Aeroplane', 'Cat', 'Deer', 'Bird', 'Frog', 'Automobile', 'Frog', 'Dog', 'Deer', 'Bird', 'Bird', 'Truck', 'Horse', 'Aeroplane', 'Ship', 'Aeroplane', 'Deer', 'Frog', 'Dog', 'Horse', 'Truck', 'Horse', 'Bird', 'Dog', 'Horse', 'Horse', 'Cat', 'Automobile', 'Truck', 'Cat', 'Aeroplane', 'Truck', 'Dog', 'Cat', 'Horse', 'Truck', 'Deer', 'Deer', 'Aeroplane', 'Horse', 'Horse', 'Automobile', 'Deer', 'Automobile', 'Ship', 'Ship', 'Horse', 'Aeroplane', 'Aeroplane', 'Aeroplane', 'Horse', 'Bird', 'Truck', 'Horse', 'Frog', 'Automobile', 'Cat', 'Dog', 'Ship', 'Aeroplane', 'Deer', 'Frog', 'Horse', 'Cat', 'Bird', 'Deer', 'Horse', 'Automobile', 'Automobile', 'Cat', 'Truck', 'Horse', 'Aeroplane', 'Automobile', 'Ship', 'Ship', 'Horse', 'Aeroplane', 'Automobile', 'Frog', 'Truck', 'Cat', 'Bird', 'Horse', 'Horse', 'Ship', 'Automobile', 'Aeroplane', 'Cat', 'Bird', 'Frog', 'Horse', 'Dog', 'Bird', 'Aeroplane', 'Automobile', 'Dog', 'Cat', 'Automobile', 'Deer', 'Automobile', 'Cat', 'Aeroplane', 'Ship', 'Frog', 'Bird', 'Automobile', 'Frog', 'Frog', 'Deer', 'Automobile', 'Truck', 'Automobile', 'Deer', 'Automobile', 'Aeroplane', 'Automobile', 'Truck', 'Ship', 'Cat', 'Truck', 'Bird', 'Deer', 'Horse', 'Deer', 'Bird', 'Horse', 'Horse', 'Truck', 'Automobile', 'Bird', 'Frog', 'Frog', 'Cat', 'Deer', 'Deer', 'Automobile', 'Cat', 'Ship', 'Bird', 'Frog', 'Frog', 'Automobile', 'Frog', 'Dog', 'Cat', 'Cat', 'Ship', 'Deer', 'Frog', 'Horse', 'Automobile', 'Truck', 'Dog', 'Frog', 'Deer', 'Frog', 'Aeroplane', 'Horse', 'Automobile', 'Truck', 'Cat', 'Bird', 'Frog', 'Horse', 'Horse', 'Frog', 'Dog', 'Truck', 'Automobile', 'Cat', 'Frog', 'Aeroplane', 'Bird', 'Aeroplane', 'Automobile', 'Automobile', 'Ship', 'Frog', 'Cat', 'Cat', 'Aeroplane', 'Aeroplane', 'Dog', 'Horse', 'Horse', 'Ship', 'Aeroplane', 'Dog', 'Cat', 'Automobile', 'Frog', 'Automobile', 'Dog', 'Automobile', 'Aeroplane', 'Frog', 'Deer', 'Cat', 'Bird', 'Automobile', 'Bird', 'Dog', 'Automobile', 'Truck', 'Ship', 'Cat', 'Cat', 'Truck', 'Horse', 'Dog', 'Aeroplane', 'Bird', 'Frog', 'Truck', 'Deer', 'Deer', 'Cat', 'Truck', 'Frog', 'Ship', 'Frog', 'Frog', 'Ship', 'Dog', 'Deer', 'Horse', 'Frog', 'Horse', 'Horse', 'Deer', 'Frog', 'Truck', 'Frog', 'Bird', 'Deer', 'Aeroplane', 'Automobile', 'Cat', 'Frog', 'Deer', 'Truck', 'Cat', 'Frog', 'Aeroplane', 'Aeroplane', 'Ship', 'Horse', 'Cat', 'Cat', 'Cat', 'Ship', 'Cat', 'Bird', 'Bird', 'Cat', 'Frog', 'Dog', 'Horse', 'Deer', 'Dog', 'Horse', 'Truck', 'Aeroplane', 'Automobile', 'Frog', 'Horse', 'Ship', 'Ship', 'Dog', 'Dog', 'Dog', 'Frog', 'Dog', 'Aeroplane', 'Deer', 'Frog', 'Dog', 'Dog', 'Bird', 'Dog', 'Frog', 'Deer', 'Automobile', 'Ship', 'Cat', 'Automobile', 'Frog', 'Horse', 'Aeroplane', 'Dog', 'Aeroplane', 'Automobile', 'Truck', 'Horse', 'Dog', 'Dog', 'Bird', 'Cat', 'Truck', 'Cat', 'Frog', 'Bird', 'Aeroplane', 'Aeroplane', 'Aeroplane', 'Ship', 'Aeroplane', 'Cat', 'Bird', 'Deer', 'Dog', 'Cat', 'Horse', 'Truck', 'Frog', 'Truck', 'Cat', 'Truck', 'Bird', 'Frog', 'Horse', 'Deer', 'Dog', 'Automobile', 'Cat', 'Horse', 'Frog', 'Truck', 'Dog', 'Ship', 'Cat', 'Ship', 'Dog', 'Ship', 'Dog', 'Frog', 'Dog', 'Aeroplane', 'Ship', 'Bird', 'Ship', 'Automobile', 'Ship', 'Automobile', 'Dog', 'Aeroplane', 'Truck', 'Automobile', 'Cat', 'Cat', 'Frog', 'Automobile', 'Deer', 'Bird', 'Horse', 'Deer', 'Horse', 'Deer', 'Bird', 'Cat', 'Deer', 'Horse', 'Dog', 'Horse', 'Ship', 'Bird', 'Dog', 'Ship', 'Aeroplane', 'Dog', 'Deer', 'Aeroplane', 'Dog', 'Deer', 'Cat', 'Cat', 'Bird', 'Deer', 'Deer', 'Truck', 'Horse', 'Ship', 'Ship', 'Frog', 'Aeroplane', 'Frog', 'Automobile', 'Horse', 'Aeroplane', 'Deer', 'Cat', 'Ship', 'Dog', 'Ship', 'Horse', 'Frog', 'Horse', 'Automobile', 'Deer', 'Bird', 'Cat', 'Dog', 'Frog', 'Horse', 'Automobile', 'Frog', 'Bird', 'Ship', 'Cat', 'Horse', 'Bird', 'Dog', 'Horse', 'Dog', 'Horse', 'Horse', 'Automobile', 'Horse', 'Deer', 'Cat', 'Cat', 'Deer', 'Aeroplane', 'Deer', 'Bird', 'Horse', 'Aeroplane', 'Dog', 'Bird', 'Frog', 'Frog', 'Bird', 'Dog', 'Cat', 'Frog', 'Bird', 'Frog', 'Automobile', 'Bird', 'Truck', 'Bird', 'Aeroplane', 'Automobile', 'Dog', 'Cat', 'Automobile', 'Frog', 'Horse', 'Ship', 'Deer', 'Frog', 'Cat', 'Cat', 'Frog', 'Aeroplane', 'Truck', 'Truck', 'Bird', 'Bird', 'Frog', 'Automobile', 'Deer', 'Frog', 'Bird', 'Dog', 'Horse', 'Ship', 'Ship', 'Cat', 'Frog', 'Bird', 'Cat', 'Bird', 'Cat', 'Deer', 'Deer', 'Deer', 'Ship', 'Truck', 'Bird', 'Frog', 'Aeroplane', 'Truck', 'Horse', 'Truck', 'Ship', 'Horse', 'Horse', 'Cat', 'Ship', 'Bird', 'Truck', 'Cat', 'Dog', 'Horse', 'Dog', 'Ship', 'Horse', 'Cat', 'Horse', 'Ship', 'Horse', 'Truck', 'Frog', 'Bird', 'Cat', 'Cat', 'Aeroplane', 'Bird', 'Truck', 'Ship', 'Bird', 'Ship', 'Aeroplane', 'Dog', 'Dog', 'Dog', 'Aeroplane', 'Automobile', 'Bird', 'Truck', 'Frog', 'Automobile', 'Aeroplane', 'Automobile', 'Ship', 'Frog', 'Dog', 'Cat', 'Dog', 'Horse', 'Cat', 'Deer', 'Ship', 'Cat', 'Dog', 'Horse', 'Horse', 'Bird', 'Dog', 'Cat', 'Cat', 'Dog', 'Horse', 'Cat', 'Horse', 'Aeroplane', 'Dog', 'Deer', 'Cat', 'Frog', 'Truck', 'Cat', 'Dog', 'Horse', 'Ship', 'Bird', 'Automobile', 'Frog', 'Bird', 'Frog', 'Horse', 'Frog', 'Aeroplane', 'Dog', 'Dog', 'Ship', 'Deer', 'Cat', 'Frog', 'Automobile', 'Cat', 'Dog', 'Deer', 'Dog', 'Dog', 'Aeroplane', 'Horse', 'Bird', 'Aeroplane', 'Automobile', 'Bird', 'Deer', 'Automobile', 'Frog', 'Deer', 'Dog', 'Truck', 'Horse', 'Horse', 'Deer', 'Horse', 'Deer', 'Cat', 'Automobile', 'Frog', 'Truck', 'Deer', 'Ship', 'Aeroplane', 'Cat', 'Truck', 'Frog', 'Deer', 'Deer', 'Cat', 'Automobile', 'Deer', 'Frog', 'Cat', 'Aeroplane', 'Ship', 'Aeroplane', 'Horse', 'Frog', 'Truck', 'Deer', 'Ship', 'Automobile', 'Bird', 'Dog', 'Truck', 'Deer', 'Horse', 'Automobile', 'Deer', 'Dog', 'Horse', 'Automobile', 'Cat', 'Frog', 'Deer', 'Horse', 'Automobile', 'Cat', 'Truck', 'Bird', 'Automobile', 'Bird', 'Ship', 'Horse', 'Horse', 'Automobile', 'Bird', 'Bird', 'Deer', 'Frog', 'Horse', 'Horse', 'Dog', 'Deer', 'Frog', 'Deer', 'Cat', 'Frog', 'Frog', 'Automobile', 'Truck', 'Truck', 'Bird', 'Truck', 'Deer', 'Cat', 'Bird', 'Truck', 'Ship', 'Dog', 'Aeroplane', 'Frog', 'Truck', 'Aeroplane', 'Truck', 'Horse', 'Ship', 'Bird', 'Bird', 'Deer', 'Truck', 'Ship', 'Frog', 'Deer', 'Frog', 'Truck', 'Truck', 'Horse', 'Truck', 'Truck', 'Aeroplane', 'Dog', 'Automobile', 'Automobile', 'Ship', 'Frog', 'Truck', 'Truck', 'Dog', 'Frog', 'Dog', 'Cat', 'Truck', 'Horse', 'Truck', 'Deer', 'Dog', 'Deer', 'Cat', 'Cat', 'Truck', 'Ship', 'Ship', 'Cat', 'Horse', 'Ship', 'Horse', 'Aeroplane', 'Deer', 'Aeroplane', 'Horse', 'Deer', 'Ship', 'Truck', 'Bird', 'Aeroplane', 'Horse', 'Deer', 'Aeroplane', 'Frog', 'Aeroplane', 'Cat', 'Frog', 'Horse', 'Bird', 'Frog', 'Deer', 'Aeroplane', 'Frog', 'Truck', 'Dog', 'Frog', 'Frog', 'Dog', 'Aeroplane', 'Dog', 'Bird', 'Frog', 'Cat', 'Cat', 'Aeroplane', 'Bird', 'Ship', 'Dog', 'Deer', 'Bird', 'Truck', 'Cat', 'Aeroplane', 'Dog', 'Bird', 'Ship', 'Bird', 'Horse', 'Frog', 'Dog', 'Deer', 'Ship', 'Bird', 'Aeroplane', 'Automobile', 'Ship', 'Bird', 'Horse', 'Ship', 'Deer', 'Cat', 'Aeroplane', 'Deer', 'Aeroplane', 'Automobile', 'Truck', 'Cat', 'Aeroplane', 'Cat', 'Frog', 'Dog', 'Dog', 'Bird', 'Ship', 'Cat', 'Aeroplane', 'Truck', 'Deer', 'Dog', 'Bird', 'Deer', 'Frog', 'Horse', 'Aeroplane', 'Bird', 'Cat', 'Automobile', 'Aeroplane', 'Aeroplane', 'Bird', 'Automobile', 'Bird', 'Automobile', 'Deer', 'Frog', 'Horse', 'Automobile', 'Aeroplane', 'Dog', 'Bird', 'Dog', 'Truck', 'Bird', 'Dog', 'Frog', 'Horse', 'Automobile', 'Truck', 'Truck', 'Frog', 'Automobile', 'Aeroplane', 'Bird', 'Truck', 'Deer', 'Bird', 'Truck', 'Aeroplane', 'Ship', 'Bird', 'Truck', 'Ship', 'Deer', 'Automobile', 'Bird', 'Automobile', 'Dog', 'Bird', 'Cat', 'Frog', 'Ship', 'Ship', 'Cat', 'Bird', 'Aeroplane', 'Deer', 'Automobile', 'Cat', 'Horse', 'Aeroplane', 'Bird', 'Dog', 'Truck', 'Bird', 'Aeroplane', 'Truck', 'Truck', 'Ship', 'Dog', 'Truck', 'Dog', 'Cat', 'Truck', 'Truck', 'Deer', 'Horse', 'Automobile', 'Frog', 'Frog', 'Deer', 'Deer', 'Ship', 'Truck', 'Bird', 'Horse', 'Automobile', 'Bird', 'Deer', 'Aeroplane', 'Cat', 'Horse', 'Dog', 'Automobile', 'Truck', 'Dog', 'Deer', 'Bird', 'Deer', 'Automobile', 'Automobile', 'Cat', 'Cat', 'Truck', 'Horse', 'Deer', 'Ship', 'Aeroplane', 'Ship', 'Automobile', 'Dog', 'Automobile', 'Cat', 'Truck', 'Aeroplane', 'Truck', 'Bird', 'Dog', 'Aeroplane', 'Frog', 'Truck', 'Automobile', 'Automobile', 'Cat', 'Cat', 'Truck', 'Dog', 'Bird', 'Frog', 'Bird', 'Cat', 'Deer', 'Automobile', 'Cat', 'Truck', 'Ship', 'Horse', 'Dog', 'Ship', 'Horse', 'Deer', 'Dog', 'Bird', 'Dog', 'Ship', 'Frog', 'Horse', 'Bird', 'Aeroplane', 'Aeroplane', 'Horse', 'Dog', 'Cat', 'Dog', 'Horse', 'Horse', 'Frog', 'Bird', 'Ship', 'Bird', 'Horse', 'Horse', 'Frog', 'Automobile', 'Cat', 'Ship', 'Frog', 'Bird', 'Aeroplane', 'Aeroplane', 'Deer', 'Ship', 'Frog', 'Deer', 'Aeroplane', 'Bird', 'Dog', 'Deer', 'Truck', 'Bird', 'Deer', 'Deer', 'Dog', 'Truck', 'Bird', 'Aeroplane', 'Dog', 'Bird', 'Aeroplane', 'Ship', 'Bird', 'Frog', 'Deer', 'Horse', 'Truck', 'Dog', 'Horse', 'Bird', 'Frog', 'Bird', 'Automobile', 'Truck', 'Truck', 'Deer', 'Dog', 'Dog', 'Automobile', 'Ship', 'Automobile', 'Frog', 'Cat', 'Aeroplane', 'Ship', 'Ship', 'Dog', 'Frog', 'Truck', 'Truck', 'Truck', 'Frog', 'Cat', 'Aeroplane', 'Ship', 'Ship', 'Dog', 'Aeroplane', 'Cat', 'Automobile', 'Automobile', 'Aeroplane', 'Horse', 'Aeroplane', 'Dog', 'Aeroplane', 'Deer', 'Deer', 'Frog', 'Dog', 'Cat', 'Bird', 'Truck', 'Frog', 'Automobile', 'Horse', 'Truck', 'Horse', 'Horse', 'Aeroplane', 'Ship', 'Horse', 'Bird', 'Horse', 'Horse', 'Horse', 'Deer', 'Aeroplane', 'Ship', 'Frog', 'Aeroplane', 'Dog', 'Cat', 'Aeroplane', 'Bird', 'Deer', 'Truck', 'Horse', 'Cat', 'Cat', 'Bird', 'Ship', 'Ship', 'Dog', 'Dog', 'Ship', 'Aeroplane', 'Ship', 'Aeroplane', 'Aeroplane', 'Aeroplane', 'Bird', 'Aeroplane', 'Horse', 'Aeroplane', 'Horse', 'Horse', 'Horse', 'Bird', 'Bird', 'Aeroplane', 'Deer', 'Aeroplane', 'Cat', 'Horse', 'Ship', 'Deer', 'Horse', 'Truck', 'Cat', 'Truck', 'Automobile', 'Ship', 'Truck', 'Cat', 'Ship', 'Truck', 'Cat', 'Ship', 'Dog', 'Automobile', 'Cat', 'Bird', 'Horse', 'Dog', 'Deer', 'Deer', 'Horse', 'Dog', 'Horse', 'Truck', 'Frog', 'Cat', 'Aeroplane', 'Ship', 'Deer', 'Dog', 'Cat', 'Automobile', 'Aeroplane', 'Deer', 'Ship', 'Deer', 'Horse', 'Automobile', 'Cat', 'Bird', 'Aeroplane', 'Truck', 'Automobile', 'Ship', 'Truck', 'Frog', 'Ship', 'Automobile', 'Horse', 'Automobile', 'Aeroplane', 'Ship', 'Horse', 'Frog', 'Deer', 'Deer', 'Aeroplane', 'Bird', 'Automobile', 'Bird', 'Frog', 'Automobile', 'Automobile', 'Automobile', 'Ship', 'Ship', 'Ship', 'Truck', 'Ship', 'Aeroplane', 'Deer', 'Deer', 'Bird', 'Dog', 'Frog', 'Frog', 'Cat', 'Automobile', 'Bird', 'Deer', 'Horse', 'Ship', 'Aeroplane', 'Automobile', 'Dog', 'Ship', 'Deer', 'Frog', 'Bird', 'Bird', 'Bird', 'Frog', 'Aeroplane', 'Deer', 'Aeroplane', 'Ship', 'Automobile', 'Cat', 'Cat', 'Cat', 'Ship', 'Truck', 'Automobile', 'Frog', 'Automobile', 'Truck', 'Ship', 'Bird', 'Aeroplane', 'Deer', 'Horse', 'Deer', 'Aeroplane', 'Bird', 'Horse', 'Frog', 'Ship', 'Truck', 'Ship', 'Frog', 'Bird', 'Ship', 'Ship', 'Cat', 'Automobile', 'Automobile', 'Aeroplane', 'Horse', 'Horse', 'Deer', 'Deer', 'Horse', 'Horse', 'Bird', 'Frog', 'Frog', 'Horse', 'Deer', 'Dog', 'Deer', 'Aeroplane', 'Truck', 'Truck', 'Horse', 'Bird', 'Dog', 'Ship', 'Bird', 'Bird', 'Horse', 'Frog', 'Bird', 'Frog', 'Deer', 'Truck', 'Frog', 'Ship', 'Cat', 'Ship', 'Dog', 'Dog', 'Bird', 'Cat', 'Deer', 'Dog', 'Cat', 'Horse', 'Dog', 'Automobile', 'Dog', 'Cat', 'Horse', 'Ship', 'Ship', 'Truck', 'Dog', 'Aeroplane', 'Aeroplane', 'Bird', 'Frog', 'Aeroplane', 'Ship', 'Automobile', 'Deer', 'Automobile', 'Cat', 'Dog', 'Automobile', 'Ship', 'Truck', 'Frog', 'Deer', 'Frog', 'Truck', 'Dog', 'Frog', 'Dog', 'Truck', 'Automobile', 'Deer', 'Bird', 'Truck', 'Truck', 'Dog', 'Deer', 'Dog', 'Ship', 'Cat', 'Horse', 'Automobile', 'Frog', 'Truck', 'Bird', 'Truck', 'Deer', 'Aeroplane', 'Dog', 'Automobile', 'Frog', 'Cat', 'Aeroplane', 'Bird', 'Horse', 'Dog', 'Dog', 'Bird', 'Ship', 'Bird', 'Cat', 'Automobile', 'Cat', 'Bird', 'Horse', 'Aeroplane', 'Ship', 'Truck', 'Bird', 'Frog', 'Frog', 'Deer', 'Dog', 'Dog', 'Ship', 'Ship', 'Horse', 'Ship', 'Dog', 'Horse', 'Deer', 'Deer', 'Aeroplane', 'Aeroplane', 'Horse', 'Aeroplane', 'Deer', 'Aeroplane', 'Deer', 'Deer', 'Bird', 'Frog', 'Deer', 'Aeroplane', 'Horse', 'Cat', 'Horse', 'Aeroplane', 'Deer', 'Frog', 'Bird', 'Truck', 'Automobile', 'Automobile', 'Cat', 'Aeroplane', 'Truck', 'Automobile', 'Aeroplane', 'Cat', 'Dog', 'Cat', 'Aeroplane', 'Truck', 'Aeroplane', 'Frog', 'Bird', 'Bird', 'Deer', 'Automobile', 'Cat', 'Horse', 'Frog', 'Automobile', 'Ship', 'Deer', 'Deer', 'Aeroplane', 'Deer', 'Deer', 'Deer', 'Horse', 'Frog', 'Bird', 'Cat', 'Dog', 'Truck', 'Bird', 'Dog', 'Bird', 'Aeroplane', 'Dog', 'Bird', 'Bird', 'Cat', 'Horse', 'Deer', 'Dog', 'Ship', 'Automobile', 'Truck', 'Cat', 'Automobile', 'Ship', 'Dog', 'Ship', 'Frog', 'Frog', 'Cat', 'Deer', 'Aeroplane', 'Bird', 'Cat', 'Bird', 'Automobile', 'Automobile', 'Ship', 'Deer', 'Truck', 'Cat', 'Cat', 'Bird', 'Bird', 'Cat', 'Cat', 'Dog', 'Aeroplane', 'Bird', 'Automobile', 'Bird', 'Ship', 'Aeroplane', 'Ship', 'Bird', 'Bird', 'Bird', 'Cat', 'Horse', 'Truck', 'Ship', 'Deer', 'Frog', 'Automobile', 'Aeroplane', 'Ship', 'Frog', 'Cat', 'Dog', 'Ship', 'Truck', 'Deer', 'Ship', 'Aeroplane', 'Aeroplane', 'Bird', 'Aeroplane', 'Automobile', 'Ship', 'Cat', 'Horse', 'Dog', 'Ship', 'Bird', 'Truck', 'Cat', 'Ship', 'Truck', 'Ship', 'Ship', 'Truck', 'Dog', 'Deer', 'Ship', 'Truck', 'Dog', 'Dog', 'Deer', 'Bird', 'Dog', 'Ship', 'Ship', 'Automobile', 'Bird', 'Cat', 'Automobile', 'Dog', 'Aeroplane', 'Bird', 'Dog', 'Aeroplane', 'Ship', 'Bird', 'Bird', 'Ship', 'Horse', 'Cat', 'Cat', 'Frog', 'Truck', 'Frog', 'Cat', 'Dog', 'Automobile', 'Automobile', 'Horse', 'Horse', 'Automobile', 'Cat', 'Ship', 'Truck', 'Frog', 'Aeroplane', 'Ship', 'Aeroplane', 'Cat', 'Frog', 'Deer', 'Frog', 'Truck', 'Automobile', 'Automobile', 'Horse', 'Aeroplane', 'Frog', 'Ship', 'Truck', 'Aeroplane', 'Frog', 'Automobile', 'Aeroplane', 'Automobile', 'Automobile', 'Horse', 'Bird', 'Automobile', 'Aeroplane', 'Deer', 'Dog', 'Aeroplane', 'Cat', 'Frog', 'Aeroplane', 'Cat', 'Ship', 'Automobile', 'Ship', 'Automobile', 'Frog', 'Automobile', 'Dog', 'Horse', 'Dog', 'Automobile', 'Ship', 'Truck', 'Automobile', 'Cat', 'Automobile', 'Horse', 'Bird', 'Truck', 'Ship', 'Aeroplane', 'Deer', 'Frog', 'Aeroplane', 'Ship', 'Deer', 'Aeroplane', 'Deer', 'Frog', 'Deer', 'Automobile', 'Automobile', 'Aeroplane', 'Aeroplane', 'Dog', 'Frog', 'Aeroplane', 'Cat', 'Aeroplane', 'Frog', 'Aeroplane', 'Ship', 'Horse', 'Truck', 'Bird', 'Cat', 'Frog', 'Dog', 'Horse', 'Aeroplane', 'Dog', 'Aeroplane', 'Bird', 'Deer', 'Truck', 'Horse', 'Aeroplane', 'Aeroplane', 'Automobile', 'Deer', 'Deer', 'Dog', 'Dog', 'Truck', 'Frog', 'Cat', 'Frog', 'Bird', 'Frog', 'Truck', 'Cat', 'Bird', 'Cat', 'Horse', 'Deer', 'Truck', 'Aeroplane', 'Bird', 'Automobile', 'Frog', 'Frog', 'Deer', 'Horse', 'Frog', 'Dog', 'Cat', 'Bird', 'Automobile', 'Deer', 'Dog', 'Deer', 'Deer', 'Deer', 'Frog', 'Frog', 'Aeroplane', 'Dog', 'Bird', 'Horse', 'Dog', 'Bird', 'Dog', 'Bird', 'Dog', 'Truck', 'Cat', 'Frog', 'Horse', 'Truck', 'Ship', 'Bird', 'Bird', 'Automobile', 'Deer', 'Bird', 'Deer', 'Dog', 'Dog', 'Frog', 'Ship', 'Frog', 'Aeroplane', 'Ship', 'Truck', 'Ship', 'Aeroplane', 'Horse', 'Horse', 'Frog', 'Frog', 'Aeroplane', 'Bird', 'Truck', 'Ship', 'Horse', 'Truck', 'Dog', 'Cat', 'Aeroplane', 'Deer', 'Ship', 'Cat', 'Aeroplane', 'Truck', 'Automobile', 'Cat', 'Truck', 'Ship', 'Aeroplane', 'Dog', 'Deer', 'Frog', 'Ship', 'Bird', 'Automobile', 'Truck', 'Automobile', 'Aeroplane', 'Dog', 'Ship', 'Deer', 'Horse', 'Cat', 'Automobile', 'Deer', 'Cat', 'Cat', 'Automobile', 'Aeroplane', 'Cat', 'Ship', 'Ship', 'Ship', 'Automobile', 'Frog', 'Horse', 'Aeroplane', 'Ship', 'Frog', 'Truck', 'Automobile', 'Frog', 'Aeroplane', 'Horse', 'Horse', 'Automobile', 'Cat', 'Cat', 'Cat', 'Automobile', 'Aeroplane', 'Bird', 'Horse', 'Truck', 'Bird', 'Bird', 'Truck', 'Frog', 'Cat', 'Dog', 'Truck', 'Deer', 'Ship', 'Aeroplane', 'Deer', 'Ship', 'Aeroplane', 'Truck', 'Cat', 'Dog', 'Aeroplane', 'Deer', 'Bird', 'Deer', 'Ship', 'Frog', 'Bird', 'Cat', 'Truck', 'Ship', 'Bird', 'Bird', 'Ship', 'Cat', 'Automobile', 'Automobile', 'Bird', 'Ship', 'Bird', 'Frog', 'Truck', 'Frog', 'Ship', 'Bird', 'Dog', 'Automobile', 'Dog', 'Bird', 'Frog', 'Truck', 'Aeroplane', 'Aeroplane', 'Horse', 'Automobile', 'Ship', 'Truck', 'Cat', 'Truck', 'Truck', 'Aeroplane', 'Horse', 'Horse', 'Bird', 'Deer', 'Bird', 'Frog', 'Deer', 'Dog', 'Horse', 'Dog', 'Ship', 'Horse', 'Dog', 'Frog', 'Bird', 'Bird', 'Deer', 'Deer', 'Aeroplane', 'Cat', 'Automobile', 'Dog', 'Cat', 'Frog', 'Aeroplane', 'Aeroplane', 'Automobile', 'Cat', 'Ship', 'Deer', 'Bird', 'Horse', 'Cat', 'Dog', 'Bird', 'Truck', 'Automobile', 'Aeroplane', 'Aeroplane', 'Frog', 'Dog', 'Truck', 'Horse', 'Truck', 'Truck', 'Frog', 'Cat', 'Dog', 'Cat', 'Ship', 'Cat', 'Automobile', 'Frog', 'Frog', 'Deer', 'Automobile', 'Frog', 'Deer', 'Automobile', 'Dog', 'Aeroplane', 'Aeroplane', 'Deer', 'Dog', 'Ship', 'Bird', 'Ship', 'Dog', 'Aeroplane', 'Dog', 'Aeroplane', 'Dog', 'Cat', 'Automobile', 'Frog', 'Horse', 'Aeroplane', 'Truck', 'Automobile', 'Dog', 'Horse', 'Frog', 'Dog', 'Dog', 'Horse', 'Frog', 'Aeroplane', 'Aeroplane', 'Automobile', 'Horse', 'Cat', 'Automobile', 'Truck', 'Bird', 'Deer', 'Frog', 'Frog', 'Horse', 'Ship', 'Deer', 'Ship', 'Truck', 'Frog', 'Frog', 'Ship', 'Bird', 'Dog', 'Ship', 'Horse', 'Horse', 'Dog', 'Aeroplane', 'Bird', 'Horse', 'Horse', 'Ship', 'Ship', 'Bird', 'Bird', 'Cat', 'Truck', 'Automobile', 'Deer', 'Deer', 'Dog', 'Dog', 'Deer', 'Frog', 'Bird', 'Cat', 'Automobile', 'Aeroplane', 'Cat', 'Cat', 'Cat', 'Bird', 'Dog', 'Automobile', 'Bird', 'Ship', 'Truck', 'Horse', 'Truck', 'Cat', 'Ship', 'Deer', 'Aeroplane', 'Automobile', 'Horse', 'Horse', 'Cat', 'Bird', 'Bird', 'Ship', 'Truck', 'Dog', 'Truck', 'Frog', 'Automobile', 'Horse', 'Deer', 'Deer', 'Aeroplane', 'Cat', 'Horse', 'Automobile', 'Dog', 'Deer', 'Bird', 'Ship', 'Deer', 'Truck', 'Ship', 'Horse', 'Ship', 'Deer', 'Bird', 'Cat', 'Deer', 'Aeroplane', 'Dog', 'Deer', 'Automobile', 'Ship', 'Bird', 'Dog', 'Deer', 'Dog', 'Bird', 'Cat', 'Cat', 'Horse', 'Truck', 'Deer', 'Automobile', 'Deer', 'Truck', 'Cat', 'Automobile', 'Deer', 'Cat', 'Dog', 'Automobile', 'Dog', 'Automobile', 'Deer', 'Aeroplane', 'Automobile', 'Bird', 'Dog', 'Horse', 'Aeroplane', 'Frog', 'Cat', 'Dog', 'Horse', 'Dog', 'Dog', 'Ship', 'Truck', 'Deer', 'Frog', 'Cat', 'Frog', 'Frog', 'Ship', 'Bird', 'Frog', 'Deer', 'Ship', 'Deer', 'Automobile', 'Cat', 'Truck', 'Bird', 'Cat', 'Frog', 'Aeroplane', 'Automobile', 'Frog', 'Bird', 'Bird', 'Ship', 'Bird', 'Deer', 'Cat', 'Automobile', 'Deer', 'Deer', 'Deer', 'Deer', 'Automobile', 'Dog', 'Dog', 'Horse', 'Frog', 'Dog', 'Deer', 'Dog', 'Frog', 'Dog', 'Frog', 'Bird', 'Deer', 'Horse', 'Dog', 'Frog', 'Frog', 'Dog', 'Aeroplane', 'Bird', 'Cat', 'Truck', 'Bird', 'Cat', 'Ship', 'Aeroplane', 'Horse', 'Aeroplane', 'Frog', 'Ship', 'Automobile', 'Horse', 'Ship', 'Truck', 'Automobile', 'Dog', 'Deer', 'Bird', 'Dog', 'Dog', 'Dog', 'Dog', 'Frog', 'Dog', 'Aeroplane', 'Dog', 'Dog', 'Automobile', 'Cat', 'Dog', 'Horse', 'Horse', 'Deer', 'Truck', 'Deer', 'Dog', 'Truck', 'Dog', 'Automobile', 'Horse', 'Frog', 'Frog', 'Deer', 'Ship', 'Deer', 'Automobile', 'Dog', 'Ship', 'Deer', 'Cat', 'Cat', 'Cat', 'Cat', 'Ship', 'Deer', 'Ship', 'Horse', 'Cat', 'Truck', 'Cat', 'Ship', 'Cat', 'Bird', 'Truck', 'Automobile', 'Ship', 'Bird', 'Horse', 'Cat', 'Ship', 'Aeroplane', 'Deer', 'Dog', 'Deer', 'Frog', 'Truck', 'Bird', 'Horse', 'Bird', 'Aeroplane', 'Dog', 'Bird', 'Truck', 'Horse', 'Dog', 'Aeroplane', 'Horse', 'Aeroplane', 'Dog', 'Dog', 'Cat', 'Cat', 'Ship', 'Horse', 'Bird', 'Automobile', 'Frog', 'Truck', 'Ship', 'Truck', 'Frog', 'Automobile', 'Truck', 'Deer', 'Truck', 'Aeroplane', 'Automobile', 'Horse', 'Bird', 'Dog', 'Ship', 'Dog', 'Truck', 'Ship', 'Bird', 'Ship', 'Aeroplane', 'Frog', 'Frog', 'Ship', 'Frog', 'Truck', 'Bird', 'Automobile', 'Automobile', 'Dog', 'Cat', 'Dog', 'Aeroplane', 'Horse', 'Frog', 'Automobile', 'Deer', 'Cat', 'Automobile', 'Automobile', 'Ship', 'Automobile', 'Automobile', 'Bird', 'Bird', 'Deer', 'Truck', 'Truck', 'Dog', 'Bird', 'Horse', 'Cat', 'Cat', 'Frog', 'Truck', 'Frog', 'Truck', 'Ship', 'Ship', 'Deer', 'Horse', 'Deer', 'Horse', 'Bird', 'Dog', 'Ship', 'Aeroplane', 'Truck', 'Aeroplane', 'Horse', 'Ship', 'Automobile', 'Bird', 'Deer', 'Ship', 'Deer', 'Bird', 'Truck', 'Aeroplane', 'Deer', 'Ship', 'Truck', 'Frog', 'Dog', 'Dog', 'Bird', 'Deer', 'Automobile', 'Aeroplane', 'Frog', 'Automobile', 'Automobile', 'Deer', 'Dog', 'Dog', 'Dog', 'Aeroplane', 'Ship', 'Truck', 'Aeroplane', 'Bird', 'Horse', 'Truck', 'Frog', 'Dog', 'Deer', 'Frog', 'Deer', 'Truck', 'Dog', 'Automobile', 'Aeroplane', 'Bird', 'Bird', 'Ship', 'Aeroplane', 'Cat', 'Cat', 'Truck', 'Ship', 'Automobile', 'Truck', 'Horse', 'Horse', 'Cat', 'Automobile', 'Frog', 'Automobile', 'Truck', 'Cat', 'Ship', 'Ship', 'Automobile', 'Truck', 'Dog', 'Ship', 'Truck', 'Cat', 'Automobile', 'Automobile', 'Frog', 'Bird', 'Deer', 'Dog', 'Frog', 'Deer', 'Frog', 'Truck', 'Frog', 'Aeroplane', 'Automobile', 'Dog', 'Truck', 'Dog', 'Ship', 'Bird', 'Ship', 'Bird', 'Truck', 'Automobile', 'Frog', 'Frog', 'Aeroplane', 'Dog', 'Aeroplane', 'Horse', 'Horse', 'Horse', 'Truck', 'Deer', 'Dog', 'Aeroplane', 'Bird', 'Cat', 'Dog', 'Cat', 'Ship', 'Truck', 'Automobile', 'Bird', 'Horse', 'Automobile', 'Cat', 'Cat', 'Frog', 'Truck', 'Automobile', 'Horse', 'Horse', 'Automobile', 'Truck', 'Dog', 'Ship', 'Ship', 'Truck', 'Truck', 'Horse', 'Truck', 'Ship', 'Cat', 'Aeroplane', 'Bird', 'Frog', 'Aeroplane', 'Bird', 'Bird', 'Deer', 'Aeroplane', 'Ship', 'Deer', 'Ship', 'Automobile', 'Horse', 'Horse', 'Bird', 'Deer', 'Truck', 'Dog', 'Bird', 'Bird', 'Truck', 'Bird', 'Frog', 'Dog', 'Deer', 'Bird', 'Dog', 'Frog', 'Cat', 'Truck', 'Ship', 'Bird', 'Frog', 'Ship', 'Frog', 'Dog', 'Aeroplane', 'Ship', 'Aeroplane', 'Aeroplane', 'Automobile', 'Bird', 'Frog', 'Ship', 'Ship', 'Frog', 'Frog', 'Aeroplane', 'Horse', 'Truck', 'Ship', 'Aeroplane', 'Dog', 'Aeroplane', 'Truck', 'Frog', 'Aeroplane', 'Deer', 'Horse', 'Automobile', 'Horse', 'Ship', 'Ship', 'Deer', 'Cat', 'Truck', 'Dog', 'Dog', 'Cat', 'Cat', 'Automobile', 'Dog', 'Cat', 'Aeroplane', 'Bird', 'Dog', 'Bird', 'Bird', 'Cat', 'Ship', 'Deer', 'Deer', 'Frog', 'Automobile', 'Truck', 'Deer', 'Automobile', 'Horse', 'Aeroplane', 'Ship', 'Aeroplane', 'Cat', 'Aeroplane', 'Bird', 'Truck', 'Deer', 'Dog', 'Aeroplane', 'Cat', 'Cat', 'Horse', 'Bird', 'Cat', 'Aeroplane', 'Automobile', 'Deer', 'Horse', 'Truck', 'Truck', 'Aeroplane', 'Horse', 'Dog', 'Frog', 'Horse', 'Automobile', 'Dog', 'Cat', 'Horse', 'Deer', 'Frog', 'Ship', 'Deer', 'Truck', 'Ship', 'Horse', 'Truck', 'Bird', 'Cat', 'Deer', 'Aeroplane', 'Bird', 'Dog', 'Frog', 'Automobile', 'Dog', 'Ship', 'Dog', 'Ship', 'Dog', 'Deer', 'Bird', 'Truck', 'Dog', 'Frog', 'Cat', 'Ship', 'Frog', 'Automobile', 'Ship', 'Cat', 'Aeroplane', 'Ship', 'Cat', 'Cat', 'Truck', 'Aeroplane', 'Deer', 'Bird', 'Aeroplane', 'Dog', 'Truck', 'Truck', 'Cat', 'Ship', 'Aeroplane', 'Frog', 'Aeroplane', 'Bird', 'Cat', 'Horse', 'Ship', 'Deer', 'Frog', 'Truck', 'Automobile', 'Cat', 'Bird', 'Frog', 'Deer', 'Truck', 'Cat', 'Automobile', 'Dog', 'Dog', 'Aeroplane', 'Truck', 'Bird', 'Ship', 'Ship', 'Dog', 'Aeroplane', 'Aeroplane', 'Horse', 'Aeroplane', 'Cat', 'Automobile', 'Frog', 'Deer', 'Aeroplane', 'Truck', 'Bird', 'Frog', 'Horse', 'Deer', 'Bird', 'Aeroplane', 'Aeroplane', 'Horse', 'Cat', 'Cat', 'Bird', 'Frog', 'Deer', 'Bird', 'Horse', 'Ship', 'Aeroplane', 'Truck', 'Aeroplane', 'Automobile', 'Cat', 'Frog', 'Aeroplane', 'Ship', 'Aeroplane', 'Frog', 'Aeroplane', 'Truck', 'Automobile', 'Frog', 'Dog', 'Automobile', 'Aeroplane', 'Automobile', 'Cat', 'Aeroplane', 'Deer', 'Horse', 'Truck', 'Truck', 'Cat', 'Horse', 'Bird', 'Horse', 'Automobile', 'Frog', 'Frog', 'Truck', 'Ship', 'Automobile', 'Bird', 'Deer', 'Bird', 'Automobile', 'Horse', 'Aeroplane', 'Automobile', 'Bird', 'Automobile', 'Automobile', 'Cat', 'Deer', 'Frog', 'Truck', 'Ship', 'Dog', 'Bird', 'Aeroplane', 'Frog', 'Horse', 'Dog', 'Bird', 'Frog', 'Cat', 'Frog', 'Truck', 'Deer', 'Ship', 'Truck', 'Cat', 'Aeroplane', 'Dog', 'Horse', 'Bird', 'Bird', 'Aeroplane', 'Frog', 'Aeroplane', 'Bird', 'Ship', 'Deer', 'Automobile', 'Automobile', 'Bird', 'Bird', 'Frog', 'Bird', 'Truck', 'Automobile', 'Bird', 'Frog', 'Automobile', 'Frog', 'Automobile', 'Ship', 'Truck', 'Bird', 'Cat', 'Automobile', 'Truck', 'Truck', 'Cat', 'Deer', 'Cat', 'Aeroplane', 'Aeroplane', 'Cat', 'Horse', 'Horse', 'Automobile', 'Horse', 'Horse', 'Truck', 'Ship', 'Automobile', 'Dog', 'Dog', 'Cat', 'Automobile', 'Frog', 'Bird', 'Horse', 'Ship', 'Deer', 'Cat', 'Cat', 'Dog', 'Truck', 'Ship', 'Ship', 'Dog', 'Automobile', 'Aeroplane', 'Frog', 'Cat', 'Aeroplane', 'Truck', 'Frog', 'Bird', 'Aeroplane', 'Ship', 'Horse', 'Automobile', 'Bird', 'Frog', 'Truck', 'Automobile', 'Frog', 'Dog', 'Horse', 'Automobile', 'Truck', 'Frog', 'Aeroplane', 'Cat', 'Bird', 'Ship', 'Cat', 'Ship', 'Bird', 'Ship', 'Deer', 'Aeroplane', 'Ship', 'Cat', 'Cat', 'Automobile', 'Cat', 'Cat', 'Aeroplane', 'Dog', 'Aeroplane', 'Deer', 'Automobile', 'Horse', 'Bird', 'Aeroplane', 'Automobile', 'Cat', 'Truck', 'Automobile', 'Frog', 'Automobile', 'Frog', 'Automobile', 'Bird', 'Cat', 'Horse', 'Aeroplane', 'Truck', 'Dog', 'Cat', 'Aeroplane', 'Bird', 'Automobile', 'Horse', 'Truck', 'Horse', 'Automobile', 'Truck', 'Bird', 'Automobile', 'Truck', 'Horse', 'Cat', 'Frog', 'Aeroplane', 'Frog', 'Aeroplane', 'Aeroplane', 'Truck', 'Cat', 'Ship', 'Truck', 'Dog', 'Dog', 'Cat', 'Cat', 'Aeroplane', 'Horse', 'Ship', 'Horse', 'Aeroplane', 'Cat', 'Cat', 'Deer', 'Frog', 'Cat', 'Truck', 'Dog', 'Bird', 'Frog', 'Dog', 'Horse', 'Truck', 'Frog', 'Horse', 'Aeroplane', 'Horse', 'Automobile', 'Bird', 'Cat', 'Automobile', 'Automobile', 'Cat', 'Frog', 'Ship', 'Cat', 'Horse', 'Horse', 'Aeroplane', 'Ship', 'Automobile', 'Dog', 'Bird', 'Frog', 'Dog', 'Cat', 'Frog', 'Cat', 'Cat', 'Truck', 'Ship', 'Deer', 'Frog', 'Ship', 'Aeroplane', 'Cat', 'Automobile', 'Horse', 'Ship', 'Deer', 'Truck', 'Bird', 'Bird', 'Frog', 'Cat', 'Ship', 'Ship', 'Frog', 'Cat', 'Cat', 'Ship', 'Automobile', 'Truck', 'Cat', 'Cat', 'Horse', 'Truck', 'Truck', 'Aeroplane', 'Ship', 'Dog', 'Truck', 'Truck', 'Frog', 'Ship', 'Ship', 'Deer', 'Ship', 'Automobile', 'Bird', 'Automobile', 'Ship', 'Ship', 'Frog', 'Dog', 'Truck', 'Aeroplane', 'Frog', 'Automobile', 'Dog', 'Frog', 'Frog', 'Cat', 'Dog', 'Frog', 'Cat', 'Cat', 'Cat', 'Cat', 'Cat', 'Ship', 'Truck', 'Deer', 'Bird', 'Cat', 'Ship', 'Dog', 'Frog', 'Aeroplane', 'Ship', 'Dog', 'Horse', 'Ship', 'Deer', 'Frog', 'Dog', 'Cat', 'Automobile', 'Ship', 'Truck', 'Aeroplane', 'Deer', 'Truck', 'Aeroplane', 'Cat', 'Dog', 'Cat', 'Frog', 'Bird', 'Horse', 'Horse', 'Ship', 'Deer', 'Aeroplane', 'Dog', 'Cat', 'Frog', 'Automobile', 'Automobile', 'Cat', 'Truck', 'Truck', 'Cat', 'Frog', 'Horse', 'Ship', 'Ship', 'Cat', 'Truck', 'Deer', 'Horse', 'Ship', 'Ship', 'Aeroplane', 'Cat', 'Bird', 'Frog', 'Ship', 'Horse', 'Cat', 'Horse', 'Automobile', 'Ship', 'Horse', 'Cat', 'Dog', 'Deer', 'Deer', 'Cat', 'Ship', 'Frog', 'Automobile', 'Automobile', 'Frog', 'Cat', 'Bird', 'Bird', 'Ship', 'Truck', 'Ship', 'Cat', 'Cat', 'Ship', 'Automobile', 'Ship', 'Aeroplane', 'Dog', 'Bird', 'Aeroplane', 'Dog', 'Bird', 'Cat', 'Ship', 'Frog', 'Cat', 'Truck', 'Frog', 'Frog', 'Dog', 'Aeroplane', 'Horse', 'Ship', 'Cat', 'Deer', 'Cat', 'Automobile', 'Automobile', 'Bird', 'Truck', 'Horse', 'Ship', 'Dog', 'Dog', 'Ship', 'Frog', 'Truck', 'Aeroplane', 'Ship', 'Cat', 'Cat', 'Automobile', 'Cat', 'Cat', 'Cat', 'Cat', 'Cat', 'Ship', 'Ship', 'Deer', 'Frog', 'Deer', 'Bird', 'Deer', 'Cat', 'Ship', 'Aeroplane', 'Frog', 'Bird', 'Frog', 'Dog', 'Dog', 'Bird', 'Horse', 'Horse', 'Deer', 'Deer', 'Truck', 'Cat', 'Ship', 'Dog', 'Horse', 'Horse', 'Ship', 'Dog', 'Bird', 'Truck', 'Automobile', 'Frog', 'Cat', 'Cat', 'Cat', 'Cat', 'Ship', 'Dog', 'Frog', 'Automobile', 'Cat', 'Horse', 'Truck', 'Frog', 'Automobile', 'Frog', 'Deer', 'Horse', 'Aeroplane', 'Dog', 'Horse', 'Deer', 'Truck', 'Automobile', 'Aeroplane', 'Aeroplane', 'Bird', 'Horse', 'Automobile', 'Horse', 'Dog', 'Horse', 'Frog', 'Automobile', 'Frog', 'Frog', 'Deer', 'Frog', 'Bird', 'Automobile', 'Ship', 'Deer', 'Deer', 'Dog', 'Ship', 'Dog', 'Ship', 'Truck', 'Deer', 'Cat', 'Bird', 'Bird', 'Ship', 'Cat', 'Aeroplane', 'Automobile', 'Automobile', 'Automobile', 'Automobile', 'Frog', 'Ship', 'Horse', 'Automobile', 'Cat', 'Aeroplane', 'Frog', 'Dog', 'Aeroplane', 'Bird', 'Aeroplane', 'Frog', 'Bird', 'Aeroplane', 'Truck', 'Ship', 'Frog', 'Ship', 'Cat', 'Ship', 'Bird', 'Ship', 'Frog', 'Aeroplane', 'Frog', 'Automobile', 'Ship', 'Horse', 'Frog', 'Bird', 'Bird', 'Frog', 'Dog', 'Bird', 'Truck', 'Bird', 'Dog', 'Deer', 'Truck', 'Ship', 'Dog', 'Deer', 'Truck', 'Ship', 'Dog', 'Horse', 'Automobile', 'Ship', 'Dog', 'Ship', 'Frog', 'Deer', 'Dog', 'Automobile', 'Cat', 'Aeroplane', 'Cat', 'Truck', 'Ship', 'Aeroplane', 'Deer', 'Truck', 'Bird', 'Automobile', 'Deer', 'Deer', 'Dog', 'Truck', 'Ship', 'Horse', 'Bird', 'Automobile', 'Frog', 'Truck', 'Horse', 'Cat', 'Frog', 'Cat', 'Ship', 'Ship', 'Bird', 'Aeroplane', 'Deer', 'Truck', 'Deer', 'Dog', 'Dog', 'Deer', 'Dog', 'Cat', 'Automobile', 'Aeroplane', 'Ship', 'Aeroplane', 'Deer', 'Bird', 'Truck', 'Automobile', 'Cat', 'Horse', 'Truck', 'Bird', 'Automobile', 'Automobile', 'Aeroplane', 'Deer', 'Automobile', 'Truck', 'Deer', 'Ship', 'Automobile', 'Automobile', 'Automobile', 'Dog', 'Truck', 'Ship', 'Automobile', 'Frog', 'Horse', 'Bird', 'Truck', 'Truck', 'Horse', 'Ship', 'Ship', 'Automobile', 'Truck', 'Horse', 'Ship', 'Ship', 'Automobile', 'Frog', 'Frog', 'Cat', 'Cat', 'Automobile', 'Cat', 'Ship', 'Ship', 'Ship', 'Deer', 'Frog', 'Frog', 'Dog', 'Aeroplane', 'Aeroplane', 'Horse', 'Frog', 'Deer', 'Ship', 'Cat', 'Aeroplane', 'Frog', 'Frog', 'Ship', 'Frog', 'Dog', 'Automobile', 'Automobile', 'Ship', 'Frog', 'Deer', 'Aeroplane', 'Dog', 'Deer', 'Cat', 'Bird', 'Automobile', 'Horse', 'Ship', 'Bird', 'Bird', 'Automobile', 'Horse', 'Deer', 'Ship', 'Horse', 'Cat', 'Frog', 'Horse', 'Aeroplane', 'Aeroplane', 'Deer', 'Truck', 'Aeroplane', 'Frog', 'Dog', 'Automobile', 'Frog', 'Ship', 'Frog', 'Ship', 'Automobile', 'Truck', 'Frog', 'Horse', 'Frog', 'Cat', 'Aeroplane', 'Frog', 'Aeroplane', 'Automobile', 'Cat', 'Automobile', 'Automobile', 'Dog', 'Frog', 'Deer', 'Cat', 'Cat', 'Ship', 'Automobile', 'Frog', 'Frog', 'Automobile', 'Ship', 'Ship', 'Frog', 'Bird', 'Horse', 'Deer', 'Cat', 'Ship', 'Truck', 'Cat', 'Deer', 'Cat', 'Dog', 'Bird', 'Automobile', 'Deer', 'Automobile', 'Aeroplane', 'Dog', 'Frog', 'Horse', 'Cat', 'Horse', 'Dog', 'Bird', 'Cat', 'Bird', 'Frog', 'Frog', 'Deer', 'Deer', 'Aeroplane', 'Horse', 'Automobile', 'Horse', 'Frog', 'Aeroplane', 'Dog', 'Automobile', 'Horse', 'Deer', 'Automobile', 'Bird', 'Bird', 'Deer', 'Truck', 'Ship', 'Bird', 'Ship', 'Horse', 'Cat', 'Cat', 'Deer', 'Horse', 'Bird', 'Cat', 'Automobile', 'Dog', 'Cat', 'Ship', 'Deer', 'Frog', 'Deer', 'Truck', 'Deer', 'Cat', 'Truck', 'Automobile', 'Horse', 'Aeroplane', 'Cat', 'Automobile', 'Ship', 'Dog', 'Bird', 'Dog', 'Horse', 'Bird', 'Horse', 'Truck', 'Frog', 'Ship', 'Frog', 'Ship', 'Bird', 'Dog', 'Truck', 'Aeroplane', 'Deer', 'Ship', 'Dog', 'Deer', 'Dog', 'Cat', 'Ship', 'Aeroplane', 'Deer', 'Ship', 'Frog', 'Horse', 'Bird', 'Cat', 'Automobile', 'Horse', 'Deer', 'Automobile', 'Bird', 'Deer', 'Bird', 'Deer', 'Ship', 'Horse', 'Bird', 'Bird', 'Frog', 'Horse', 'Horse', 'Frog', 'Ship', 'Truck', 'Truck', 'Dog', 'Cat', 'Bird', 'Truck', 'Ship', 'Horse', 'Bird', 'Bird', 'Cat', 'Horse', 'Deer', 'Cat', 'Bird', 'Automobile', 'Truck', 'Ship', 'Automobile', 'Dog', 'Cat', 'Bird', 'Frog', 'Dog', 'Truck', 'Automobile', 'Cat', 'Deer', 'Cat', 'Frog', 'Bird', 'Deer', 'Truck', 'Horse', 'Ship', 'Aeroplane', 'Ship', 'Truck', 'Automobile', 'Bird', 'Dog', 'Horse', 'Bird', 'Aeroplane', 'Cat', 'Frog', 'Automobile', 'Bird', 'Cat', 'Automobile', 'Dog', 'Aeroplane', 'Aeroplane', 'Horse', 'Deer', 'Frog', 'Dog', 'Dog', 'Deer', 'Ship', 'Cat', 'Deer', 'Dog', 'Dog', 'Aeroplane', 'Frog', 'Frog', 'Horse', 'Cat', 'Aeroplane', 'Truck', 'Truck', 'Frog', 'Automobile', 'Aeroplane', 'Deer', 'Frog', 'Horse', 'Bird', 'Truck', 'Bird', 'Frog', 'Frog', 'Ship', 'Bird', 'Automobile', 'Aeroplane', 'Automobile', 'Truck', 'Bird', 'Horse', 'Horse', 'Cat', 'Aeroplane', 'Bird', 'Horse', 'Frog', 'Horse', 'Cat', 'Aeroplane', 'Ship', 'Bird', 'Frog', 'Aeroplane', 'Truck', 'Frog', 'Frog', 'Frog', 'Ship', 'Horse', 'Deer', 'Automobile', 'Ship', 'Automobile', 'Dog', 'Bird', 'Deer', 'Ship', 'Dog', 'Bird', 'Frog', 'Dog', 'Cat', 'Truck', 'Truck', 'Aeroplane', 'Horse', 'Bird', 'Ship', 'Cat', 'Aeroplane', 'Aeroplane', 'Deer', 'Bird', 'Bird', 'Cat', 'Aeroplane', 'Dog', 'Truck', 'Deer', 'Ship', 'Ship', 'Horse', 'Cat', 'Dog', 'Truck', 'Aeroplane', 'Dog', 'Horse', 'Ship', 'Aeroplane', 'Truck', 'Ship', 'Truck', 'Automobile', 'Frog', 'Cat', 'Ship', 'Aeroplane', 'Cat', 'Deer', 'Deer', 'Ship', 'Deer', 'Ship', 'Truck', 'Ship', 'Frog', 'Aeroplane', 'Aeroplane', 'Ship', 'Bird', 'Aeroplane', 'Deer', 'Bird', 'Dog', 'Frog', 'Aeroplane', 'Dog', 'Ship', 'Deer', 'Automobile', 'Truck', 'Aeroplane', 'Automobile', 'Deer', 'Deer', 'Ship', 'Deer', 'Truck', 'Frog', 'Aeroplane', 'Horse', 'Horse', 'Frog', 'Ship', 'Truck', 'Bird', 'Bird', 'Aeroplane', 'Deer', 'Truck', 'Bird', 'Truck', 'Cat', 'Truck', 'Bird', 'Frog', 'Horse', 'Aeroplane', 'Truck', 'Horse', 'Automobile', 'Ship', 'Cat', 'Aeroplane', 'Frog', 'Cat', 'Deer', 'Automobile', 'Truck', 'Bird', 'Frog', 'Horse', 'Truck', 'Ship', 'Frog', 'Truck', 'Deer', 'Automobile', 'Bird', 'Horse', 'Frog', 'Automobile', 'Bird', 'Aeroplane', 'Dog', 'Frog', 'Aeroplane', 'Deer', 'Cat', 'Bird', 'Ship', 'Ship', 'Aeroplane', 'Frog', 'Bird', 'Dog', 'Bird', 'Ship', 'Horse', 'Ship', 'Frog', 'Dog', 'Truck', 'Deer', 'Bird', 'Dog', 'Frog', 'Aeroplane', 'Frog', 'Bird', 'Bird', 'Deer', 'Automobile', 'Aeroplane', 'Dog', 'Truck', 'Ship', 'Truck', 'Horse', 'Frog', 'Truck', 'Cat', 'Ship', 'Automobile', 'Deer', 'Cat', 'Horse', 'Cat', 'Frog', 'Bird', 'Aeroplane', 'Bird', 'Ship', 'Bird', 'Ship', 'Horse', 'Horse', 'Ship', 'Automobile', 'Aeroplane', 'Ship', 'Truck', 'Horse', 'Aeroplane', 'Cat', 'Ship', 'Aeroplane', 'Dog', 'Truck', 'Dog', 'Ship', 'Horse', 'Bird', 'Ship', 'Truck', 'Bird', 'Bird', 'Horse', 'Horse', 'Truck', 'Bird', 'Cat', 'Dog', 'Cat', 'Automobile', 'Cat', 'Bird', 'Aeroplane', 'Aeroplane', 'Deer', 'Truck', 'Frog', 'Cat', 'Ship', 'Aeroplane', 'Dog', 'Ship', 'Frog', 'Dog', 'Ship', 'Dog', 'Bird', 'Truck', 'Horse', 'Truck', 'Horse', 'Automobile', 'Aeroplane', 'Automobile', 'Truck', 'Frog', 'Truck', 'Bird', 'Horse', 'Truck', 'Frog', 'Deer', 'Aeroplane', 'Frog', 'Bird', 'Deer', 'Automobile', 'Dog', 'Horse', 'Bird', 'Ship', 'Dog', 'Truck', 'Aeroplane', 'Cat', 'Cat', 'Cat', 'Bird', 'Horse', 'Frog', 'Dog', 'Bird', 'Dog', 'Truck', 'Aeroplane', 'Dog', 'Truck', 'Truck', 'Ship', 'Horse', 'Dog', 'Deer', 'Ship', 'Frog', 'Cat', 'Bird', 'Cat', 'Automobile', 'Aeroplane', 'Deer', 'Automobile', 'Automobile', 'Ship', 'Deer', 'Truck', 'Deer', 'Deer', 'Cat', 'Cat', 'Truck', 'Dog', 'Aeroplane', 'Automobile', 'Automobile', 'Ship', 'Deer', 'Deer', 'Ship', 'Cat', 'Cat', 'Truck', 'Dog', 'Horse', 'Frog', 'Frog', 'Dog', 'Deer', 'Horse', 'Cat', 'Cat', 'Truck', 'Aeroplane', 'Automobile', 'Dog', 'Truck', 'Dog', 'Horse', 'Frog', 'Aeroplane', 'Deer', 'Bird', 'Bird', 'Dog', 'Frog', 'Cat', 'Ship', 'Truck', 'Cat', 'Frog', 'Automobile', 'Deer', 'Dog', 'Deer', 'Frog', 'Horse', 'Bird', 'Automobile', 'Aeroplane', 'Bird', 'Aeroplane', 'Deer', 'Truck', 'Ship', 'Ship', 'Truck', 'Automobile', 'Automobile', 'Dog', 'Aeroplane', 'Aeroplane', 'Ship', 'Dog', 'Automobile', 'Horse', 'Deer', 'Dog', 'Aeroplane', 'Cat', 'Cat', 'Bird', 'Aeroplane', 'Frog', 'Frog', 'Aeroplane', 'Automobile', 'Cat', 'Truck', 'Ship', 'Cat', 'Horse', 'Ship', 'Ship', 'Deer', 'Ship', 'Truck', 'Aeroplane', 'Automobile', 'Horse', 'Automobile', 'Frog', 'Bird', 'Truck', 'Dog', 'Bird', 'Truck', 'Dog', 'Truck', 'Ship', 'Horse', 'Horse', 'Truck', 'Frog', 'Ship', 'Cat', 'Truck', 'Cat', 'Ship', 'Bird', 'Deer', 'Automobile', 'Ship', 'Bird', 'Aeroplane', 'Truck', 'Bird', 'Truck', 'Ship', 'Ship', 'Frog', 'Horse', 'Cat', 'Horse', 'Automobile', 'Cat', 'Truck', 'Aeroplane', 'Truck', 'Dog', 'Frog', 'Horse', 'Aeroplane', 'Horse', 'Cat', 'Aeroplane', 'Dog', 'Truck', 'Horse', 'Dog', 'Dog', 'Bird', 'Frog', 'Dog', 'Automobile', 'Ship', 'Bird', 'Horse', 'Cat', 'Truck', 'Aeroplane', 'Aeroplane', 'Aeroplane', 'Ship', 'Ship', 'Horse', 'Cat', 'Horse', 'Ship', 'Truck', 'Aeroplane', 'Horse', 'Truck', 'Horse', 'Ship', 'Horse', 'Truck', 'Ship', 'Dog', 'Deer', 'Ship', 'Horse', 'Horse', 'Cat', 'Cat', 'Ship', 'Bird', 'Automobile', 'Truck', 'Cat', 'Dog', 'Deer', 'Truck', 'Dog', 'Horse', 'Ship', 'Horse', 'Cat', 'Dog', 'Cat', 'Dog', 'Truck', 'Horse', 'Frog', 'Bird', 'Cat', 'Frog', 'Deer', 'Dog', 'Truck', 'Deer', 'Bird', 'Automobile', 'Truck', 'Frog', 'Aeroplane', 'Cat', 'Frog', 'Deer', 'Deer', 'Horse', 'Truck', 'Aeroplane', 'Horse', 'Deer', 'Cat', 'Dog', 'Cat', 'Automobile', 'Automobile', 'Bird', 'Frog', 'Ship', 'Bird', 'Automobile', 'Dog', 'Ship', 'Dog', 'Ship', 'Frog', 'Automobile', 'Automobile', 'Dog', 'Aeroplane', 'Frog', 'Aeroplane', 'Truck', 'Bird', 'Frog', 'Dog', 'Automobile', 'Truck', 'Cat', 'Dog', 'Frog', 'Ship', 'Truck', 'Automobile', 'Deer', 'Ship', 'Ship', 'Horse', 'Automobile', 'Horse', 'Deer', 'Cat', 'Deer', 'Truck', 'Horse', 'Dog', 'Bird', 'Truck', 'Truck', 'Deer', 'Cat', 'Bird', 'Automobile', 'Cat', 'Ship', 'Horse', 'Truck', 'Aeroplane', 'Deer', 'Dog', 'Horse', 'Dog', 'Bird', 'Ship', 'Horse', 'Frog', 'Truck', 'Bird', 'Truck', 'Cat', 'Ship', 'Dog', 'Frog', 'Frog', 'Truck', 'Dog', 'Horse', 'Ship', 'Aeroplane', 'Cat', 'Deer', 'Horse', 'Bird', 'Ship', 'Bird', 'Dog', 'Ship', 'Cat', 'Bird', 'Bird', 'Frog', 'Bird', 'Automobile', 'Horse', 'Deer', 'Frog', 'Dog', 'Automobile', 'Cat', 'Horse', 'Dog', 'Automobile', 'Cat', 'Horse', 'Aeroplane', 'Ship', 'Cat', 'Deer', 'Bird', 'Horse', 'Aeroplane', 'Dog', 'Deer', 'Dog', 'Aeroplane', 'Frog', 'Ship', 'Ship', 'Cat', 'Frog', 'Automobile', 'Frog', 'Automobile', 'Horse', 'Aeroplane', 'Cat', 'Deer', 'Bird', 'Truck', 'Deer', 'Dog', 'Ship', 'Horse', 'Cat', 'Aeroplane', 'Truck', 'Frog', 'Ship', 'Aeroplane', 'Ship', 'Bird', 'Ship', 'Dog', 'Horse', 'Horse', 'Bird', 'Bird', 'Aeroplane', 'Aeroplane', 'Aeroplane', 'Horse', 'Deer', 'Automobile', 'Frog', 'Frog', 'Ship', 'Ship', 'Automobile', 'Ship', 'Truck', 'Aeroplane', 'Automobile', 'Deer', 'Frog', 'Aeroplane', 'Truck', 'Aeroplane', 'Frog', 'Deer', 'Frog', 'Cat', 'Bird', 'Ship', 'Ship', 'Deer', 'Automobile', 'Deer', 'Aeroplane', 'Cat', 'Aeroplane', 'Truck', 'Truck', 'Truck', 'Automobile', 'Truck', 'Automobile', 'Bird', 'Bird', 'Dog', 'Deer', 'Bird', 'Truck', 'Frog', 'Ship', 'Truck', 'Frog', 'Frog', 'Ship', 'Aeroplane', 'Frog', 'Automobile', 'Deer', 'Frog', 'Ship', 'Aeroplane', 'Dog', 'Deer', 'Automobile', 'Bird', 'Aeroplane', 'Truck', 'Frog', 'Deer', 'Bird', 'Deer', 'Frog', 'Cat', 'Truck', 'Horse', 'Horse', 'Deer', 'Frog', 'Bird', 'Aeroplane', 'Automobile', 'Truck', 'Aeroplane', 'Aeroplane', 'Dog', 'Truck', 'Aeroplane', 'Truck', 'Horse', 'Ship', 'Frog', 'Horse', 'Frog', 'Ship', 'Dog', 'Deer', 'Dog', 'Cat', 'Aeroplane', 'Cat', 'Bird', 'Automobile', 'Horse', 'Dog', 'Truck', 'Cat', 'Deer', 'Dog', 'Truck', 'Automobile', 'Dog', 'Automobile', 'Automobile', 'Automobile', 'Automobile', 'Truck', 'Horse', 'Dog', 'Deer', 'Truck', 'Horse', 'Ship', 'Dog', 'Aeroplane', 'Bird', 'Ship', 'Dog', 'Cat', 'Deer', 'Aeroplane', 'Frog', 'Deer', 'Ship', 'Deer', 'Deer', 'Frog', 'Frog', 'Deer', 'Ship', 'Automobile', 'Ship', 'Horse', 'Frog', 'Horse', 'Truck', 'Bird', 'Bird', 'Automobile', 'Deer', 'Truck', 'Automobile', 'Frog', 'Horse', 'Bird', 'Aeroplane', 'Automobile', 'Deer', 'Frog', 'Cat', 'Bird', 'Bird', 'Dog', 'Cat', 'Aeroplane', 'Aeroplane', 'Aeroplane', 'Automobile', 'Deer', 'Cat', 'Cat', 'Cat', 'Ship', 'Horse', 'Bird', 'Frog', 'Cat', 'Ship', 'Aeroplane', 'Cat', 'Truck', 'Deer', 'Frog', 'Dog', 'Automobile', 'Automobile', 'Aeroplane', 'Dog', 'Cat', 'Truck', 'Deer', 'Ship', 'Automobile', 'Horse', 'Horse', 'Truck', 'Truck', 'Horse', 'Frog', 'Frog', 'Frog', 'Bird', 'Ship', 'Bird', 'Horse', 'Bird', 'Horse', 'Aeroplane', 'Bird', 'Truck', 'Bird', 'Truck', 'Bird', 'Cat', 'Truck', 'Cat', 'Automobile', 'Aeroplane', 'Automobile', 'Ship', 'Horse', 'Truck', 'Aeroplane', 'Deer', 'Horse', 'Deer', 'Dog', 'Deer', 'Truck', 'Dog', 'Truck', 'Aeroplane', 'Horse', 'Deer', 'Dog', 'Ship', 'Automobile', 'Deer', 'Deer', 'Truck', 'Truck', 'Ship', 'Ship', 'Frog', 'Cat', 'Horse', 'Aeroplane', 'Ship', 'Truck', 'Aeroplane', 'Bird', 'Cat', 'Cat', 'Bird', 'Truck', 'Horse', 'Horse', 'Bird', 'Ship', 'Dog', 'Frog', 'Automobile', 'Frog', 'Dog', 'Truck', 'Truck', 'Truck', 'Cat', 'Aeroplane', 'Aeroplane', 'Cat', 'Aeroplane', 'Bird', 'Automobile', 'Horse', 'Dog', 'Truck', 'Bird', 'Horse', 'Deer', 'Frog', 'Dog', 'Truck', 'Dog', 'Frog', 'Automobile', 'Bird', 'Deer', 'Aeroplane', 'Bird', 'Horse', 'Ship', 'Deer', 'Deer', 'Aeroplane', 'Truck', 'Dog', 'Truck', 'Deer', 'Frog', 'Cat', 'Bird', 'Deer', 'Cat', 'Bird', 'Bird', 'Ship', 'Ship', 'Frog', 'Aeroplane', 'Automobile', 'Frog', 'Ship', 'Bird', 'Ship', 'Dog', 'Aeroplane', 'Deer', 'Truck', 'Automobile', 'Dog', 'Horse', 'Automobile', 'Frog', 'Aeroplane', 'Automobile', 'Dog', 'Bird', 'Ship', 'Automobile', 'Automobile', 'Cat', 'Ship', 'Automobile', 'Ship', 'Automobile', 'Ship', 'Bird', 'Automobile', 'Truck', 'Aeroplane', 'Dog', 'Ship', 'Deer', 'Aeroplane', 'Dog', 'Automobile', 'Bird', 'Aeroplane', 'Deer', 'Truck', 'Dog', 'Automobile', 'Bird', 'Frog', 'Horse', 'Ship', 'Horse', 'Bird', 'Deer', 'Dog', 'Cat', 'Deer', 'Aeroplane', 'Deer', 'Automobile', 'Dog', 'Truck', 'Ship', 'Aeroplane', 'Bird', 'Aeroplane', 'Deer', 'Frog', 'Aeroplane', 'Frog', 'Truck', 'Horse', 'Dog', 'Aeroplane', 'Deer', 'Frog', 'Aeroplane', 'Frog', 'Aeroplane', 'Frog', 'Ship', 'Automobile', 'Automobile', 'Ship', 'Truck', 'Horse', 'Bird', 'Truck', 'Aeroplane', 'Bird', 'Bird', 'Truck', 'Aeroplane', 'Bird', 'Deer', 'Cat', 'Horse', 'Truck', 'Automobile', 'Horse', 'Truck', 'Ship', 'Deer', 'Dog', 'Aeroplane', 'Ship', 'Aeroplane', 'Cat', 'Dog', 'Bird', 'Aeroplane', 'Deer', 'Deer', 'Ship', 'Truck', 'Horse', 'Ship', 'Cat', 'Automobile', 'Frog', 'Aeroplane', 'Truck', 'Automobile', 'Automobile', 'Ship', 'Automobile', 'Horse', 'Deer', 'Aeroplane', 'Horse', 'Ship', 'Bird', 'Automobile', 'Bird', 'Dog', 'Cat', 'Frog', 'Aeroplane', 'Dog', 'Horse', 'Dog', 'Deer', 'Deer', 'Truck', 'Dog', 'Ship', 'Cat', 'Aeroplane', 'Ship', 'Horse', 'Deer', 'Automobile', 'Ship', 'Deer', 'Truck', 'Dog', 'Dog', 'Automobile', 'Horse', 'Horse', 'Horse', 'Horse', 'Aeroplane', 'Cat', 'Ship', 'Cat', 'Cat', 'Aeroplane', 'Dog', 'Horse', 'Aeroplane', 'Ship', 'Aeroplane', 'Aeroplane', 'Truck', 'Cat', 'Aeroplane', 'Cat', 'Deer', 'Ship', 'Deer', 'Bird', 'Frog', 'Frog', 'Bird', 'Frog', 'Bird', 'Truck', 'Deer', 'Aeroplane', 'Automobile', 'Horse', 'Dog', 'Dog', 'Horse', 'Dog', 'Aeroplane', 'Deer', 'Frog', 'Aeroplane', 'Horse', 'Cat', 'Ship', 'Aeroplane', 'Ship', 'Deer', 'Horse', 'Aeroplane', 'Cat', 'Dog', 'Cat', 'Cat', 'Cat', 'Dog', 'Automobile', 'Horse'] [0. 0. 0. 1. 0. 0. 0. 0. 0. 0.]\n"
          ],
          "name": "stdout"
        }
      ]
    },
    {
      "cell_type": "code",
      "metadata": {
        "colab": {
          "base_uri": "https://localhost:8080/"
        },
        "id": "l5r6eX9e7K6i",
        "outputId": "f7894571-9037-41db-8a73-eb6178dd19df"
      },
      "source": [
        "predicted = []\n",
        "\n",
        "for i in range(len(y_test)):\n",
        "  if y_test[i].argmax()==0: \n",
        "      predicted.append(\"Aeroplane\") \n",
        "  elif y_test[i].argmax()==1: \n",
        "      predicted.append('Automobile') \n",
        "  elif y_test[i].argmax()==2: \n",
        "      predicted.append('Bird') \n",
        "  elif y_test[i].argmax()==3: \n",
        "      predicted.append('Cat') \n",
        "  elif y_test[i].argmax()==4: \n",
        "      predicted.append('Deer') \n",
        "  elif y_test[i].argmax()==5: \n",
        "      predicted.append('Dog') \n",
        "  elif y_test[i].argmax()==6: \n",
        "      predicted.append('Frog') \n",
        "  elif y_test[i].argmax()==7: \n",
        "      predicted.append('Horse') \n",
        "  elif y_test[i].argmax()==8: \n",
        "      predicted.append('Ship') \n",
        "  elif y_test[i].argmax()==9: \n",
        "      predicted.append('Truck') \n",
        "\n",
        "\n",
        "print(len(actual),len(predicted))"
      ],
      "execution_count": 10,
      "outputs": [
        {
          "output_type": "stream",
          "text": [
            "10000 10000\n"
          ],
          "name": "stdout"
        }
      ]
    },
    {
      "cell_type": "code",
      "metadata": {
        "colab": {
          "base_uri": "https://localhost:8080/",
          "height": 652
        },
        "id": "iGeIRBPc1pGI",
        "outputId": "bfd0d019-ab13-4964-c4e9-cbcef2ec781b"
      },
      "source": [
        "import pandas as pd\n",
        "import seaborn as sn\n",
        "import matplotlib.pyplot as plt\n",
        "\n",
        "data = {'y_Actual':    actual,\n",
        "        'y_Predicted': predicted\n",
        "        }\n",
        "\n",
        "df = pd.DataFrame(data, columns=['y_Actual','y_Predicted'])\n",
        "confusion_matrix = pd.crosstab(df['y_Actual'], df['y_Predicted'], rownames=['Actual'], colnames=['Predicted'])\n",
        "\n",
        "fig, ax = plt.subplots(figsize=(10,10))  \n",
        "sn.heatmap(confusion_matrix, annot=True, linewidths=1.5)\n",
        "plt.show()"
      ],
      "execution_count": 11,
      "outputs": [
        {
          "output_type": "display_data",
          "data": {
            "image/png": "[encoded data removed]",
            "text/plain": [
              "<Figure size 720x720 with 2 Axes>"
            ]
          },
          "metadata": {
            "tags": [],
            "needs_background": "light"
          }
        }
      ]
    },
    {
      "cell_type": "code",
      "metadata": {
        "colab": {
          "base_uri": "https://localhost:8080/"
        },
        "id": "WpT6vQvQ-TYz",
        "outputId": "65c40486-f4a2-442e-b57d-cd3a94e2f330"
      },
      "source": [
        "from sklearn.metrics import classification_report\n",
        "target_names = ['Aeroplane', 'Automobile', 'Bird','Cat','Deer','Dog', 'Frog','Horse', 'Ship', 'Truck']\n",
        "print(classification_report(actual, predicted, target_names=target_names))"
      ],
      "execution_count": 12,
      "outputs": [
        {
          "output_type": "stream",
          "text": [
            "              precision    recall  f1-score   support\n",
            "\n",
            "   Aeroplane       0.85      0.85      0.85       997\n",
            "  Automobile       0.91      0.92      0.92       988\n",
            "        Bird       0.76      0.75      0.75      1015\n",
            "         Cat       0.69      0.65      0.67      1052\n",
            "        Deer       0.78      0.79      0.78       987\n",
            "         Dog       0.71      0.75      0.73       947\n",
            "        Frog       0.86      0.86      0.86       999\n",
            "       Horse       0.85      0.88      0.86       963\n",
            "        Ship       0.93      0.86      0.89      1081\n",
            "       Truck       0.88      0.91      0.89       971\n",
            "\n",
            "    accuracy                           0.82     10000\n",
            "   macro avg       0.82      0.82      0.82     10000\n",
            "weighted avg       0.82      0.82      0.82     10000\n",
            "\n"
          ],
          "name": "stdout"
        }
      ]
    },
    {
      "cell_type": "code",
      "metadata": {
        "id": "T4hJvFsM3GNW"
      },
      "source": [
        "from keras.models import load_model \n",
        "model.save('cifar-10_original_model.h5')"
      ],
      "execution_count": 13,
      "outputs": []
    },
    {
      "cell_type": "code",
      "metadata": {
        "colab": {
          "base_uri": "https://localhost:8080/"
        },
        "id": "4joQ9m-z3GP0",
        "outputId": "d7149a5c-1a89-479f-e50a-59208b973c57"
      },
      "source": [
        "import tensorflow as tf\n",
        "\n",
        "converter = tf.lite.TFLiteConverter.from_keras_model(model)\n",
        "tflite_model = converter.convert()\n",
        "\n",
        "# Save the model.\n",
        "with open('cifar-10_original_model.tflite', 'wb') as f:\n",
        "  f.write(tflite_model)"
      ],
      "execution_count": 14,
      "outputs": [
        {
          "output_type": "stream",
          "text": [
            "INFO:tensorflow:Assets written to: /tmp/tmprfvk5par/assets\n"
          ],
          "name": "stdout"
        }
      ]
    },
    {
      "cell_type": "code",
      "metadata": {
        "colab": {
          "base_uri": "https://localhost:8080/"
        },
        "id": "ars7Sv323jHQ",
        "outputId": "0e3602d8-1777-4be1-8216-7bbdc2db0449"
      },
      "source": [
        "from google.colab import drive\n",
        "drive.mount('drive')"
      ],
      "execution_count": 15,
      "outputs": [
        {
          "output_type": "stream",
          "text": [
            "Mounted at drive\n"
          ],
          "name": "stdout"
        }
      ]
    },
    {
      "cell_type": "code",
      "metadata": {
        "id": "Fgvh0OxV9zLy"
      },
      "source": [
        "#!ls drive/MyDrive/Bosch\n",
        "#!cp cifar-10_original_model.h5 drive/MyDrive/Bosch/\n",
        "#!cp cifar-10_original_model.tflite drive/MyDrive/Bosch/\n",
        "#!ls drive/MyDrive/Bosch"
      ],
      "execution_count": 16,
      "outputs": []
    },
    {
      "cell_type": "code",
      "metadata": {
        "colab": {
          "base_uri": "https://localhost:8080/"
        },
        "id": "ZJ5SsQt5crne",
        "outputId": "e173441e-1cb8-4409-c5d3-191f28d9951c"
      },
      "source": [
        ""
      ],
      "execution_count": 44,
      "outputs": [
        {
          "output_type": "stream",
          "text": [
            "[[[0.61960787 0.4392157  0.19215687]\n",
            "  [0.62352943 0.43529412 0.18431373]\n",
            "  [0.64705884 0.45490196 0.2       ]\n",
            "  ...\n",
            "  [0.5372549  0.37254903 0.14117648]\n",
            "  [0.49411765 0.35686275 0.14117648]\n",
            "  [0.45490196 0.33333334 0.12941177]]\n",
            "\n",
            " [[0.59607846 0.4392157  0.2       ]\n",
            "  [0.5921569  0.43137255 0.15686275]\n",
            "  [0.62352943 0.44705883 0.1764706 ]\n",
            "  ...\n",
            "  [0.53333336 0.37254903 0.12156863]\n",
            "  [0.49019608 0.35686275 0.1254902 ]\n",
            "  [0.46666667 0.34509805 0.13333334]]\n",
            "\n",
            " [[0.5921569  0.43137255 0.18431373]\n",
            "  [0.5921569  0.42745098 0.12941177]\n",
            "  [0.61960787 0.43529412 0.14117648]\n",
            "  ...\n",
            "  [0.54509807 0.38431373 0.13333334]\n",
            "  [0.50980395 0.37254903 0.13333334]\n",
            "  [0.47058824 0.34901962 0.12941177]]\n",
            "\n",
            " ...\n",
            "\n",
            " [[0.26666668 0.4862745  0.69411767]\n",
            "  [0.16470589 0.39215687 0.5803922 ]\n",
            "  [0.12156863 0.34509805 0.5372549 ]\n",
            "  ...\n",
            "  [0.14901961 0.38039216 0.57254905]\n",
            "  [0.05098039 0.2509804  0.42352942]\n",
            "  [0.15686275 0.33333334 0.49803922]]\n",
            "\n",
            " [[0.23921569 0.45490196 0.65882355]\n",
            "  [0.19215687 0.4        0.5803922 ]\n",
            "  [0.13725491 0.33333334 0.5176471 ]\n",
            "  ...\n",
            "  [0.10196079 0.32156864 0.50980395]\n",
            "  [0.11372549 0.32156864 0.49411765]\n",
            "  [0.07843138 0.2509804  0.41960785]]\n",
            "\n",
            " [[0.21176471 0.41960785 0.627451  ]\n",
            "  [0.21960784 0.4117647  0.58431375]\n",
            "  [0.1764706  0.34901962 0.5176471 ]\n",
            "  ...\n",
            "  [0.09411765 0.3019608  0.4862745 ]\n",
            "  [0.13333334 0.32941177 0.5058824 ]\n",
            "  [0.08235294 0.2627451  0.43137255]]]\n"
          ],
          "name": "stdout"
        }
      ]
    },
    {
      "cell_type": "markdown",
      "metadata": {
        "id": "mqsgfauI32ao"
      },
      "source": [
        "##**Model steal**\n"
      ]
    },
    {
      "cell_type": "markdown",
      "metadata": {
        "id": "y-ta3QTK7aSK"
      },
      "source": [
        "Label generation of noisy input using original model\n"
      ]
    },
    {
      "cell_type": "code",
      "metadata": {
        "id": "-yCa0Odo30jY"
      },
      "source": [
        "import numpy as np\n",
        "import os\n",
        "import cv2"
      ],
      "execution_count": 213,
      "outputs": []
    },
    {
      "cell_type": "code",
      "metadata": {
        "id": "jtxRZ65h4fpx"
      },
      "source": [
        "def noisy(noise_typ,image):\n",
        "   if noise_typ == \"gauss\":\n",
        "      row,col,ch= image.shape\n",
        "      mean = 0\n",
        "      var = 0.1\n",
        "      sigma = var**0.5\n",
        "      gauss = np.random.normal(mean,sigma,(row,col,ch))\n",
        "      gauss = gauss.reshape(row,col,ch)\n",
        "      noisy = image + gauss\n",
        "      return noisy\n",
        "   elif noise_typ == \"s&p\":\n",
        "      row,col,ch = image.shape\n",
        "      s_vs_p = 0.5\n",
        "      amount = 0.7\n",
        "      out = np.copy(image)\n",
        "      # Salt mode\n",
        "      num_salt = np.ceil(amount * image.size * s_vs_p)\n",
        "      coords = [np.random.randint(0, i - 1, int(num_salt))\n",
        "              for i in image.shape]\n",
        "      out[coords] = np.random.randint(low=0,high=124,size=1)\n",
        "\n",
        "      # Pepper mode\n",
        "      num_pepper = np.ceil(amount* image.size * (1. - s_vs_p))\n",
        "      coords = [np.random.randint(0, i - 1, int(num_pepper))\n",
        "              for i in image.shape]\n",
        "      out[coords] = np.random.randint(low=124,high=255,size=1)\n",
        "      return out\n",
        "   elif noise_typ == \"poisson\":\n",
        "      vals = len(np.unique(image))\n",
        "      vals = 2 ** np.ceil(np.log2(vals))\n",
        "      noisy = np.random.poisson(image * vals) / float(vals)\n",
        "      return noisy\n",
        "   elif noise_typ ==\"speckle\":\n",
        "      row,col,ch = image.shape\n",
        "      gauss = np.random.randn(row,col,ch)\n",
        "      gauss = gauss.reshape(row,col,ch)        \n",
        "      noisy = image + image * gauss\n",
        "      return noisy"
      ],
      "execution_count": 214,
      "outputs": []
    },
    {
      "cell_type": "code",
      "metadata": {
        "id": "3eTs0gg45E_R"
      },
      "source": [
        "(x_train_rLabel, y_train_rLabel), (x_test_rLabel, y_test_rLabel) = cifar10.load_data()"
      ],
      "execution_count": 215,
      "outputs": []
    },
    {
      "cell_type": "code",
      "metadata": {
        "colab": {
          "base_uri": "https://localhost:8080/"
        },
        "id": "wqw0zOOv4iLc",
        "outputId": "cedfaafd-f383-4c06-e950-891f2aecee60"
      },
      "source": [
        "percentage = 5\n",
        "num_of_img = int(len(x_train_rLabel)*(percentage/100))\n",
        "print(num_of_img)\n",
        "x_train_noise = []\n",
        "for i in range(num_of_img):\n",
        "  x_train_noise.append(x_train_rLabel[i])\n",
        "\n",
        "x_train_noise = np.array(x_train_noise)"
      ],
      "execution_count": 216,
      "outputs": [
        {
          "output_type": "stream",
          "text": [
            "2500\n"
          ],
          "name": "stdout"
        }
      ]
    },
    {
      "cell_type": "code",
      "metadata": {
        "colab": {
          "base_uri": "https://localhost:8080/"
        },
        "id": "tC_71vY05YBS",
        "outputId": "4bde4593-8d41-40e1-bc02-57b10032cdd7"
      },
      "source": [
        "for i in range(num_of_img):\n",
        "  x_train_noise[i] = noisy('s&p',x_train_noise[i])"
      ],
      "execution_count": 217,
      "outputs": [
        {
          "output_type": "stream",
          "text": [
            "/usr/local/lib/python3.7/dist-packages/ipykernel_launcher.py:20: FutureWarning: Using a non-tuple sequence for multidimensional indexing is deprecated; use `arr[tuple(seq)]` instead of `arr[seq]`. In the future this will be interpreted as an array index, `arr[np.array(seq)]`, which will result either in an error or a different result.\n",
            "/usr/local/lib/python3.7/dist-packages/ipykernel_launcher.py:26: FutureWarning: Using a non-tuple sequence for multidimensional indexing is deprecated; use `arr[tuple(seq)]` instead of `arr[seq]`. In the future this will be interpreted as an array index, `arr[np.array(seq)]`, which will result either in an error or a different result.\n"
          ],
          "name": "stderr"
        }
      ]
    },
    {
      "cell_type": "code",
      "metadata": {
        "colab": {
          "base_uri": "https://localhost:8080/"
        },
        "id": "vx92QyO_mXfW",
        "outputId": "9c872f36-d441-4fdf-f196-b4fb7ccf8232"
      },
      "source": [
        "print(x_train_rLabel.shape )\n"
      ],
      "execution_count": 189,
      "outputs": [
        {
          "output_type": "stream",
          "text": [
            "(50000, 32, 32, 3)\n"
          ],
          "name": "stdout"
        }
      ]
    },
    {
      "cell_type": "code",
      "metadata": {
        "colab": {
          "base_uri": "https://localhost:8080/"
        },
        "id": "QcN-dtYxmewX",
        "outputId": "0271926f-6543-4a30-9e78-a5c80f0f9461"
      },
      "source": [
        "print(x_train_noise.shape)"
      ],
      "execution_count": 218,
      "outputs": [
        {
          "output_type": "stream",
          "text": [
            "(2500, 32, 32, 3)\n"
          ],
          "name": "stdout"
        }
      ]
    },
    {
      "cell_type": "code",
      "metadata": {
        "colab": {
          "base_uri": "https://localhost:8080/",
          "height": 284
        },
        "id": "rcs81H_z5YEA",
        "outputId": "2f8d295e-59ab-4902-b96f-bdfbe1ac95d5"
      },
      "source": [
        "plt.imshow(x_train_noise[5])"
      ],
      "execution_count": 219,
      "outputs": [
        {
          "output_type": "execute_result",
          "data": {
            "text/plain": [
              "<matplotlib.image.AxesImage at 0x7f1032ef2250>"
            ]
          },
          "metadata": {
            "tags": []
          },
          "execution_count": 219
        },
        {
          "output_type": "display_data",
          "data": {
            "image/png": "[encoded data removed]",
            "text/plain": [
              "<Figure size 432x288 with 1 Axes>"
            ]
          },
          "metadata": {
            "tags": [],
            "needs_background": "light"
          }
        }
      ]
    },
    {
      "cell_type": "code",
      "metadata": {
        "colab": {
          "base_uri": "https://localhost:8080/",
          "height": 284
        },
        "id": "EOoDOL0t5YGW",
        "outputId": "b54edd92-3ed7-4e56-af57-5a7e0846dea3"
      },
      "source": [
        "plt.imshow(x_train_noise[16])"
      ],
      "execution_count": 220,
      "outputs": [
        {
          "output_type": "execute_result",
          "data": {
            "text/plain": [
              "<matplotlib.image.AxesImage at 0x7f102dad1890>"
            ]
          },
          "metadata": {
            "tags": []
          },
          "execution_count": 220
        },
        {
          "output_type": "display_data",
          "data": {
            "image/png": "[encoded data removed]",
            "text/plain": [
              "<Figure size 432x288 with 1 Axes>"
            ]
          },
          "metadata": {
            "tags": [],
            "needs_background": "light"
          }
        }
      ]
    },
    {
      "cell_type": "code",
      "metadata": {
        "colab": {
          "base_uri": "https://localhost:8080/",
          "height": 398
        },
        "id": "1fBVbxcR5YI1",
        "outputId": "7f8c7c8f-12b0-4612-f81c-0edb1534fa8d"
      },
      "source": [
        "rLabels=[]\n",
        "\n",
        "for i in range(num_of_img):\n",
        "  test_image =np.expand_dims(x_train_noise[i], axis =0)\n",
        "  rLabels.append([model.predict(test_image).argmax()])\n",
        "\n"
      ],
      "execution_count": 221,
      "outputs": [
        {
          "output_type": "error",
          "ename": "RuntimeError",
          "evalue": "ignored",
          "traceback": [
            "\u001b[0;31m---------------------------------------------------------------------------\u001b[0m",
            "\u001b[0;31mRuntimeError\u001b[0m                              Traceback (most recent call last)",
            "\u001b[0;32m<ipython-input-221-c16988cf5579>\u001b[0m in \u001b[0;36m<module>\u001b[0;34m()\u001b[0m\n\u001b[1;32m      3\u001b[0m \u001b[0;32mfor\u001b[0m \u001b[0mi\u001b[0m \u001b[0;32min\u001b[0m \u001b[0mrange\u001b[0m\u001b[0;34m(\u001b[0m\u001b[0mnum_of_img\u001b[0m\u001b[0;34m)\u001b[0m\u001b[0;34m:\u001b[0m\u001b[0;34m\u001b[0m\u001b[0;34m\u001b[0m\u001b[0m\n\u001b[1;32m      4\u001b[0m   \u001b[0mtest_image\u001b[0m \u001b[0;34m=\u001b[0m\u001b[0mnp\u001b[0m\u001b[0;34m.\u001b[0m\u001b[0mexpand_dims\u001b[0m\u001b[0;34m(\u001b[0m\u001b[0mx_train_noise\u001b[0m\u001b[0;34m[\u001b[0m\u001b[0mi\u001b[0m\u001b[0;34m]\u001b[0m\u001b[0;34m,\u001b[0m \u001b[0maxis\u001b[0m \u001b[0;34m=\u001b[0m\u001b[0;36m0\u001b[0m\u001b[0;34m)\u001b[0m\u001b[0;34m\u001b[0m\u001b[0;34m\u001b[0m\u001b[0m\n\u001b[0;32m----> 5\u001b[0;31m   \u001b[0mrLabels\u001b[0m\u001b[0;34m.\u001b[0m\u001b[0mappend\u001b[0m\u001b[0;34m(\u001b[0m\u001b[0;34m[\u001b[0m\u001b[0mmodel\u001b[0m\u001b[0;34m.\u001b[0m\u001b[0mpredict\u001b[0m\u001b[0;34m(\u001b[0m\u001b[0mtest_image\u001b[0m\u001b[0;34m)\u001b[0m\u001b[0;34m.\u001b[0m\u001b[0margmax\u001b[0m\u001b[0;34m(\u001b[0m\u001b[0;34m)\u001b[0m\u001b[0;34m]\u001b[0m\u001b[0;34m)\u001b[0m\u001b[0;34m\u001b[0m\u001b[0;34m\u001b[0m\u001b[0m\n\u001b[0m\u001b[1;32m      6\u001b[0m \u001b[0;34m\u001b[0m\u001b[0m\n",
            "\u001b[0;32m/usr/local/lib/python3.7/dist-packages/tensorflow/python/keras/engine/training.py\u001b[0m in \u001b[0;36mpredict\u001b[0;34m(self, x, batch_size, verbose, steps, callbacks, max_queue_size, workers, use_multiprocessing)\u001b[0m\n\u001b[1;32m   1577\u001b[0m     \u001b[0mversion_utils\u001b[0m\u001b[0;34m.\u001b[0m\u001b[0mdisallow_legacy_graph\u001b[0m\u001b[0;34m(\u001b[0m\u001b[0;34m'Model'\u001b[0m\u001b[0;34m,\u001b[0m \u001b[0;34m'predict'\u001b[0m\u001b[0;34m)\u001b[0m\u001b[0;34m\u001b[0m\u001b[0;34m\u001b[0m\u001b[0m\n\u001b[1;32m   1578\u001b[0m     \u001b[0mself\u001b[0m\u001b[0;34m.\u001b[0m\u001b[0m_check_call_args\u001b[0m\u001b[0;34m(\u001b[0m\u001b[0;34m'predict'\u001b[0m\u001b[0;34m)\u001b[0m\u001b[0;34m\u001b[0m\u001b[0;34m\u001b[0m\u001b[0m\n\u001b[0;32m-> 1579\u001b[0;31m     \u001b[0m_disallow_inside_tf_function\u001b[0m\u001b[0;34m(\u001b[0m\u001b[0;34m'predict'\u001b[0m\u001b[0;34m)\u001b[0m\u001b[0;34m\u001b[0m\u001b[0;34m\u001b[0m\u001b[0m\n\u001b[0m\u001b[1;32m   1580\u001b[0m \u001b[0;34m\u001b[0m\u001b[0m\n\u001b[1;32m   1581\u001b[0m     \u001b[0moutputs\u001b[0m \u001b[0;34m=\u001b[0m \u001b[0;32mNone\u001b[0m\u001b[0;34m\u001b[0m\u001b[0;34m\u001b[0m\u001b[0m\n",
            "\u001b[0;32m/usr/local/lib/python3.7/dist-packages/tensorflow/python/keras/engine/training.py\u001b[0m in \u001b[0;36m_disallow_inside_tf_function\u001b[0;34m(method_name)\u001b[0m\n\u001b[1;32m   2808\u001b[0m         \u001b[0;34m'directly on `Tensor`s inside a `tf.function` like: `model(x)`.'\u001b[0m\u001b[0;34m\u001b[0m\u001b[0;34m\u001b[0m\u001b[0m\n\u001b[1;32m   2809\u001b[0m     ).format(method_name=method_name)\n\u001b[0;32m-> 2810\u001b[0;31m     \u001b[0;32mraise\u001b[0m \u001b[0mRuntimeError\u001b[0m\u001b[0;34m(\u001b[0m\u001b[0merror_msg\u001b[0m\u001b[0;34m)\u001b[0m\u001b[0;34m\u001b[0m\u001b[0;34m\u001b[0m\u001b[0m\n\u001b[0m\u001b[1;32m   2811\u001b[0m \u001b[0;34m\u001b[0m\u001b[0m\n\u001b[1;32m   2812\u001b[0m \u001b[0;34m\u001b[0m\u001b[0m\n",
            "\u001b[0;31mRuntimeError\u001b[0m: Detected a call to `Model.predict` inside a `tf.function`. `Model.predict is a high-level endpoint that manages its own `tf.function`. Please move the call to `Model.predict` outside of all enclosing `tf.function`s. Note that you can call a `Model` directly on `Tensor`s inside a `tf.function` like: `model(x)`."
          ]
        }
      ]
    },
    {
      "cell_type": "code",
      "metadata": {
        "colab": {
          "base_uri": "https://localhost:8080/"
        },
        "id": "57ga5zJHkdyY",
        "outputId": "f277602d-d8b1-4b77-e5bf-e9596b77c82e"
      },
      "source": [
        "rLabels = np.array(rLabels)\n",
        "print(rLabels.shape)"
      ],
      "execution_count": 194,
      "outputs": [
        {
          "output_type": "stream",
          "text": [
            "(500, 1)\n"
          ],
          "name": "stdout"
        }
      ]
    },
    {
      "cell_type": "code",
      "metadata": {
        "colab": {
          "base_uri": "https://localhost:8080/"
        },
        "id": "vbItYXhgks0X",
        "outputId": "eb70e67b-1cbc-4abf-a769-3c537c81c42f"
      },
      "source": [
        "#normalizing inputs from 0-255 to 0.0-1.0 \n",
        "x_train_noise = x_train_noise.astype('float32') \n",
        "rLabels = rLabels.astype('float32') \n",
        "x_train_noise = x_train_noise / 255.0 \n",
        "x_test_rLabel = x_test_rLabel / 255.0\n",
        "\n",
        "rLabels = np_utils.to_categorical(rLabels) \n",
        "y_test_rLabel = np_utils.to_categorical(y_test_rLabel) \n",
        "num_classes = 10\n",
        "\n",
        "print(rLabels.shape)"
      ],
      "execution_count": 195,
      "outputs": [
        {
          "output_type": "stream",
          "text": [
            "(500, 10)\n"
          ],
          "name": "stdout"
        }
      ]
    },
    {
      "cell_type": "markdown",
      "metadata": {
        "id": "lNbvCJTZ7gkR"
      },
      "source": [
        "Model training of the generated input with labels"
      ]
    },
    {
      "cell_type": "code",
      "metadata": {
        "colab": {
          "base_uri": "https://localhost:8080/"
        },
        "id": "G3PIt36Y74rG",
        "outputId": "85490e5a-5043-454a-e7dd-e5bb49502692"
      },
      "source": [
        "model_steal = Sequential()\n",
        "model_steal.add(Conv2D(32, (3, 3), input_shape=(32,32,3), activation='relu', padding='same')) \n",
        "model_steal.add(Dropout(0.2)) \n",
        "model_steal.add(Conv2D(32, (3, 3), activation='relu', padding='same')) \n",
        "model_steal.add(MaxPooling2D(pool_size=(2, 2))) \n",
        "model_steal.add(Conv2D(64, (3, 3), activation='relu', padding='same')) \n",
        "model_steal.add(Dropout(0.2)) \n",
        "model_steal.add(Conv2D(64, (3, 3), activation='relu', padding='same')) \n",
        "model_steal.add(MaxPooling2D(pool_size=(2, 2))) \n",
        "model_steal.add(Conv2D(128, (3, 3), activation='relu', padding='same')) \n",
        "model_steal.add(Dropout(0.2))\n",
        "model_steal.add(Conv2D(128, (3, 3), activation='relu', padding='same')) \n",
        "model_steal.add(Dropout(0.4)) \n",
        "model_steal.add(Conv2D(128, (3, 3), activation='relu', padding='same')) \n",
        "model_steal.add(MaxPooling2D(pool_size=(2, 2))) \n",
        "model_steal.add(Flatten()) \n",
        "model_steal.add(Dropout(0.2)) \n",
        "model_steal.add(Dense(1024, activation='relu', kernel_constraint=maxnorm(3))) \n",
        "model_steal.add(Dropout(0.2)) \n",
        "model_steal.add(Dense(512, activation='relu', kernel_constraint=maxnorm(3))) \n",
        "model_steal.add(Dropout(0.2)) \n",
        "model_steal.add(Dense(num_classes, activation='softmax'))\n",
        "print(model_steal.summary())"
      ],
      "execution_count": 196,
      "outputs": [
        {
          "output_type": "stream",
          "text": [
            "<bound method Model.summary of <tensorflow.python.keras.engine.sequential.Sequential object at 0x7f1026647950>>\n"
          ],
          "name": "stdout"
        }
      ]
    },
    {
      "cell_type": "code",
      "metadata": {
        "colab": {
          "base_uri": "https://localhost:8080/"
        },
        "id": "IqbA-Nt8ninQ",
        "outputId": "d1fb57da-42f5-48d3-fd9e-713613dc695b"
      },
      "source": [
        "print(x_train_noise.shape, rLabels.shape)\n",
        "print(X_train.shape, y_train.shape)"
      ],
      "execution_count": 197,
      "outputs": [
        {
          "output_type": "stream",
          "text": [
            "(500, 32, 32, 3) (500, 10)\n",
            "(50000, 32, 32, 3) (50000, 1)\n"
          ],
          "name": "stdout"
        }
      ]
    },
    {
      "cell_type": "code",
      "metadata": {
        "colab": {
          "base_uri": "https://localhost:8080/"
        },
        "id": "bTk8tK808Jti",
        "outputId": "36ac532e-7ca1-4f53-a9fc-3bde5eed8ecd"
      },
      "source": [
        "from keras.preprocessing.image import ImageDataGenerator\n",
        "\n",
        "opt = SGD(lr=0.001, momentum=0.9)\n",
        "model_steal.compile(optimizer=opt, loss='categorical_crossentropy', metrics=['accuracy'])\n",
        "datagen = ImageDataGenerator(width_shift_range=0.1, height_shift_range=0.1, horizontal_flip=True)\n",
        "it_train = datagen.flow(x_train_noise, rLabels, batch_size=64)\n",
        "steps = int(x_train_noise.shape[0] / 64)\n",
        "history = model_steal.fit_generator(it_train, steps_per_epoch=steps, epochs=200, validation_data=(x_test_rLabel, y_test_rLabel), verbose=1)"
      ],
      "execution_count": 198,
      "outputs": [
        {
          "output_type": "stream",
          "text": [
            "Epoch 1/200\n"
          ],
          "name": "stdout"
        },
        {
          "output_type": "stream",
          "text": [
            "/usr/local/lib/python3.7/dist-packages/tensorflow/python/keras/engine/training.py:1844: UserWarning: `Model.fit_generator` is deprecated and will be removed in a future version. Please use `Model.fit`, which supports generators.\n",
            "  warnings.warn('`Model.fit_generator` is deprecated and '\n"
          ],
          "name": "stderr"
        },
        {
          "output_type": "stream",
          "text": [
            "7/7 [==============================] - 4s 486ms/step - loss: 2.3019 - accuracy: 0.0889 - val_loss: 2.3026 - val_accuracy: 0.0960\n",
            "Epoch 2/200\n",
            "7/7 [==============================] - 2s 387ms/step - loss: 2.2683 - accuracy: 0.2173 - val_loss: 2.3028 - val_accuracy: 0.0890\n",
            "Epoch 3/200\n",
            "7/7 [==============================] - 2s 392ms/step - loss: 2.2210 - accuracy: 0.2716 - val_loss: 2.3039 - val_accuracy: 0.0823\n",
            "Epoch 4/200\n",
            "7/7 [==============================] - 2s 385ms/step - loss: 2.1467 - accuracy: 0.3026 - val_loss: 2.3089 - val_accuracy: 0.0945\n",
            "Epoch 5/200\n",
            "7/7 [==============================] - 2s 390ms/step - loss: 2.0336 - accuracy: 0.2968 - val_loss: 2.3355 - val_accuracy: 0.1000\n",
            "Epoch 6/200\n",
            "7/7 [==============================] - 2s 388ms/step - loss: 1.8616 - accuracy: 0.2715 - val_loss: 2.4475 - val_accuracy: 0.1000\n",
            "Epoch 7/200\n",
            "7/7 [==============================] - 2s 395ms/step - loss: 1.8443 - accuracy: 0.3151 - val_loss: 2.4436 - val_accuracy: 0.1000\n",
            "Epoch 8/200\n",
            "7/7 [==============================] - 2s 392ms/step - loss: 1.8366 - accuracy: 0.2901 - val_loss: 2.4033 - val_accuracy: 0.1000\n",
            "Epoch 9/200\n",
            "7/7 [==============================] - 2s 386ms/step - loss: 1.8058 - accuracy: 0.2929 - val_loss: 2.4093 - val_accuracy: 0.1000\n",
            "Epoch 10/200\n",
            "7/7 [==============================] - 2s 388ms/step - loss: 1.8071 - accuracy: 0.2728 - val_loss: 2.4459 - val_accuracy: 0.1000\n",
            "Epoch 11/200\n",
            "7/7 [==============================] - 2s 397ms/step - loss: 1.7826 - accuracy: 0.3410 - val_loss: 2.4723 - val_accuracy: 0.1000\n",
            "Epoch 12/200\n",
            "7/7 [==============================] - 2s 392ms/step - loss: 1.7014 - accuracy: 0.3763 - val_loss: 2.4568 - val_accuracy: 0.1000\n",
            "Epoch 13/200\n",
            "7/7 [==============================] - 2s 390ms/step - loss: 1.7916 - accuracy: 0.2969 - val_loss: 2.4207 - val_accuracy: 0.1000\n",
            "Epoch 14/200\n",
            "7/7 [==============================] - 2s 388ms/step - loss: 1.7398 - accuracy: 0.3663 - val_loss: 2.4337 - val_accuracy: 0.1000\n",
            "Epoch 15/200\n",
            "7/7 [==============================] - 2s 396ms/step - loss: 1.7347 - accuracy: 0.3371 - val_loss: 2.4567 - val_accuracy: 0.1000\n",
            "Epoch 16/200\n",
            "7/7 [==============================] - 2s 397ms/step - loss: 1.7159 - accuracy: 0.3397 - val_loss: 2.4655 - val_accuracy: 0.1000\n",
            "Epoch 17/200\n",
            "7/7 [==============================] - 2s 393ms/step - loss: 1.8107 - accuracy: 0.2943 - val_loss: 2.4398 - val_accuracy: 0.1000\n",
            "Epoch 18/200\n",
            "7/7 [==============================] - 2s 387ms/step - loss: 1.7352 - accuracy: 0.3381 - val_loss: 2.4457 - val_accuracy: 0.1000\n",
            "Epoch 19/200\n",
            "7/7 [==============================] - 2s 394ms/step - loss: 1.7645 - accuracy: 0.2697 - val_loss: 2.4496 - val_accuracy: 0.1000\n",
            "Epoch 20/200\n",
            "7/7 [==============================] - 2s 395ms/step - loss: 1.7792 - accuracy: 0.3174 - val_loss: 2.4459 - val_accuracy: 0.1000\n",
            "Epoch 21/200\n",
            "7/7 [==============================] - 2s 392ms/step - loss: 1.7732 - accuracy: 0.3184 - val_loss: 2.4512 - val_accuracy: 0.1000\n",
            "Epoch 22/200\n",
            "7/7 [==============================] - 2s 396ms/step - loss: 1.7177 - accuracy: 0.3674 - val_loss: 2.4585 - val_accuracy: 0.1000\n",
            "Epoch 23/200\n",
            "7/7 [==============================] - 2s 391ms/step - loss: 1.7248 - accuracy: 0.3606 - val_loss: 2.4512 - val_accuracy: 0.1000\n",
            "Epoch 24/200\n",
            "7/7 [==============================] - 2s 393ms/step - loss: 1.7747 - accuracy: 0.3340 - val_loss: 2.4453 - val_accuracy: 0.1000\n",
            "Epoch 25/200\n",
            "7/7 [==============================] - 2s 388ms/step - loss: 1.7080 - accuracy: 0.3266 - val_loss: 2.4546 - val_accuracy: 0.1000\n",
            "Epoch 26/200\n",
            "7/7 [==============================] - 2s 390ms/step - loss: 1.7478 - accuracy: 0.3038 - val_loss: 2.4567 - val_accuracy: 0.1000\n",
            "Epoch 27/200\n",
            "7/7 [==============================] - 2s 394ms/step - loss: 1.7518 - accuracy: 0.2934 - val_loss: 2.4542 - val_accuracy: 0.1000\n",
            "Epoch 28/200\n",
            "7/7 [==============================] - 2s 392ms/step - loss: 1.7263 - accuracy: 0.3414 - val_loss: 2.4679 - val_accuracy: 0.1000\n",
            "Epoch 29/200\n",
            "7/7 [==============================] - 2s 391ms/step - loss: 1.7294 - accuracy: 0.3276 - val_loss: 2.4590 - val_accuracy: 0.1000\n",
            "Epoch 30/200\n",
            "7/7 [==============================] - 2s 392ms/step - loss: 1.7216 - accuracy: 0.3581 - val_loss: 2.4533 - val_accuracy: 0.1000\n",
            "Epoch 31/200\n",
            "7/7 [==============================] - 2s 392ms/step - loss: 1.7021 - accuracy: 0.3735 - val_loss: 2.4555 - val_accuracy: 0.1000\n",
            "Epoch 32/200\n",
            "7/7 [==============================] - 2s 393ms/step - loss: 1.7100 - accuracy: 0.3380 - val_loss: 2.4673 - val_accuracy: 0.1000\n",
            "Epoch 33/200\n",
            "7/7 [==============================] - 2s 392ms/step - loss: 1.6893 - accuracy: 0.3284 - val_loss: 2.4894 - val_accuracy: 0.1000\n",
            "Epoch 34/200\n",
            "7/7 [==============================] - 2s 387ms/step - loss: 1.6997 - accuracy: 0.3414 - val_loss: 2.4600 - val_accuracy: 0.1000\n",
            "Epoch 35/200\n",
            "7/7 [==============================] - 2s 386ms/step - loss: 1.7241 - accuracy: 0.3647 - val_loss: 2.4403 - val_accuracy: 0.1000\n",
            "Epoch 36/200\n",
            "7/7 [==============================] - 2s 392ms/step - loss: 1.7784 - accuracy: 0.3098 - val_loss: 2.4540 - val_accuracy: 0.1000\n",
            "Epoch 37/200\n",
            "7/7 [==============================] - 2s 393ms/step - loss: 1.7232 - accuracy: 0.3634 - val_loss: 2.4894 - val_accuracy: 0.1000\n",
            "Epoch 38/200\n",
            "7/7 [==============================] - 2s 385ms/step - loss: 1.6941 - accuracy: 0.3853 - val_loss: 2.4874 - val_accuracy: 0.1000\n",
            "Epoch 39/200\n",
            "7/7 [==============================] - 2s 382ms/step - loss: 1.7297 - accuracy: 0.3544 - val_loss: 2.4411 - val_accuracy: 0.1000\n",
            "Epoch 40/200\n",
            "7/7 [==============================] - 2s 383ms/step - loss: 1.7611 - accuracy: 0.3227 - val_loss: 2.4310 - val_accuracy: 0.1000\n",
            "Epoch 41/200\n",
            "7/7 [==============================] - 2s 385ms/step - loss: 1.7352 - accuracy: 0.3533 - val_loss: 2.4647 - val_accuracy: 0.1000\n",
            "Epoch 42/200\n",
            "7/7 [==============================] - 2s 384ms/step - loss: 1.7646 - accuracy: 0.3635 - val_loss: 2.4765 - val_accuracy: 0.1000\n",
            "Epoch 43/200\n",
            "7/7 [==============================] - 2s 381ms/step - loss: 1.7323 - accuracy: 0.3247 - val_loss: 2.4733 - val_accuracy: 0.1000\n",
            "Epoch 44/200\n",
            "7/7 [==============================] - 2s 382ms/step - loss: 1.6673 - accuracy: 0.3418 - val_loss: 2.4655 - val_accuracy: 0.1000\n",
            "Epoch 45/200\n",
            "7/7 [==============================] - 2s 380ms/step - loss: 1.7408 - accuracy: 0.3226 - val_loss: 2.4468 - val_accuracy: 0.1000\n",
            "Epoch 46/200\n",
            "7/7 [==============================] - 2s 394ms/step - loss: 1.6821 - accuracy: 0.3856 - val_loss: 2.4540 - val_accuracy: 0.1000\n",
            "Epoch 47/200\n",
            "7/7 [==============================] - 2s 391ms/step - loss: 1.6582 - accuracy: 0.3600 - val_loss: 2.4769 - val_accuracy: 0.1000\n",
            "Epoch 48/200\n",
            "7/7 [==============================] - 2s 392ms/step - loss: 1.7173 - accuracy: 0.3225 - val_loss: 2.4638 - val_accuracy: 0.1000\n",
            "Epoch 49/200\n",
            "7/7 [==============================] - 2s 391ms/step - loss: 1.7615 - accuracy: 0.3295 - val_loss: 2.4552 - val_accuracy: 0.1000\n",
            "Epoch 50/200\n",
            "7/7 [==============================] - 2s 385ms/step - loss: 1.7556 - accuracy: 0.3254 - val_loss: 2.4650 - val_accuracy: 0.1000\n",
            "Epoch 51/200\n",
            "7/7 [==============================] - 2s 394ms/step - loss: 1.6813 - accuracy: 0.3516 - val_loss: 2.4876 - val_accuracy: 0.1000\n",
            "Epoch 52/200\n",
            "7/7 [==============================] - 2s 385ms/step - loss: 1.7530 - accuracy: 0.3447 - val_loss: 2.4572 - val_accuracy: 0.1000\n",
            "Epoch 53/200\n",
            "7/7 [==============================] - 2s 379ms/step - loss: 1.7403 - accuracy: 0.3259 - val_loss: 2.4551 - val_accuracy: 0.1000\n",
            "Epoch 54/200\n",
            "7/7 [==============================] - 2s 380ms/step - loss: 1.6796 - accuracy: 0.3734 - val_loss: 2.4759 - val_accuracy: 0.1000\n",
            "Epoch 55/200\n",
            "7/7 [==============================] - 2s 386ms/step - loss: 1.7568 - accuracy: 0.3262 - val_loss: 2.4496 - val_accuracy: 0.1000\n",
            "Epoch 56/200\n",
            "7/7 [==============================] - 2s 384ms/step - loss: 1.7397 - accuracy: 0.3182 - val_loss: 2.4633 - val_accuracy: 0.1000\n",
            "Epoch 57/200\n",
            "7/7 [==============================] - 2s 389ms/step - loss: 1.6813 - accuracy: 0.3236 - val_loss: 2.4926 - val_accuracy: 0.1001\n",
            "Epoch 58/200\n",
            "7/7 [==============================] - 2s 381ms/step - loss: 1.6779 - accuracy: 0.3230 - val_loss: 2.4820 - val_accuracy: 0.1001\n",
            "Epoch 59/200\n",
            "7/7 [==============================] - 2s 386ms/step - loss: 1.6798 - accuracy: 0.3418 - val_loss: 2.4363 - val_accuracy: 0.1001\n",
            "Epoch 60/200\n",
            "7/7 [==============================] - 2s 381ms/step - loss: 1.7018 - accuracy: 0.3198 - val_loss: 2.4629 - val_accuracy: 0.1001\n",
            "Epoch 61/200\n",
            "7/7 [==============================] - 2s 381ms/step - loss: 1.7298 - accuracy: 0.3390 - val_loss: 2.4818 - val_accuracy: 0.1001\n",
            "Epoch 62/200\n",
            "7/7 [==============================] - 2s 387ms/step - loss: 1.7032 - accuracy: 0.3374 - val_loss: 2.4608 - val_accuracy: 0.1001\n",
            "Epoch 63/200\n",
            "7/7 [==============================] - 2s 388ms/step - loss: 1.7091 - accuracy: 0.3375 - val_loss: 2.4662 - val_accuracy: 0.1001\n",
            "Epoch 64/200\n",
            "7/7 [==============================] - 2s 380ms/step - loss: 1.6512 - accuracy: 0.3878 - val_loss: 2.4776 - val_accuracy: 0.1001\n",
            "Epoch 65/200\n",
            "7/7 [==============================] - 2s 378ms/step - loss: 1.7356 - accuracy: 0.3242 - val_loss: 2.4523 - val_accuracy: 0.1000\n",
            "Epoch 66/200\n",
            "7/7 [==============================] - 2s 381ms/step - loss: 1.6565 - accuracy: 0.3633 - val_loss: 2.4885 - val_accuracy: 0.1001\n",
            "Epoch 67/200\n",
            "7/7 [==============================] - 2s 376ms/step - loss: 1.7661 - accuracy: 0.3332 - val_loss: 2.4580 - val_accuracy: 0.1008\n",
            "Epoch 68/200\n",
            "7/7 [==============================] - 2s 385ms/step - loss: 1.7190 - accuracy: 0.3289 - val_loss: 2.4500 - val_accuracy: 0.1014\n",
            "Epoch 69/200\n",
            "7/7 [==============================] - 2s 387ms/step - loss: 1.7178 - accuracy: 0.3469 - val_loss: 2.4628 - val_accuracy: 0.1003\n",
            "Epoch 70/200\n",
            "7/7 [==============================] - 2s 389ms/step - loss: 1.6543 - accuracy: 0.3526 - val_loss: 2.4656 - val_accuracy: 0.1008\n",
            "Epoch 71/200\n",
            "7/7 [==============================] - 2s 391ms/step - loss: 1.7171 - accuracy: 0.3345 - val_loss: 2.4654 - val_accuracy: 0.1005\n",
            "Epoch 72/200\n",
            "7/7 [==============================] - 2s 388ms/step - loss: 1.6607 - accuracy: 0.3470 - val_loss: 2.4746 - val_accuracy: 0.1017\n",
            "Epoch 73/200\n",
            "7/7 [==============================] - 2s 389ms/step - loss: 1.6427 - accuracy: 0.3361 - val_loss: 2.4684 - val_accuracy: 0.1018\n",
            "Epoch 74/200\n",
            "7/7 [==============================] - 2s 383ms/step - loss: 1.7278 - accuracy: 0.3306 - val_loss: 2.4483 - val_accuracy: 0.1021\n",
            "Epoch 75/200\n",
            "7/7 [==============================] - 2s 387ms/step - loss: 1.6582 - accuracy: 0.3991 - val_loss: 2.4658 - val_accuracy: 0.1016\n",
            "Epoch 76/200\n",
            "7/7 [==============================] - 2s 390ms/step - loss: 1.7366 - accuracy: 0.3100 - val_loss: 2.4611 - val_accuracy: 0.1014\n",
            "Epoch 77/200\n",
            "7/7 [==============================] - 2s 386ms/step - loss: 1.6545 - accuracy: 0.3346 - val_loss: 2.4869 - val_accuracy: 0.1014\n",
            "Epoch 78/200\n",
            "7/7 [==============================] - 2s 388ms/step - loss: 1.7318 - accuracy: 0.3451 - val_loss: 2.4453 - val_accuracy: 0.1022\n",
            "Epoch 79/200\n",
            "7/7 [==============================] - 2s 390ms/step - loss: 1.6717 - accuracy: 0.3478 - val_loss: 2.4557 - val_accuracy: 0.1019\n",
            "Epoch 80/200\n",
            "7/7 [==============================] - 2s 387ms/step - loss: 1.7544 - accuracy: 0.3067 - val_loss: 2.4407 - val_accuracy: 0.1032\n",
            "Epoch 81/200\n",
            "7/7 [==============================] - 2s 390ms/step - loss: 1.7131 - accuracy: 0.3317 - val_loss: 2.4526 - val_accuracy: 0.1044\n",
            "Epoch 82/200\n",
            "7/7 [==============================] - 2s 391ms/step - loss: 1.6971 - accuracy: 0.3457 - val_loss: 2.4831 - val_accuracy: 0.1020\n",
            "Epoch 83/200\n",
            "7/7 [==============================] - 2s 391ms/step - loss: 1.6515 - accuracy: 0.3488 - val_loss: 2.4715 - val_accuracy: 0.1034\n",
            "Epoch 84/200\n",
            "7/7 [==============================] - 2s 388ms/step - loss: 1.6606 - accuracy: 0.3365 - val_loss: 2.4611 - val_accuracy: 0.1031\n",
            "Epoch 85/200\n",
            "7/7 [==============================] - 2s 382ms/step - loss: 1.6546 - accuracy: 0.3569 - val_loss: 2.4697 - val_accuracy: 0.1047\n",
            "Epoch 86/200\n",
            "7/7 [==============================] - 2s 386ms/step - loss: 1.6678 - accuracy: 0.3543 - val_loss: 2.4575 - val_accuracy: 0.1070\n",
            "Epoch 87/200\n",
            "7/7 [==============================] - 2s 391ms/step - loss: 1.6497 - accuracy: 0.3662 - val_loss: 2.4809 - val_accuracy: 0.1051\n",
            "Epoch 88/200\n",
            "7/7 [==============================] - 2s 387ms/step - loss: 1.6619 - accuracy: 0.3271 - val_loss: 2.5058 - val_accuracy: 0.1025\n",
            "Epoch 89/200\n",
            "7/7 [==============================] - 2s 385ms/step - loss: 1.7071 - accuracy: 0.3066 - val_loss: 2.4510 - val_accuracy: 0.1071\n",
            "Epoch 90/200\n",
            "7/7 [==============================] - 2s 389ms/step - loss: 1.6987 - accuracy: 0.3835 - val_loss: 2.4675 - val_accuracy: 0.1060\n",
            "Epoch 91/200\n",
            "7/7 [==============================] - 2s 394ms/step - loss: 1.6753 - accuracy: 0.3896 - val_loss: 2.4708 - val_accuracy: 0.1049\n",
            "Epoch 92/200\n",
            "7/7 [==============================] - 2s 391ms/step - loss: 1.6575 - accuracy: 0.3323 - val_loss: 2.4835 - val_accuracy: 0.1042\n",
            "Epoch 93/200\n",
            "7/7 [==============================] - 2s 395ms/step - loss: 1.6738 - accuracy: 0.3736 - val_loss: 2.4558 - val_accuracy: 0.1080\n",
            "Epoch 94/200\n",
            "7/7 [==============================] - 2s 393ms/step - loss: 1.6675 - accuracy: 0.3424 - val_loss: 2.4772 - val_accuracy: 0.1155\n",
            "Epoch 95/200\n",
            "7/7 [==============================] - 2s 390ms/step - loss: 1.6294 - accuracy: 0.3673 - val_loss: 2.4805 - val_accuracy: 0.1113\n",
            "Epoch 96/200\n",
            "7/7 [==============================] - 2s 384ms/step - loss: 1.6863 - accuracy: 0.3360 - val_loss: 2.4654 - val_accuracy: 0.1113\n",
            "Epoch 97/200\n",
            "7/7 [==============================] - 2s 394ms/step - loss: 1.6324 - accuracy: 0.3460 - val_loss: 2.4759 - val_accuracy: 0.1098\n",
            "Epoch 98/200\n",
            "7/7 [==============================] - 2s 386ms/step - loss: 1.6565 - accuracy: 0.3874 - val_loss: 2.4622 - val_accuracy: 0.1113\n",
            "Epoch 99/200\n",
            "7/7 [==============================] - 2s 391ms/step - loss: 1.6598 - accuracy: 0.3592 - val_loss: 2.4400 - val_accuracy: 0.1154\n",
            "Epoch 100/200\n",
            "7/7 [==============================] - 2s 390ms/step - loss: 1.6469 - accuracy: 0.3829 - val_loss: 2.4436 - val_accuracy: 0.1203\n",
            "Epoch 101/200\n",
            "7/7 [==============================] - 2s 387ms/step - loss: 1.6280 - accuracy: 0.3755 - val_loss: 2.4813 - val_accuracy: 0.1142\n",
            "Epoch 102/200\n",
            "7/7 [==============================] - 2s 392ms/step - loss: 1.6129 - accuracy: 0.4033 - val_loss: 2.4745 - val_accuracy: 0.1270\n",
            "Epoch 103/200\n",
            "7/7 [==============================] - 2s 393ms/step - loss: 1.6417 - accuracy: 0.3584 - val_loss: 2.4844 - val_accuracy: 0.1243\n",
            "Epoch 104/200\n",
            "7/7 [==============================] - 2s 392ms/step - loss: 1.6623 - accuracy: 0.3448 - val_loss: 2.4961 - val_accuracy: 0.1288\n",
            "Epoch 105/200\n",
            "7/7 [==============================] - 2s 389ms/step - loss: 1.6679 - accuracy: 0.4045 - val_loss: 2.4521 - val_accuracy: 0.1407\n",
            "Epoch 106/200\n",
            "7/7 [==============================] - 2s 387ms/step - loss: 1.6643 - accuracy: 0.3750 - val_loss: 2.4722 - val_accuracy: 0.1222\n",
            "Epoch 107/200\n",
            "7/7 [==============================] - 2s 398ms/step - loss: 1.6717 - accuracy: 0.3226 - val_loss: 2.4884 - val_accuracy: 0.1231\n",
            "Epoch 108/200\n",
            "7/7 [==============================] - 2s 382ms/step - loss: 1.6401 - accuracy: 0.3585 - val_loss: 2.4795 - val_accuracy: 0.1311\n",
            "Epoch 109/200\n",
            "7/7 [==============================] - 2s 389ms/step - loss: 1.6325 - accuracy: 0.4186 - val_loss: 2.4706 - val_accuracy: 0.1403\n",
            "Epoch 110/200\n",
            "7/7 [==============================] - 2s 386ms/step - loss: 1.5210 - accuracy: 0.4380 - val_loss: 2.4949 - val_accuracy: 0.1271\n",
            "Epoch 111/200\n",
            "7/7 [==============================] - 2s 396ms/step - loss: 1.6063 - accuracy: 0.3745 - val_loss: 2.4603 - val_accuracy: 0.1382\n",
            "Epoch 112/200\n",
            "7/7 [==============================] - 2s 396ms/step - loss: 1.6206 - accuracy: 0.3447 - val_loss: 2.4868 - val_accuracy: 0.1328\n",
            "Epoch 113/200\n",
            "7/7 [==============================] - 2s 386ms/step - loss: 1.6045 - accuracy: 0.3865 - val_loss: 2.4560 - val_accuracy: 0.1386\n",
            "Epoch 114/200\n",
            "7/7 [==============================] - 2s 388ms/step - loss: 1.6628 - accuracy: 0.3919 - val_loss: 2.4388 - val_accuracy: 0.1372\n",
            "Epoch 115/200\n",
            "7/7 [==============================] - 2s 391ms/step - loss: 1.6181 - accuracy: 0.4011 - val_loss: 2.4421 - val_accuracy: 0.1383\n",
            "Epoch 116/200\n",
            "7/7 [==============================] - 2s 390ms/step - loss: 1.5625 - accuracy: 0.4150 - val_loss: 2.4872 - val_accuracy: 0.1431\n",
            "Epoch 117/200\n",
            "7/7 [==============================] - 2s 390ms/step - loss: 1.6316 - accuracy: 0.4149 - val_loss: 2.4669 - val_accuracy: 0.1466\n",
            "Epoch 118/200\n",
            "7/7 [==============================] - 2s 387ms/step - loss: 1.5958 - accuracy: 0.4035 - val_loss: 2.4428 - val_accuracy: 0.1431\n",
            "Epoch 119/200\n",
            "7/7 [==============================] - 2s 401ms/step - loss: 1.6330 - accuracy: 0.3934 - val_loss: 2.4296 - val_accuracy: 0.1444\n",
            "Epoch 120/200\n",
            "7/7 [==============================] - 2s 395ms/step - loss: 1.5529 - accuracy: 0.4454 - val_loss: 2.4675 - val_accuracy: 0.1334\n",
            "Epoch 121/200\n",
            "7/7 [==============================] - 2s 392ms/step - loss: 1.5772 - accuracy: 0.4001 - val_loss: 2.4488 - val_accuracy: 0.1479\n",
            "Epoch 122/200\n",
            "7/7 [==============================] - 2s 392ms/step - loss: 1.5778 - accuracy: 0.4224 - val_loss: 2.4682 - val_accuracy: 0.1415\n",
            "Epoch 123/200\n",
            "7/7 [==============================] - 2s 391ms/step - loss: 1.6155 - accuracy: 0.3836 - val_loss: 2.4573 - val_accuracy: 0.1383\n",
            "Epoch 124/200\n",
            "7/7 [==============================] - 2s 391ms/step - loss: 1.5752 - accuracy: 0.3620 - val_loss: 2.4590 - val_accuracy: 0.1446\n",
            "Epoch 125/200\n",
            "7/7 [==============================] - 2s 386ms/step - loss: 1.5337 - accuracy: 0.4279 - val_loss: 2.4702 - val_accuracy: 0.1485\n",
            "Epoch 126/200\n",
            "7/7 [==============================] - 2s 397ms/step - loss: 1.6076 - accuracy: 0.4072 - val_loss: 2.4268 - val_accuracy: 0.1563\n",
            "Epoch 127/200\n",
            "7/7 [==============================] - 2s 394ms/step - loss: 1.6505 - accuracy: 0.3637 - val_loss: 2.4519 - val_accuracy: 0.1319\n",
            "Epoch 128/200\n",
            "7/7 [==============================] - 2s 395ms/step - loss: 1.5471 - accuracy: 0.3874 - val_loss: 2.4117 - val_accuracy: 0.1474\n",
            "Epoch 129/200\n",
            "7/7 [==============================] - 2s 392ms/step - loss: 1.5445 - accuracy: 0.4549 - val_loss: 2.4413 - val_accuracy: 0.1442\n",
            "Epoch 130/200\n",
            "7/7 [==============================] - 2s 390ms/step - loss: 1.6003 - accuracy: 0.4254 - val_loss: 2.4949 - val_accuracy: 0.1314\n",
            "Epoch 131/200\n",
            "7/7 [==============================] - 2s 391ms/step - loss: 1.5768 - accuracy: 0.4044 - val_loss: 2.4373 - val_accuracy: 0.1537\n",
            "Epoch 132/200\n",
            "7/7 [==============================] - 2s 391ms/step - loss: 1.5951 - accuracy: 0.4138 - val_loss: 2.4673 - val_accuracy: 0.1391\n",
            "Epoch 133/200\n",
            "7/7 [==============================] - 2s 388ms/step - loss: 1.6566 - accuracy: 0.4105 - val_loss: 2.4416 - val_accuracy: 0.1533\n",
            "Epoch 134/200\n",
            "7/7 [==============================] - 2s 388ms/step - loss: 1.6179 - accuracy: 0.4281 - val_loss: 2.4559 - val_accuracy: 0.1404\n",
            "Epoch 135/200\n",
            "7/7 [==============================] - 2s 392ms/step - loss: 1.5355 - accuracy: 0.4131 - val_loss: 2.4687 - val_accuracy: 0.1454\n",
            "Epoch 136/200\n",
            "7/7 [==============================] - 2s 387ms/step - loss: 1.5576 - accuracy: 0.4220 - val_loss: 2.4674 - val_accuracy: 0.1455\n",
            "Epoch 137/200\n",
            "7/7 [==============================] - 2s 386ms/step - loss: 1.6046 - accuracy: 0.4283 - val_loss: 2.4512 - val_accuracy: 0.1388\n",
            "Epoch 138/200\n",
            "7/7 [==============================] - 2s 392ms/step - loss: 1.5194 - accuracy: 0.4650 - val_loss: 2.4481 - val_accuracy: 0.1401\n",
            "Epoch 139/200\n",
            "7/7 [==============================] - 2s 391ms/step - loss: 1.5383 - accuracy: 0.4065 - val_loss: 2.4578 - val_accuracy: 0.1413\n",
            "Epoch 140/200\n",
            "7/7 [==============================] - 2s 393ms/step - loss: 1.5985 - accuracy: 0.4485 - val_loss: 2.4640 - val_accuracy: 0.1367\n",
            "Epoch 141/200\n",
            "7/7 [==============================] - 2s 388ms/step - loss: 1.5943 - accuracy: 0.4343 - val_loss: 2.4293 - val_accuracy: 0.1499\n",
            "Epoch 142/200\n",
            "7/7 [==============================] - 2s 393ms/step - loss: 1.5748 - accuracy: 0.4492 - val_loss: 2.4212 - val_accuracy: 0.1496\n",
            "Epoch 143/200\n",
            "7/7 [==============================] - 2s 387ms/step - loss: 1.5197 - accuracy: 0.4760 - val_loss: 2.4484 - val_accuracy: 0.1426\n",
            "Epoch 144/200\n",
            "7/7 [==============================] - 2s 393ms/step - loss: 1.5599 - accuracy: 0.4283 - val_loss: 2.4476 - val_accuracy: 0.1443\n",
            "Epoch 145/200\n",
            "7/7 [==============================] - 2s 393ms/step - loss: 1.5126 - accuracy: 0.4326 - val_loss: 2.4631 - val_accuracy: 0.1430\n",
            "Epoch 146/200\n",
            "7/7 [==============================] - 2s 391ms/step - loss: 1.5065 - accuracy: 0.4507 - val_loss: 2.4653 - val_accuracy: 0.1484\n",
            "Epoch 147/200\n",
            "7/7 [==============================] - 2s 390ms/step - loss: 1.5344 - accuracy: 0.4672 - val_loss: 2.4784 - val_accuracy: 0.1390\n",
            "Epoch 148/200\n",
            "7/7 [==============================] - 2s 391ms/step - loss: 1.4878 - accuracy: 0.4780 - val_loss: 2.4536 - val_accuracy: 0.1441\n",
            "Epoch 149/200\n",
            "7/7 [==============================] - 2s 385ms/step - loss: 1.5144 - accuracy: 0.4505 - val_loss: 2.4613 - val_accuracy: 0.1378\n",
            "Epoch 150/200\n",
            "7/7 [==============================] - 2s 387ms/step - loss: 1.5766 - accuracy: 0.4138 - val_loss: 2.4559 - val_accuracy: 0.1360\n",
            "Epoch 151/200\n",
            "7/7 [==============================] - 2s 388ms/step - loss: 1.4476 - accuracy: 0.4922 - val_loss: 2.4840 - val_accuracy: 0.1382\n",
            "Epoch 152/200\n",
            "7/7 [==============================] - 2s 392ms/step - loss: 1.6093 - accuracy: 0.4235 - val_loss: 2.4378 - val_accuracy: 0.1430\n",
            "Epoch 153/200\n",
            "7/7 [==============================] - 2s 394ms/step - loss: 1.4885 - accuracy: 0.4788 - val_loss: 2.4607 - val_accuracy: 0.1333\n",
            "Epoch 154/200\n",
            "7/7 [==============================] - 2s 395ms/step - loss: 1.5521 - accuracy: 0.4282 - val_loss: 2.4370 - val_accuracy: 0.1509\n",
            "Epoch 155/200\n",
            "7/7 [==============================] - 2s 396ms/step - loss: 1.5499 - accuracy: 0.4594 - val_loss: 2.4947 - val_accuracy: 0.1361\n",
            "Epoch 156/200\n",
            "7/7 [==============================] - 2s 387ms/step - loss: 1.6097 - accuracy: 0.4456 - val_loss: 2.4531 - val_accuracy: 0.1453\n",
            "Epoch 157/200\n",
            "7/7 [==============================] - 2s 387ms/step - loss: 1.4398 - accuracy: 0.4679 - val_loss: 2.4633 - val_accuracy: 0.1421\n",
            "Epoch 158/200\n",
            "7/7 [==============================] - 2s 391ms/step - loss: 1.5100 - accuracy: 0.4362 - val_loss: 2.4451 - val_accuracy: 0.1343\n",
            "Epoch 159/200\n",
            "7/7 [==============================] - 2s 387ms/step - loss: 1.5498 - accuracy: 0.4187 - val_loss: 2.4267 - val_accuracy: 0.1415\n",
            "Epoch 160/200\n",
            "7/7 [==============================] - 2s 387ms/step - loss: 1.5103 - accuracy: 0.4805 - val_loss: 2.4797 - val_accuracy: 0.1250\n",
            "Epoch 161/200\n",
            "7/7 [==============================] - 2s 393ms/step - loss: 1.5472 - accuracy: 0.4617 - val_loss: 2.4195 - val_accuracy: 0.1515\n",
            "Epoch 162/200\n",
            "7/7 [==============================] - 2s 386ms/step - loss: 1.5811 - accuracy: 0.4183 - val_loss: 2.4458 - val_accuracy: 0.1324\n",
            "Epoch 163/200\n",
            "7/7 [==============================] - 2s 386ms/step - loss: 1.5068 - accuracy: 0.4520 - val_loss: 2.4567 - val_accuracy: 0.1372\n",
            "Epoch 164/200\n",
            "7/7 [==============================] - 2s 389ms/step - loss: 1.5084 - accuracy: 0.4445 - val_loss: 2.4755 - val_accuracy: 0.1367\n",
            "Epoch 165/200\n",
            "7/7 [==============================] - 2s 388ms/step - loss: 1.5139 - accuracy: 0.4367 - val_loss: 2.4625 - val_accuracy: 0.1369\n",
            "Epoch 166/200\n",
            "7/7 [==============================] - 2s 390ms/step - loss: 1.5113 - accuracy: 0.4715 - val_loss: 2.4272 - val_accuracy: 0.1369\n",
            "Epoch 167/200\n",
            "7/7 [==============================] - 2s 391ms/step - loss: 1.5377 - accuracy: 0.4469 - val_loss: 2.4176 - val_accuracy: 0.1398\n",
            "Epoch 168/200\n",
            "7/7 [==============================] - 2s 395ms/step - loss: 1.5524 - accuracy: 0.4353 - val_loss: 2.4471 - val_accuracy: 0.1315\n",
            "Epoch 169/200\n",
            "7/7 [==============================] - 2s 393ms/step - loss: 1.5698 - accuracy: 0.4431 - val_loss: 2.4438 - val_accuracy: 0.1325\n",
            "Epoch 170/200\n",
            "7/7 [==============================] - 2s 389ms/step - loss: 1.5747 - accuracy: 0.4140 - val_loss: 2.4368 - val_accuracy: 0.1378\n",
            "Epoch 171/200\n",
            "7/7 [==============================] - 2s 391ms/step - loss: 1.4539 - accuracy: 0.4970 - val_loss: 2.4631 - val_accuracy: 0.1339\n",
            "Epoch 172/200\n",
            "7/7 [==============================] - 2s 390ms/step - loss: 1.5742 - accuracy: 0.4127 - val_loss: 2.4582 - val_accuracy: 0.1391\n",
            "Epoch 173/200\n",
            "7/7 [==============================] - 2s 391ms/step - loss: 1.5531 - accuracy: 0.4219 - val_loss: 2.4643 - val_accuracy: 0.1249\n",
            "Epoch 174/200\n",
            "7/7 [==============================] - 2s 388ms/step - loss: 1.4773 - accuracy: 0.4803 - val_loss: 2.4208 - val_accuracy: 0.1439\n",
            "Epoch 175/200\n",
            "7/7 [==============================] - 2s 389ms/step - loss: 1.6550 - accuracy: 0.4055 - val_loss: 2.4362 - val_accuracy: 0.1257\n",
            "Epoch 176/200\n",
            "7/7 [==============================] - 2s 390ms/step - loss: 1.5324 - accuracy: 0.4355 - val_loss: 2.4356 - val_accuracy: 0.1436\n",
            "Epoch 177/200\n",
            "7/7 [==============================] - 2s 386ms/step - loss: 1.4307 - accuracy: 0.4837 - val_loss: 2.5073 - val_accuracy: 0.1238\n",
            "Epoch 178/200\n",
            "7/7 [==============================] - 2s 396ms/step - loss: 1.5400 - accuracy: 0.4403 - val_loss: 2.4224 - val_accuracy: 0.1441\n",
            "Epoch 179/200\n",
            "7/7 [==============================] - 2s 392ms/step - loss: 1.5009 - accuracy: 0.4305 - val_loss: 2.4487 - val_accuracy: 0.1405\n",
            "Epoch 180/200\n",
            "7/7 [==============================] - 2s 388ms/step - loss: 1.5137 - accuracy: 0.4348 - val_loss: 2.4416 - val_accuracy: 0.1357\n",
            "Epoch 181/200\n",
            "7/7 [==============================] - 2s 398ms/step - loss: 1.5309 - accuracy: 0.4526 - val_loss: 2.4395 - val_accuracy: 0.1352\n",
            "Epoch 182/200\n",
            "7/7 [==============================] - 2s 383ms/step - loss: 1.4533 - accuracy: 0.4901 - val_loss: 2.4787 - val_accuracy: 0.1283\n",
            "Epoch 183/200\n",
            "7/7 [==============================] - 2s 395ms/step - loss: 1.5135 - accuracy: 0.4374 - val_loss: 2.4321 - val_accuracy: 0.1426\n",
            "Epoch 184/200\n",
            "7/7 [==============================] - 2s 386ms/step - loss: 1.4545 - accuracy: 0.4951 - val_loss: 2.4591 - val_accuracy: 0.1332\n",
            "Epoch 185/200\n",
            "7/7 [==============================] - 2s 388ms/step - loss: 1.4227 - accuracy: 0.5037 - val_loss: 2.4751 - val_accuracy: 0.1392\n",
            "Epoch 186/200\n",
            "7/7 [==============================] - 2s 396ms/step - loss: 1.5310 - accuracy: 0.4400 - val_loss: 2.4620 - val_accuracy: 0.1345\n",
            "Epoch 187/200\n",
            "7/7 [==============================] - 2s 390ms/step - loss: 1.4890 - accuracy: 0.4198 - val_loss: 2.4644 - val_accuracy: 0.1321\n",
            "Epoch 188/200\n",
            "7/7 [==============================] - 2s 390ms/step - loss: 1.4839 - accuracy: 0.4420 - val_loss: 2.4685 - val_accuracy: 0.1323\n",
            "Epoch 189/200\n",
            "7/7 [==============================] - 2s 392ms/step - loss: 1.4783 - accuracy: 0.4491 - val_loss: 2.4626 - val_accuracy: 0.1378\n",
            "Epoch 190/200\n",
            "7/7 [==============================] - 2s 396ms/step - loss: 1.5008 - accuracy: 0.4701 - val_loss: 2.4803 - val_accuracy: 0.1266\n",
            "Epoch 191/200\n",
            "7/7 [==============================] - 2s 395ms/step - loss: 1.5201 - accuracy: 0.4283 - val_loss: 2.4491 - val_accuracy: 0.1305\n",
            "Epoch 192/200\n",
            "7/7 [==============================] - 2s 387ms/step - loss: 1.4858 - accuracy: 0.4619 - val_loss: 2.4956 - val_accuracy: 0.1211\n",
            "Epoch 193/200\n",
            "7/7 [==============================] - 2s 386ms/step - loss: 1.5265 - accuracy: 0.4502 - val_loss: 2.4158 - val_accuracy: 0.1427\n",
            "Epoch 194/200\n",
            "7/7 [==============================] - 2s 390ms/step - loss: 1.4879 - accuracy: 0.4669 - val_loss: 2.4856 - val_accuracy: 0.1239\n",
            "Epoch 195/200\n",
            "7/7 [==============================] - 2s 386ms/step - loss: 1.5117 - accuracy: 0.4678 - val_loss: 2.4280 - val_accuracy: 0.1471\n",
            "Epoch 196/200\n",
            "7/7 [==============================] - 2s 393ms/step - loss: 1.5089 - accuracy: 0.4982 - val_loss: 2.4846 - val_accuracy: 0.1295\n",
            "Epoch 197/200\n",
            "7/7 [==============================] - 2s 397ms/step - loss: 1.5034 - accuracy: 0.4591 - val_loss: 2.4468 - val_accuracy: 0.1341\n",
            "Epoch 198/200\n",
            "7/7 [==============================] - 2s 394ms/step - loss: 1.6030 - accuracy: 0.4049 - val_loss: 2.4142 - val_accuracy: 0.1339\n",
            "Epoch 199/200\n",
            "7/7 [==============================] - 2s 395ms/step - loss: 1.4723 - accuracy: 0.4516 - val_loss: 2.4985 - val_accuracy: 0.1242\n",
            "Epoch 200/200\n",
            "7/7 [==============================] - 2s 393ms/step - loss: 1.5012 - accuracy: 0.4400 - val_loss: 2.4846 - val_accuracy: 0.1332\n"
          ],
          "name": "stdout"
        }
      ]
    },
    {
      "cell_type": "code",
      "metadata": {
        "colab": {
          "base_uri": "https://localhost:8080/",
          "height": 380
        },
        "id": "q_rr-Ma7o7EF",
        "outputId": "90487bb9-84c9-4b7e-b396-3965eeef7a31"
      },
      "source": [
        "# Final evaluation of the model \n",
        "scores = model_steal.evaluate(x_test_rLabel, y_test_rLabel, verbose=1) \n",
        "print(\"Accuracy: %.2f%%\" % (scores[1]*100))"
      ],
      "execution_count": 212,
      "outputs": [
        {
          "output_type": "error",
          "ename": "RuntimeError",
          "evalue": "ignored",
          "traceback": [
            "\u001b[0;31m---------------------------------------------------------------------------\u001b[0m",
            "\u001b[0;31mRuntimeError\u001b[0m                              Traceback (most recent call last)",
            "\u001b[0;32m<ipython-input-212-5acf60ec3fd5>\u001b[0m in \u001b[0;36m<module>\u001b[0;34m()\u001b[0m\n\u001b[1;32m      1\u001b[0m \u001b[0;31m# Final evaluation of the model\u001b[0m\u001b[0;34m\u001b[0m\u001b[0;34m\u001b[0m\u001b[0;34m\u001b[0m\u001b[0m\n\u001b[0;32m----> 2\u001b[0;31m \u001b[0mscores\u001b[0m \u001b[0;34m=\u001b[0m \u001b[0mmodel_steal\u001b[0m\u001b[0;34m.\u001b[0m\u001b[0mevaluate\u001b[0m\u001b[0;34m(\u001b[0m\u001b[0mx_test_rLabel\u001b[0m\u001b[0;34m,\u001b[0m \u001b[0my_test_rLabel\u001b[0m\u001b[0;34m,\u001b[0m \u001b[0mverbose\u001b[0m\u001b[0;34m=\u001b[0m\u001b[0;36m1\u001b[0m\u001b[0;34m)\u001b[0m\u001b[0;34m\u001b[0m\u001b[0;34m\u001b[0m\u001b[0m\n\u001b[0m\u001b[1;32m      3\u001b[0m \u001b[0mprint\u001b[0m\u001b[0;34m(\u001b[0m\u001b[0;34m\"Accuracy: %.2f%%\"\u001b[0m \u001b[0;34m%\u001b[0m \u001b[0;34m(\u001b[0m\u001b[0mscores\u001b[0m\u001b[0;34m[\u001b[0m\u001b[0;36m1\u001b[0m\u001b[0;34m]\u001b[0m\u001b[0;34m*\u001b[0m\u001b[0;36m100\u001b[0m\u001b[0;34m)\u001b[0m\u001b[0;34m)\u001b[0m\u001b[0;34m\u001b[0m\u001b[0;34m\u001b[0m\u001b[0m\n",
            "\u001b[0;32m/usr/local/lib/python3.7/dist-packages/tensorflow/python/keras/engine/training.py\u001b[0m in \u001b[0;36mevaluate\u001b[0;34m(self, x, y, batch_size, verbose, sample_weight, steps, callbacks, max_queue_size, workers, use_multiprocessing, return_dict)\u001b[0m\n\u001b[1;32m   1342\u001b[0m     \u001b[0mself\u001b[0m\u001b[0;34m.\u001b[0m\u001b[0m_assert_compile_was_called\u001b[0m\u001b[0;34m(\u001b[0m\u001b[0;34m)\u001b[0m\u001b[0;34m\u001b[0m\u001b[0;34m\u001b[0m\u001b[0m\n\u001b[1;32m   1343\u001b[0m     \u001b[0mself\u001b[0m\u001b[0;34m.\u001b[0m\u001b[0m_check_call_args\u001b[0m\u001b[0;34m(\u001b[0m\u001b[0;34m'evaluate'\u001b[0m\u001b[0;34m)\u001b[0m\u001b[0;34m\u001b[0m\u001b[0;34m\u001b[0m\u001b[0m\n\u001b[0;32m-> 1344\u001b[0;31m     \u001b[0m_disallow_inside_tf_function\u001b[0m\u001b[0;34m(\u001b[0m\u001b[0;34m'evaluate'\u001b[0m\u001b[0;34m)\u001b[0m\u001b[0;34m\u001b[0m\u001b[0;34m\u001b[0m\u001b[0m\n\u001b[0m\u001b[1;32m   1345\u001b[0m \u001b[0;34m\u001b[0m\u001b[0m\n\u001b[1;32m   1346\u001b[0m     \u001b[0;32mwith\u001b[0m \u001b[0mself\u001b[0m\u001b[0;34m.\u001b[0m\u001b[0mdistribute_strategy\u001b[0m\u001b[0;34m.\u001b[0m\u001b[0mscope\u001b[0m\u001b[0;34m(\u001b[0m\u001b[0;34m)\u001b[0m\u001b[0;34m:\u001b[0m\u001b[0;34m\u001b[0m\u001b[0;34m\u001b[0m\u001b[0m\n",
            "\u001b[0;32m/usr/local/lib/python3.7/dist-packages/tensorflow/python/keras/engine/training.py\u001b[0m in \u001b[0;36m_disallow_inside_tf_function\u001b[0;34m(method_name)\u001b[0m\n\u001b[1;32m   2808\u001b[0m         \u001b[0;34m'directly on `Tensor`s inside a `tf.function` like: `model(x)`.'\u001b[0m\u001b[0;34m\u001b[0m\u001b[0;34m\u001b[0m\u001b[0m\n\u001b[1;32m   2809\u001b[0m     ).format(method_name=method_name)\n\u001b[0;32m-> 2810\u001b[0;31m     \u001b[0;32mraise\u001b[0m \u001b[0mRuntimeError\u001b[0m\u001b[0;34m(\u001b[0m\u001b[0merror_msg\u001b[0m\u001b[0;34m)\u001b[0m\u001b[0;34m\u001b[0m\u001b[0;34m\u001b[0m\u001b[0m\n\u001b[0m\u001b[1;32m   2811\u001b[0m \u001b[0;34m\u001b[0m\u001b[0m\n\u001b[1;32m   2812\u001b[0m \u001b[0;34m\u001b[0m\u001b[0m\n",
            "\u001b[0;31mRuntimeError\u001b[0m: Detected a call to `Model.evaluate` inside a `tf.function`. `Model.evaluate is a high-level endpoint that manages its own `tf.function`. Please move the call to `Model.evaluate` outside of all enclosing `tf.function`s. Note that you can call a `Model` directly on `Tensor`s inside a `tf.function` like: `model(x)`."
          ]
        }
      ]
    },
    {
      "cell_type": "code",
      "metadata": {
        "colab": {
          "base_uri": "https://localhost:8080/",
          "height": 417
        },
        "id": "-3BNhCSL9FYk",
        "outputId": "65e3771d-cc59-4494-ec8c-0c5500080617"
      },
      "source": [
        "import numpy as np\n",
        "\n",
        "actual_stolen = []\n",
        "print(x_train_noise.shape , len(x_train_noise))\n",
        "for i in range(len(x_train_noise)):\n",
        "  test_image =np.expand_dims(x_train_noise[i], axis =0) \n",
        "  result = model_steal.predict(test_image)\n",
        "  result=result.argmax()\n",
        "  if result==0: \n",
        "      actual_stolen.append(\"Aeroplane\") \n",
        "  elif result==1: \n",
        "      actual_stolen.append('Automobile') \n",
        "  elif result==2: \n",
        "      actual_stolen.append('Bird') \n",
        "  elif result==3: \n",
        "      actual_stolen.append('Cat') \n",
        "  elif result==4: \n",
        "      actual_stolen.append('Deer') \n",
        "  elif result==5: \n",
        "      actual_stolen.append('Dog') \n",
        "  elif result==6: \n",
        "      actual_stolen.append('Frog') \n",
        "  elif result==7: \n",
        "      actual_stolen.append('Horse') \n",
        "  elif result==8: \n",
        "      actual_stolen.append('Ship') \n",
        "  elif result==9: \n",
        "      actual_stolen.append('Truck') \n",
        "\n"
      ],
      "execution_count": 211,
      "outputs": [
        {
          "output_type": "error",
          "ename": "RuntimeError",
          "evalue": "ignored",
          "traceback": [
            "\u001b[0;31m---------------------------------------------------------------------------\u001b[0m",
            "\u001b[0;31mRuntimeError\u001b[0m                              Traceback (most recent call last)",
            "\u001b[0;32m<ipython-input-211-2694e8de4f12>\u001b[0m in \u001b[0;36m<module>\u001b[0;34m()\u001b[0m\n\u001b[1;32m      1\u001b[0m \u001b[0;32mimport\u001b[0m \u001b[0mnumpy\u001b[0m \u001b[0;32mas\u001b[0m \u001b[0mnp\u001b[0m\u001b[0;34m\u001b[0m\u001b[0;34m\u001b[0m\u001b[0m\n\u001b[1;32m      2\u001b[0m \u001b[0mtest_image\u001b[0m \u001b[0;34m=\u001b[0m\u001b[0mnp\u001b[0m\u001b[0;34m.\u001b[0m\u001b[0mexpand_dims\u001b[0m\u001b[0;34m(\u001b[0m\u001b[0mx_train_noise\u001b[0m\u001b[0;34m[\u001b[0m\u001b[0mi\u001b[0m\u001b[0;34m]\u001b[0m\u001b[0;34m,\u001b[0m \u001b[0maxis\u001b[0m \u001b[0;34m=\u001b[0m\u001b[0;36m0\u001b[0m\u001b[0;34m)\u001b[0m\u001b[0;34m\u001b[0m\u001b[0;34m\u001b[0m\u001b[0m\n\u001b[0;32m----> 3\u001b[0;31m \u001b[0mresult\u001b[0m \u001b[0;34m=\u001b[0m \u001b[0mmodel_steal\u001b[0m\u001b[0;34m.\u001b[0m\u001b[0mpredict\u001b[0m\u001b[0;34m(\u001b[0m\u001b[0mtest_image\u001b[0m\u001b[0;34m)\u001b[0m\u001b[0;34m\u001b[0m\u001b[0;34m\u001b[0m\u001b[0m\n\u001b[0m\u001b[1;32m      4\u001b[0m \u001b[0;34m\u001b[0m\u001b[0m\n\u001b[1;32m      5\u001b[0m \u001b[0mactual_stolen\u001b[0m \u001b[0;34m=\u001b[0m \u001b[0;34m[\u001b[0m\u001b[0;34m]\u001b[0m\u001b[0;34m\u001b[0m\u001b[0;34m\u001b[0m\u001b[0m\n",
            "\u001b[0;32m/usr/local/lib/python3.7/dist-packages/tensorflow/python/keras/engine/training.py\u001b[0m in \u001b[0;36mpredict\u001b[0;34m(self, x, batch_size, verbose, steps, callbacks, max_queue_size, workers, use_multiprocessing)\u001b[0m\n\u001b[1;32m   1577\u001b[0m     \u001b[0mversion_utils\u001b[0m\u001b[0;34m.\u001b[0m\u001b[0mdisallow_legacy_graph\u001b[0m\u001b[0;34m(\u001b[0m\u001b[0;34m'Model'\u001b[0m\u001b[0;34m,\u001b[0m \u001b[0;34m'predict'\u001b[0m\u001b[0;34m)\u001b[0m\u001b[0;34m\u001b[0m\u001b[0;34m\u001b[0m\u001b[0m\n\u001b[1;32m   1578\u001b[0m     \u001b[0mself\u001b[0m\u001b[0;34m.\u001b[0m\u001b[0m_check_call_args\u001b[0m\u001b[0;34m(\u001b[0m\u001b[0;34m'predict'\u001b[0m\u001b[0;34m)\u001b[0m\u001b[0;34m\u001b[0m\u001b[0;34m\u001b[0m\u001b[0m\n\u001b[0;32m-> 1579\u001b[0;31m     \u001b[0m_disallow_inside_tf_function\u001b[0m\u001b[0;34m(\u001b[0m\u001b[0;34m'predict'\u001b[0m\u001b[0;34m)\u001b[0m\u001b[0;34m\u001b[0m\u001b[0;34m\u001b[0m\u001b[0m\n\u001b[0m\u001b[1;32m   1580\u001b[0m \u001b[0;34m\u001b[0m\u001b[0m\n\u001b[1;32m   1581\u001b[0m     \u001b[0moutputs\u001b[0m \u001b[0;34m=\u001b[0m \u001b[0;32mNone\u001b[0m\u001b[0;34m\u001b[0m\u001b[0;34m\u001b[0m\u001b[0m\n",
            "\u001b[0;32m/usr/local/lib/python3.7/dist-packages/tensorflow/python/keras/engine/training.py\u001b[0m in \u001b[0;36m_disallow_inside_tf_function\u001b[0;34m(method_name)\u001b[0m\n\u001b[1;32m   2808\u001b[0m         \u001b[0;34m'directly on `Tensor`s inside a `tf.function` like: `model(x)`.'\u001b[0m\u001b[0;34m\u001b[0m\u001b[0;34m\u001b[0m\u001b[0m\n\u001b[1;32m   2809\u001b[0m     ).format(method_name=method_name)\n\u001b[0;32m-> 2810\u001b[0;31m     \u001b[0;32mraise\u001b[0m \u001b[0mRuntimeError\u001b[0m\u001b[0;34m(\u001b[0m\u001b[0merror_msg\u001b[0m\u001b[0;34m)\u001b[0m\u001b[0;34m\u001b[0m\u001b[0;34m\u001b[0m\u001b[0m\n\u001b[0m\u001b[1;32m   2811\u001b[0m \u001b[0;34m\u001b[0m\u001b[0m\n\u001b[1;32m   2812\u001b[0m \u001b[0;34m\u001b[0m\u001b[0m\n",
            "\u001b[0;31mRuntimeError\u001b[0m: Detected a call to `Model.predict` inside a `tf.function`. `Model.predict is a high-level endpoint that manages its own `tf.function`. Please move the call to `Model.predict` outside of all enclosing `tf.function`s. Note that you can call a `Model` directly on `Tensor`s inside a `tf.function` like: `model(x)`."
          ]
        }
      ]
    },
    {
      "cell_type": "code",
      "metadata": {
        "id": "k-9yXnPBr75v"
      },
      "source": [
        "print(y_test_rLabel[0], actual_stolen.shape)\n",
        "print(actual_stolen)"
      ],
      "execution_count": null,
      "outputs": []
    },
    {
      "cell_type": "code",
      "metadata": {
        "colab": {
          "base_uri": "https://localhost:8080/"
        },
        "id": "Tsy5KXqQrism",
        "outputId": "798b68f5-dd6e-4ef3-d441-9975f132a87b"
      },
      "source": [
        "predicted = []\n",
        "\n",
        "for i in range(len(rLabels)):\n",
        "  if y_test[i].argmax()==0: \n",
        "      predicted.append(\"Aeroplane\") \n",
        "  elif y_test[i].argmax()==1: \n",
        "      predicted.append('Automobile') \n",
        "  elif y_test[i].argmax()==2: \n",
        "      predicted.append('Bird') \n",
        "  elif y_test[i].argmax()==3: \n",
        "      predicted.append('Cat') \n",
        "  elif y_test[i].argmax()==4: \n",
        "      predicted.append('Deer') \n",
        "  elif y_test[i].argmax()==5: \n",
        "      predicted.append('Dog') \n",
        "  elif y_test[i].argmax()==6: \n",
        "      predicted.append('Frog') \n",
        "  elif y_test[i].argmax()==7: \n",
        "      predicted.append('Horse') \n",
        "  elif y_test[i].argmax()==8: \n",
        "      predicted.append('Ship') \n",
        "  elif y_test[i].argmax()==9: \n",
        "      predicted.append('Truck') \n",
        "\n",
        "\n",
        "print(len(actual),len(predicted))"
      ],
      "execution_count": 203,
      "outputs": [
        {
          "output_type": "stream",
          "text": [
            "10000 500\n"
          ],
          "name": "stdout"
        }
      ]
    },
    {
      "cell_type": "code",
      "metadata": {
        "colab": {
          "base_uri": "https://localhost:8080/",
          "height": 398
        },
        "id": "eyd-RRR3LrqL",
        "outputId": "ec7fdb69-686b-4c64-9b85-2dbaa80d56c3"
      },
      "source": [
        "import pandas as pd\n",
        "import seaborn as sn\n",
        "import matplotlib.pyplot as plt\n",
        "\n",
        "data = {'y_Actual':    actual,\n",
        "        'y_Predicted': predicted\n",
        "        }\n",
        "\n",
        "df = pd.DataFrame(data, columns=['y_Actual','y_Predicted'])\n",
        "confusion_matrix = pd.crosstab(df['y_Actual'], df['y_Predicted'], rownames=['Actual'], colnames=['Predicted'])\n",
        "\n",
        "fig, ax = plt.subplots(figsize=(10,10))  \n",
        "sn.heatmap(confusion_matrix, annot=True, linewidths=1.5)\n",
        "plt.show()"
      ],
      "execution_count": 204,
      "outputs": [
        {
          "output_type": "error",
          "ename": "ValueError",
          "evalue": "ignored",
          "traceback": [
            "\u001b[0;31m---------------------------------------------------------------------------\u001b[0m",
            "\u001b[0;31mValueError\u001b[0m                                Traceback (most recent call last)",
            "\u001b[0;32m<ipython-input-204-ad68e05ba821>\u001b[0m in \u001b[0;36m<module>\u001b[0;34m()\u001b[0m\n\u001b[1;32m      7\u001b[0m         }\n\u001b[1;32m      8\u001b[0m \u001b[0;34m\u001b[0m\u001b[0m\n\u001b[0;32m----> 9\u001b[0;31m \u001b[0mdf\u001b[0m \u001b[0;34m=\u001b[0m \u001b[0mpd\u001b[0m\u001b[0;34m.\u001b[0m\u001b[0mDataFrame\u001b[0m\u001b[0;34m(\u001b[0m\u001b[0mdata\u001b[0m\u001b[0;34m,\u001b[0m \u001b[0mcolumns\u001b[0m\u001b[0;34m=\u001b[0m\u001b[0;34m[\u001b[0m\u001b[0;34m'y_Actual'\u001b[0m\u001b[0;34m,\u001b[0m\u001b[0;34m'y_Predicted'\u001b[0m\u001b[0;34m]\u001b[0m\u001b[0;34m)\u001b[0m\u001b[0;34m\u001b[0m\u001b[0;34m\u001b[0m\u001b[0m\n\u001b[0m\u001b[1;32m     10\u001b[0m \u001b[0mconfusion_matrix\u001b[0m \u001b[0;34m=\u001b[0m \u001b[0mpd\u001b[0m\u001b[0;34m.\u001b[0m\u001b[0mcrosstab\u001b[0m\u001b[0;34m(\u001b[0m\u001b[0mdf\u001b[0m\u001b[0;34m[\u001b[0m\u001b[0;34m'y_Actual'\u001b[0m\u001b[0;34m]\u001b[0m\u001b[0;34m,\u001b[0m \u001b[0mdf\u001b[0m\u001b[0;34m[\u001b[0m\u001b[0;34m'y_Predicted'\u001b[0m\u001b[0;34m]\u001b[0m\u001b[0;34m,\u001b[0m \u001b[0mrownames\u001b[0m\u001b[0;34m=\u001b[0m\u001b[0;34m[\u001b[0m\u001b[0;34m'Actual'\u001b[0m\u001b[0;34m]\u001b[0m\u001b[0;34m,\u001b[0m \u001b[0mcolnames\u001b[0m\u001b[0;34m=\u001b[0m\u001b[0;34m[\u001b[0m\u001b[0;34m'Predicted'\u001b[0m\u001b[0;34m]\u001b[0m\u001b[0;34m)\u001b[0m\u001b[0;34m\u001b[0m\u001b[0;34m\u001b[0m\u001b[0m\n\u001b[1;32m     11\u001b[0m \u001b[0;34m\u001b[0m\u001b[0m\n",
            "\u001b[0;32m/usr/local/lib/python3.7/dist-packages/pandas/core/frame.py\u001b[0m in \u001b[0;36m__init__\u001b[0;34m(self, data, index, columns, dtype, copy)\u001b[0m\n\u001b[1;32m    466\u001b[0m \u001b[0;34m\u001b[0m\u001b[0m\n\u001b[1;32m    467\u001b[0m         \u001b[0;32melif\u001b[0m \u001b[0misinstance\u001b[0m\u001b[0;34m(\u001b[0m\u001b[0mdata\u001b[0m\u001b[0;34m,\u001b[0m \u001b[0mdict\u001b[0m\u001b[0;34m)\u001b[0m\u001b[0;34m:\u001b[0m\u001b[0;34m\u001b[0m\u001b[0;34m\u001b[0m\u001b[0m\n\u001b[0;32m--> 468\u001b[0;31m             \u001b[0mmgr\u001b[0m \u001b[0;34m=\u001b[0m \u001b[0minit_dict\u001b[0m\u001b[0;34m(\u001b[0m\u001b[0mdata\u001b[0m\u001b[0;34m,\u001b[0m \u001b[0mindex\u001b[0m\u001b[0;34m,\u001b[0m \u001b[0mcolumns\u001b[0m\u001b[0;34m,\u001b[0m \u001b[0mdtype\u001b[0m\u001b[0;34m=\u001b[0m\u001b[0mdtype\u001b[0m\u001b[0;34m)\u001b[0m\u001b[0;34m\u001b[0m\u001b[0;34m\u001b[0m\u001b[0m\n\u001b[0m\u001b[1;32m    469\u001b[0m         \u001b[0;32melif\u001b[0m \u001b[0misinstance\u001b[0m\u001b[0;34m(\u001b[0m\u001b[0mdata\u001b[0m\u001b[0;34m,\u001b[0m \u001b[0mma\u001b[0m\u001b[0;34m.\u001b[0m\u001b[0mMaskedArray\u001b[0m\u001b[0;34m)\u001b[0m\u001b[0;34m:\u001b[0m\u001b[0;34m\u001b[0m\u001b[0;34m\u001b[0m\u001b[0m\n\u001b[1;32m    470\u001b[0m             \u001b[0;32mimport\u001b[0m \u001b[0mnumpy\u001b[0m\u001b[0;34m.\u001b[0m\u001b[0mma\u001b[0m\u001b[0;34m.\u001b[0m\u001b[0mmrecords\u001b[0m \u001b[0;32mas\u001b[0m \u001b[0mmrecords\u001b[0m\u001b[0;34m\u001b[0m\u001b[0;34m\u001b[0m\u001b[0m\n",
            "\u001b[0;32m/usr/local/lib/python3.7/dist-packages/pandas/core/internals/construction.py\u001b[0m in \u001b[0;36minit_dict\u001b[0;34m(data, index, columns, dtype)\u001b[0m\n\u001b[1;32m    252\u001b[0m             \u001b[0;31m# GH10856\u001b[0m\u001b[0;34m\u001b[0m\u001b[0;34m\u001b[0m\u001b[0;34m\u001b[0m\u001b[0m\n\u001b[1;32m    253\u001b[0m             \u001b[0;31m# raise ValueError if only scalars in dict\u001b[0m\u001b[0;34m\u001b[0m\u001b[0;34m\u001b[0m\u001b[0;34m\u001b[0m\u001b[0m\n\u001b[0;32m--> 254\u001b[0;31m             \u001b[0mindex\u001b[0m \u001b[0;34m=\u001b[0m \u001b[0mextract_index\u001b[0m\u001b[0;34m(\u001b[0m\u001b[0marrays\u001b[0m\u001b[0;34m[\u001b[0m\u001b[0;34m~\u001b[0m\u001b[0mmissing\u001b[0m\u001b[0;34m]\u001b[0m\u001b[0;34m)\u001b[0m\u001b[0;34m\u001b[0m\u001b[0;34m\u001b[0m\u001b[0m\n\u001b[0m\u001b[1;32m    255\u001b[0m         \u001b[0;32melse\u001b[0m\u001b[0;34m:\u001b[0m\u001b[0;34m\u001b[0m\u001b[0;34m\u001b[0m\u001b[0m\n\u001b[1;32m    256\u001b[0m             \u001b[0mindex\u001b[0m \u001b[0;34m=\u001b[0m \u001b[0mensure_index\u001b[0m\u001b[0;34m(\u001b[0m\u001b[0mindex\u001b[0m\u001b[0;34m)\u001b[0m\u001b[0;34m\u001b[0m\u001b[0;34m\u001b[0m\u001b[0m\n",
            "\u001b[0;32m/usr/local/lib/python3.7/dist-packages/pandas/core/internals/construction.py\u001b[0m in \u001b[0;36mextract_index\u001b[0;34m(data)\u001b[0m\n\u001b[1;32m    395\u001b[0m             \u001b[0mlengths\u001b[0m \u001b[0;34m=\u001b[0m \u001b[0mlist\u001b[0m\u001b[0;34m(\u001b[0m\u001b[0mset\u001b[0m\u001b[0;34m(\u001b[0m\u001b[0mraw_lengths\u001b[0m\u001b[0;34m)\u001b[0m\u001b[0;34m)\u001b[0m\u001b[0;34m\u001b[0m\u001b[0;34m\u001b[0m\u001b[0m\n\u001b[1;32m    396\u001b[0m             \u001b[0;32mif\u001b[0m \u001b[0mlen\u001b[0m\u001b[0;34m(\u001b[0m\u001b[0mlengths\u001b[0m\u001b[0;34m)\u001b[0m \u001b[0;34m>\u001b[0m \u001b[0;36m1\u001b[0m\u001b[0;34m:\u001b[0m\u001b[0;34m\u001b[0m\u001b[0;34m\u001b[0m\u001b[0m\n\u001b[0;32m--> 397\u001b[0;31m                 \u001b[0;32mraise\u001b[0m \u001b[0mValueError\u001b[0m\u001b[0;34m(\u001b[0m\u001b[0;34m\"arrays must all be same length\"\u001b[0m\u001b[0;34m)\u001b[0m\u001b[0;34m\u001b[0m\u001b[0;34m\u001b[0m\u001b[0m\n\u001b[0m\u001b[1;32m    398\u001b[0m \u001b[0;34m\u001b[0m\u001b[0m\n\u001b[1;32m    399\u001b[0m             \u001b[0;32mif\u001b[0m \u001b[0mhave_dicts\u001b[0m\u001b[0;34m:\u001b[0m\u001b[0;34m\u001b[0m\u001b[0;34m\u001b[0m\u001b[0m\n",
            "\u001b[0;31mValueError\u001b[0m: arrays must all be same length"
          ]
        }
      ]
    },
    {
      "cell_type": "code",
      "metadata": {
        "id": "nAfb9SqcLrsw"
      },
      "source": [
        "from sklearn.metrics import classification_report\n",
        "target_names = ['Aeroplane', 'Automobile', 'Bird','Cat','Deer','Dog', 'Frog','Horse', 'Ship', 'Truck']\n",
        "print(classification_report(actual, predicted, target_names=target_names))"
      ],
      "execution_count": null,
      "outputs": []
    },
    {
      "cell_type": "code",
      "metadata": {
        "id": "ag8KWqh0LwXP"
      },
      "source": [
        "from keras.models import load_model \n",
        "model.save('cifar-10_stolen_model.h5')"
      ],
      "execution_count": null,
      "outputs": []
    },
    {
      "cell_type": "code",
      "metadata": {
        "id": "I2-t9JmNL0sy"
      },
      "source": [
        "import tensorflow as tf\n",
        "\n",
        "converter = tf.lite.TFLiteConverter.from_keras_model(model)\n",
        "tflite_model = converter.convert()\n",
        "\n",
        "# Save the model.\n",
        "with open('cifar-10_stolen_model.tflite', 'wb') as f:\n",
        "  f.write(tflite_model)"
      ],
      "execution_count": null,
      "outputs": []
    },
    {
      "cell_type": "markdown",
      "metadata": {
        "id": "RXmE8SkmqctH"
      },
      "source": [
        "\n",
        "*   1% = 500 images ==> 13.32 % accuracy\n",
        "*   2% = 1000 images ==> % accuracy\n",
        "*   3% = 1500 images ==> % accuracy\n",
        "*   4% = 2000 images ==> % accuracy\n",
        "*   5% = 2500 images ==> % accuracy\n",
        "*   6% = 3000 images ==> % accuracy\n",
        "* 7% = 3500 images ==> % accuracy\n",
        "* 8% = 4000 images ==> % accuracy\n",
        "* 9% = 4500 images ==> % accuracy\n",
        "* 10% = 5000 images ==> % accuracy\n",
        "\n",
        "\n",
        "\n",
        "\n"
      ]
    }
  ]
}